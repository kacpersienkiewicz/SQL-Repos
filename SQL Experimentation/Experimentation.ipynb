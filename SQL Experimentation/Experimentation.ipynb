{
 "cells": [
  {
   "cell_type": "markdown",
   "metadata": {},
   "source": [
    "The point of this project is to use the detailed NBA sqlite database to practice Aggregate Functions (Count, Sum, Distinct, Group by etc.), Where, Joins, Union, Subqueries, and With. Possibly working with pivot or case."
   ]
  },
  {
   "cell_type": "code",
   "execution_count": 1,
   "metadata": {},
   "outputs": [],
   "source": [
    "import sqlite3 as sql\n",
    "import pandas as pd\n",
    "import numpy as np\n",
    "import seaborn as sns"
   ]
  },
  {
   "cell_type": "code",
   "execution_count": 2,
   "metadata": {},
   "outputs": [],
   "source": [
    "con = sql.connect(\"nba.sqlite\")\n",
    "cur = con.cursor()"
   ]
  },
  {
   "cell_type": "code",
   "execution_count": 3,
   "metadata": {},
   "outputs": [
    {
     "data": {
      "text/plain": [
       "[('game',),\n",
       " ('game_summary',),\n",
       " ('other_stats',),\n",
       " ('officials',),\n",
       " ('inactive_players',),\n",
       " ('game_info',),\n",
       " ('line_score',),\n",
       " ('play_by_play',),\n",
       " ('player',),\n",
       " ('team',),\n",
       " ('common_player_info',),\n",
       " ('team_details',),\n",
       " ('team_history',),\n",
       " ('draft_combine_stats',),\n",
       " ('draft_history',),\n",
       " ('team_info_common',)]"
      ]
     },
     "execution_count": 3,
     "metadata": {},
     "output_type": "execute_result"
    }
   ],
   "source": [
    "query = \"SELECT name FROM sqlite_master WHERE type='table';\"\n",
    "cur.execute(query)\n",
    "tables = cur.fetchall()\n",
    "tables"
   ]
  },
  {
   "cell_type": "code",
   "execution_count": 4,
   "metadata": {},
   "outputs": [
    {
     "data": {
      "text/plain": [
       "{('game',): ['season_id',\n",
       "  'team_id_home',\n",
       "  'team_abbreviation_home',\n",
       "  'team_name_home',\n",
       "  'game_id',\n",
       "  'game_date',\n",
       "  'matchup_home',\n",
       "  'wl_home',\n",
       "  'min',\n",
       "  'fgm_home',\n",
       "  'fga_home',\n",
       "  'fg_pct_home',\n",
       "  'fg3m_home',\n",
       "  'fg3a_home',\n",
       "  'fg3_pct_home',\n",
       "  'ftm_home',\n",
       "  'fta_home',\n",
       "  'ft_pct_home',\n",
       "  'oreb_home',\n",
       "  'dreb_home',\n",
       "  'reb_home',\n",
       "  'ast_home',\n",
       "  'stl_home',\n",
       "  'blk_home',\n",
       "  'tov_home',\n",
       "  'pf_home',\n",
       "  'pts_home',\n",
       "  'plus_minus_home',\n",
       "  'video_available_home',\n",
       "  'team_id_away',\n",
       "  'team_abbreviation_away',\n",
       "  'team_name_away',\n",
       "  'matchup_away',\n",
       "  'wl_away',\n",
       "  'fgm_away',\n",
       "  'fga_away',\n",
       "  'fg_pct_away',\n",
       "  'fg3m_away',\n",
       "  'fg3a_away',\n",
       "  'fg3_pct_away',\n",
       "  'ftm_away',\n",
       "  'fta_away',\n",
       "  'ft_pct_away',\n",
       "  'oreb_away',\n",
       "  'dreb_away',\n",
       "  'reb_away',\n",
       "  'ast_away',\n",
       "  'stl_away',\n",
       "  'blk_away',\n",
       "  'tov_away',\n",
       "  'pf_away',\n",
       "  'pts_away',\n",
       "  'plus_minus_away',\n",
       "  'video_available_away',\n",
       "  'season_type'],\n",
       " ('game_summary',): ['game_date_est',\n",
       "  'game_sequence',\n",
       "  'game_id',\n",
       "  'game_status_id',\n",
       "  'game_status_text',\n",
       "  'gamecode',\n",
       "  'home_team_id',\n",
       "  'visitor_team_id',\n",
       "  'season',\n",
       "  'live_period',\n",
       "  'live_pc_time',\n",
       "  'natl_tv_broadcaster_abbreviation',\n",
       "  'live_period_time_bcast',\n",
       "  'wh_status'],\n",
       " ('other_stats',): ['game_id',\n",
       "  'league_id',\n",
       "  'team_id_home',\n",
       "  'team_abbreviation_home',\n",
       "  'team_city_home',\n",
       "  'pts_paint_home',\n",
       "  'pts_2nd_chance_home',\n",
       "  'pts_fb_home',\n",
       "  'largest_lead_home',\n",
       "  'lead_changes',\n",
       "  'times_tied',\n",
       "  'team_turnovers_home',\n",
       "  'total_turnovers_home',\n",
       "  'team_rebounds_home',\n",
       "  'pts_off_to_home',\n",
       "  'team_id_away',\n",
       "  'team_abbreviation_away',\n",
       "  'team_city_away',\n",
       "  'pts_paint_away',\n",
       "  'pts_2nd_chance_away',\n",
       "  'pts_fb_away',\n",
       "  'largest_lead_away',\n",
       "  'team_turnovers_away',\n",
       "  'total_turnovers_away',\n",
       "  'team_rebounds_away',\n",
       "  'pts_off_to_away'],\n",
       " ('officials',): ['game_id',\n",
       "  'official_id',\n",
       "  'first_name',\n",
       "  'last_name',\n",
       "  'jersey_num'],\n",
       " ('inactive_players',): ['game_id',\n",
       "  'player_id',\n",
       "  'first_name',\n",
       "  'last_name',\n",
       "  'jersey_num',\n",
       "  'team_id',\n",
       "  'team_city',\n",
       "  'team_name',\n",
       "  'team_abbreviation'],\n",
       " ('game_info',): ['game_id', 'game_date', 'attendance', 'game_time'],\n",
       " ('line_score',): ['game_date_est',\n",
       "  'game_sequence',\n",
       "  'game_id',\n",
       "  'team_id_home',\n",
       "  'team_abbreviation_home',\n",
       "  'team_city_name_home',\n",
       "  'team_nickname_home',\n",
       "  'team_wins_losses_home',\n",
       "  'pts_qtr1_home',\n",
       "  'pts_qtr2_home',\n",
       "  'pts_qtr3_home',\n",
       "  'pts_qtr4_home',\n",
       "  'pts_ot1_home',\n",
       "  'pts_ot2_home',\n",
       "  'pts_ot3_home',\n",
       "  'pts_ot4_home',\n",
       "  'pts_ot5_home',\n",
       "  'pts_ot6_home',\n",
       "  'pts_ot7_home',\n",
       "  'pts_ot8_home',\n",
       "  'pts_ot9_home',\n",
       "  'pts_ot10_home',\n",
       "  'pts_home',\n",
       "  'team_id_away',\n",
       "  'team_abbreviation_away',\n",
       "  'team_city_name_away',\n",
       "  'team_nickname_away',\n",
       "  'team_wins_losses_away',\n",
       "  'pts_qtr1_away',\n",
       "  'pts_qtr2_away',\n",
       "  'pts_qtr3_away',\n",
       "  'pts_qtr4_away',\n",
       "  'pts_ot1_away',\n",
       "  'pts_ot2_away',\n",
       "  'pts_ot3_away',\n",
       "  'pts_ot4_away',\n",
       "  'pts_ot5_away',\n",
       "  'pts_ot6_away',\n",
       "  'pts_ot7_away',\n",
       "  'pts_ot8_away',\n",
       "  'pts_ot9_away',\n",
       "  'pts_ot10_away',\n",
       "  'pts_away'],\n",
       " ('play_by_play',): ['game_id',\n",
       "  'eventnum',\n",
       "  'eventmsgtype',\n",
       "  'eventmsgactiontype',\n",
       "  'period',\n",
       "  'wctimestring',\n",
       "  'pctimestring',\n",
       "  'homedescription',\n",
       "  'neutraldescription',\n",
       "  'visitordescription',\n",
       "  'score',\n",
       "  'scoremargin',\n",
       "  'person1type',\n",
       "  'player1_id',\n",
       "  'player1_name',\n",
       "  'player1_team_id',\n",
       "  'player1_team_city',\n",
       "  'player1_team_nickname',\n",
       "  'player1_team_abbreviation',\n",
       "  'person2type',\n",
       "  'player2_id',\n",
       "  'player2_name',\n",
       "  'player2_team_id',\n",
       "  'player2_team_city',\n",
       "  'player2_team_nickname',\n",
       "  'player2_team_abbreviation',\n",
       "  'person3type',\n",
       "  'player3_id',\n",
       "  'player3_name',\n",
       "  'player3_team_id',\n",
       "  'player3_team_city',\n",
       "  'player3_team_nickname',\n",
       "  'player3_team_abbreviation',\n",
       "  'video_available_flag'],\n",
       " ('player',): ['id', 'full_name', 'first_name', 'last_name', 'is_active'],\n",
       " ('team',): ['id',\n",
       "  'full_name',\n",
       "  'abbreviation',\n",
       "  'nickname',\n",
       "  'city',\n",
       "  'state',\n",
       "  'year_founded'],\n",
       " ('common_player_info',): ['person_id',\n",
       "  'first_name',\n",
       "  'last_name',\n",
       "  'display_first_last',\n",
       "  'display_last_comma_first',\n",
       "  'display_fi_last',\n",
       "  'player_slug',\n",
       "  'birthdate',\n",
       "  'school',\n",
       "  'country',\n",
       "  'last_affiliation',\n",
       "  'height',\n",
       "  'weight',\n",
       "  'season_exp',\n",
       "  'jersey',\n",
       "  'position',\n",
       "  'rosterstatus',\n",
       "  'games_played_current_season_flag',\n",
       "  'team_id',\n",
       "  'team_name',\n",
       "  'team_abbreviation',\n",
       "  'team_code',\n",
       "  'team_city',\n",
       "  'playercode',\n",
       "  'from_year',\n",
       "  'to_year',\n",
       "  'dleague_flag',\n",
       "  'nba_flag',\n",
       "  'games_played_flag',\n",
       "  'draft_year',\n",
       "  'draft_round',\n",
       "  'draft_number',\n",
       "  'greatest_75_flag'],\n",
       " ('team_details',): ['team_id',\n",
       "  'abbreviation',\n",
       "  'nickname',\n",
       "  'yearfounded',\n",
       "  'city',\n",
       "  'arena',\n",
       "  'arenacapacity',\n",
       "  'owner',\n",
       "  'generalmanager',\n",
       "  'headcoach',\n",
       "  'dleagueaffiliation',\n",
       "  'facebook',\n",
       "  'instagram',\n",
       "  'twitter'],\n",
       " ('team_history',): ['team_id',\n",
       "  'city',\n",
       "  'nickname',\n",
       "  'year_founded',\n",
       "  'year_active_till'],\n",
       " ('draft_combine_stats',): ['season',\n",
       "  'player_id',\n",
       "  'first_name',\n",
       "  'last_name',\n",
       "  'player_name',\n",
       "  'position',\n",
       "  'height_wo_shoes',\n",
       "  'height_wo_shoes_ft_in',\n",
       "  'height_w_shoes',\n",
       "  'height_w_shoes_ft_in',\n",
       "  'weight',\n",
       "  'wingspan',\n",
       "  'wingspan_ft_in',\n",
       "  'standing_reach',\n",
       "  'standing_reach_ft_in',\n",
       "  'body_fat_pct',\n",
       "  'hand_length',\n",
       "  'hand_width',\n",
       "  'standing_vertical_leap',\n",
       "  'max_vertical_leap',\n",
       "  'lane_agility_time',\n",
       "  'modified_lane_agility_time',\n",
       "  'three_quarter_sprint',\n",
       "  'bench_press',\n",
       "  'spot_fifteen_corner_left',\n",
       "  'spot_fifteen_break_left',\n",
       "  'spot_fifteen_top_key',\n",
       "  'spot_fifteen_break_right',\n",
       "  'spot_fifteen_corner_right',\n",
       "  'spot_college_corner_left',\n",
       "  'spot_college_break_left',\n",
       "  'spot_college_top_key',\n",
       "  'spot_college_break_right',\n",
       "  'spot_college_corner_right',\n",
       "  'spot_nba_corner_left',\n",
       "  'spot_nba_break_left',\n",
       "  'spot_nba_top_key',\n",
       "  'spot_nba_break_right',\n",
       "  'spot_nba_corner_right',\n",
       "  'off_drib_fifteen_break_left',\n",
       "  'off_drib_fifteen_top_key',\n",
       "  'off_drib_fifteen_break_right',\n",
       "  'off_drib_college_break_left',\n",
       "  'off_drib_college_top_key',\n",
       "  'off_drib_college_break_right',\n",
       "  'on_move_fifteen',\n",
       "  'on_move_college'],\n",
       " ('draft_history',): ['person_id',\n",
       "  'player_name',\n",
       "  'season',\n",
       "  'round_number',\n",
       "  'round_pick',\n",
       "  'overall_pick',\n",
       "  'draft_type',\n",
       "  'team_id',\n",
       "  'team_city',\n",
       "  'team_name',\n",
       "  'team_abbreviation',\n",
       "  'organization',\n",
       "  'organization_type',\n",
       "  'player_profile_flag'],\n",
       " ('team_info_common',): ['team_id',\n",
       "  'season_year',\n",
       "  'team_city',\n",
       "  'team_name',\n",
       "  'team_abbreviation',\n",
       "  'team_conference',\n",
       "  'team_division',\n",
       "  'team_code',\n",
       "  'team_slug',\n",
       "  'w',\n",
       "  'l',\n",
       "  'pct',\n",
       "  'conf_rank',\n",
       "  'div_rank',\n",
       "  'min_year',\n",
       "  'max_year',\n",
       "  'league_id',\n",
       "  'season_id',\n",
       "  'pts_rank',\n",
       "  'pts_pg',\n",
       "  'reb_rank',\n",
       "  'reb_pg',\n",
       "  'ast_rank',\n",
       "  'ast_pg',\n",
       "  'opp_pts_rank',\n",
       "  'opp_pts_pg']}"
      ]
     },
     "execution_count": 4,
     "metadata": {},
     "output_type": "execute_result"
    }
   ],
   "source": [
    "columnDict = {}\n",
    "\n",
    "for i,table in enumerate(tables):\n",
    "    query = \"SELECT * FROM %s;\" % table\n",
    "    cur.execute(query)\n",
    "    cols = list(cur.description)\n",
    "    valuelist = []\n",
    "    for j, col in enumerate(cols):\n",
    "        collist = list(col)\n",
    "        valuelist.append(collist[0])\n",
    "    columnDict[table] = valuelist\n",
    "\n",
    "columnDict"
   ]
  },
  {
   "cell_type": "markdown",
   "metadata": {},
   "source": [
    "# Aggregate Function Experimentation"
   ]
  },
  {
   "cell_type": "code",
   "execution_count": 60,
   "metadata": {},
   "outputs": [
    {
     "data": {
      "text/plain": [
       "[(9.851428571428572, '1946'),\n",
       " (10.865116279069767, '1947'),\n",
       " (10.721052631578948, '1948'),\n",
       " (11.723440134907252, '1949'),\n",
       " (10.599476439790577, '1950'),\n",
       " (10.168067226890756, '1951'),\n",
       " (10.14095744680851, '1952'),\n",
       " (10.020114942528735, '1953'),\n",
       " (8.279742765273312, '1954'),\n",
       " (9.549520766773163, '1955'),\n",
       " (9.27831715210356, '1956'),\n",
       " (10.513793103448275, '1957'),\n",
       " (10.655172413793103, '1958'),\n",
       " (11.330275229357799, '1959'),\n",
       " (22.0, '1960')]"
      ]
     },
     "execution_count": 60,
     "metadata": {},
     "output_type": "execute_result"
    }
   ],
   "source": [
    "query =\"\"\"SELECT AVG(ABS(plus_minus_home)) as PM, SUBSTRING(season_id,2,4) as Year FROM game group by Year order by Year\"\"\"\n",
    "cur.execute(query)\n",
    "cur.fetchmany(15)"
   ]
  },
  {
   "cell_type": "code",
   "execution_count": 32,
   "metadata": {},
   "outputs": [
    {
     "data": {
      "text/plain": [
       "[('31960',\n",
       "  '1610616833',\n",
       "  'EST',\n",
       "  'East NBA All Stars East',\n",
       "  '0036000001',\n",
       "  '1961-01-17 00:00:00',\n",
       "  'EST vs. WST',\n",
       "  'L',\n",
       "  240,\n",
       "  49.0,\n",
       "  117.0,\n",
       "  0.419,\n",
       "  None,\n",
       "  None,\n",
       "  None,\n",
       "  33.0,\n",
       "  47.0,\n",
       "  0.702,\n",
       "  None,\n",
       "  None,\n",
       "  63.0,\n",
       "  28.0,\n",
       "  None,\n",
       "  None,\n",
       "  None,\n",
       "  30.0,\n",
       "  131.0,\n",
       "  -22,\n",
       "  0,\n",
       "  '1610616834',\n",
       "  'WST',\n",
       "  'West NBA All Stars West',\n",
       "  'WST @ EST',\n",
       "  'W',\n",
       "  58.0,\n",
       "  115.0,\n",
       "  0.504,\n",
       "  None,\n",
       "  None,\n",
       "  None,\n",
       "  37.0,\n",
       "  47.0,\n",
       "  0.787,\n",
       "  None,\n",
       "  None,\n",
       "  55.0,\n",
       "  37.0,\n",
       "  None,\n",
       "  None,\n",
       "  None,\n",
       "  30.0,\n",
       "  153.0,\n",
       "  22,\n",
       "  0,\n",
       "  'All-Star')]"
      ]
     },
     "execution_count": 32,
     "metadata": {},
     "output_type": "execute_result"
    }
   ],
   "source": [
    "query =\"\"\"SELECT * FROM game WHERE SUBSTRING(season_id,2,4) ='1960'\"\"\"\n",
    "cur.execute(query)\n",
    "cur.fetchall()"
   ]
  },
  {
   "cell_type": "markdown",
   "metadata": {},
   "source": [
    "I noticed 1960's Plus-Minus was strange and had to investigate, and so it seems like the only data is for the All Star Game so it makes sense that the value is strangely round. "
   ]
  },
  {
   "cell_type": "code",
   "execution_count": 59,
   "metadata": {},
   "outputs": [
    {
     "data": {
      "text/plain": [
       "[('Boston Celtics', 315242.0),\n",
       " ('New York Knicks', 292706.0),\n",
       " ('Los Angeles Lakers', 268826.0),\n",
       " ('Detroit Pistons', 261218.0),\n",
       " ('Philadelphia 76ers', 251917.0)]"
      ]
     },
     "execution_count": 59,
     "metadata": {},
     "output_type": "execute_result"
    }
   ],
   "source": [
    "query =\"\"\"SELECT team_name_away as Team, SUM(pts_away) as PTS FROM game group by team_name_away order by PTS DESC\"\"\"\n",
    "cur.execute(query)\n",
    "cur.fetchmany(5)"
   ]
  },
  {
   "cell_type": "code",
   "execution_count": 58,
   "metadata": {},
   "outputs": [
    {
     "data": {
      "text/plain": [
       "[('Adelaide 36ers',),\n",
       " ('Anderson Packers',),\n",
       " ('Athens Olympiacos',),\n",
       " ('Atlanta Hawks',),\n",
       " ('Baltimore Bullets',)]"
      ]
     },
     "execution_count": 58,
     "metadata": {},
     "output_type": "execute_result"
    }
   ],
   "source": [
    "query =\"\"\"SELECT DISTINCT(team_name_away) FROM game order by team_name_away\"\"\"\n",
    "cur.execute(query)\n",
    "cur.fetchmany(5)"
   ]
  },
  {
   "cell_type": "markdown",
   "metadata": {},
   "source": [
    "# Where Statements"
   ]
  },
  {
   "cell_type": "code",
   "execution_count": 56,
   "metadata": {},
   "outputs": [
    {
     "data": {
      "text/plain": [
       "[('Memphis Grizzlies', 'Oklahoma City Thunder', 73, '2021-12-02 00:00:00'),\n",
       " ('Cleveland Cavaliers', 'Miami Heat', 68, '1991-12-17 00:00:00'),\n",
       " ('Charlotte Hornets', 'Dallas Mavericks', 68, '2021-10-13 00:00:00'),\n",
       " ('Indiana Pacers', 'Portland Trail Blazers', 65, '1998-02-27 00:00:00'),\n",
       " ('Los Angeles Lakers', 'Golden State Warriors', 63, '1972-03-19 00:00:00')]"
      ]
     },
     "execution_count": 56,
     "metadata": {},
     "output_type": "execute_result"
    }
   ],
   "source": [
    "query =\"\"\"SELECT team_name_home, team_name_away, ABS(plus_minus_home) as PM, game_date FROM game WHERE PM >= 20 order by PM DESC\"\"\"\n",
    "cur.execute(query)\n",
    "cur.fetchmany(5)"
   ]
  },
  {
   "cell_type": "code",
   "execution_count": 57,
   "metadata": {},
   "outputs": [
    {
     "data": {
      "text/plain": [
       "[('Tyler', 'Ulis', 68.75),\n",
       " ('John', 'Lucas III', 69.25),\n",
       " ('Cordell', 'Henry', 68.0),\n",
       " ('Daryl', 'Dorsey', 71.25),\n",
       " ('Max', 'Abmas', 70.5)]"
      ]
     },
     "execution_count": 57,
     "metadata": {},
     "output_type": "execute_result"
    }
   ],
   "source": [
    "query =\"\"\"SELECT first_name, last_name, height_wo_shoes FROM draft_combine_stats WHERE position in ('G', 'PG', 'SG') AND Wingspan < 75 order by Weight\"\"\"\n",
    "cur.execute(query)\n",
    "cur.fetchmany(5)"
   ]
  },
  {
   "cell_type": "markdown",
   "metadata": {},
   "source": [
    "# JOINS"
   ]
  },
  {
   "cell_type": "code",
   "execution_count": 71,
   "metadata": {},
   "outputs": [
    {
     "data": {
      "text/plain": [
       "[(108713, '2010-02-14 00:00:00', '1-0', 'EST', '0-1', 'WST'),\n",
       " (108713, '2010-02-14 00:00:00', '1-0', 'EST', '0-1', 'WST'),\n",
       " (108713, '2010-02-14 00:00:00', '1-0', 'EST', '0-1', 'WST'),\n",
       " (108713, '2010-02-14 00:00:00', '1-0', 'EST', '0-1', 'WST'),\n",
       " (68323, '2023-01-13 00:00:00', '13-30', 'SAS', '21-21', 'GSW'),\n",
       " (64512, '2006-10-14 00:00:00', '2-1', 'MIL', '0-3', 'DAL'),\n",
       " (62976, '2006-10-17 00:00:00', '2-1', 'LAC', '3-2', 'PHX'),\n",
       " (62976, '2006-10-19 00:00:00', '2-1', 'SAC', '4-2', 'PHX'),\n",
       " (60672, '2006-10-20 00:00:00', '1-3', 'POR', '1-3', 'SEA'),\n",
       " (60416, '2006-10-17 00:00:00', '2-1', 'HOU', '0-4', 'DAL'),\n",
       " (60416, '2006-10-19 00:00:00', '2-3', 'LAL', '3-1', 'LAC'),\n",
       " (56576, '2006-10-24 00:00:00', '3-4', 'MEM', '5-1', 'CHI'),\n",
       " (55808, '2006-10-24 00:00:00', '4-1', 'NYK', '2-4', 'PHI'),\n",
       " (54528, '2006-10-21 00:00:00', '3-3', 'MEM', '5-1', 'ORL'),\n",
       " (53504, '2006-10-18 00:00:00', '3-1', 'HOU', '2-2', 'MIL'),\n",
       " (49664, '2006-10-14 00:00:00', '0-2', 'MIA', '2-1', 'ATL'),\n",
       " (49664, '2006-10-22 00:00:00', '4-2', 'DET', '3-2', 'DEN'),\n",
       " (49664, '2006-10-25 00:00:00', '3-4', 'PHI', '2-5', 'NJN'),\n",
       " (47872, '2006-10-21 00:00:00', '2-2', 'DEN', '3-3', 'MIL'),\n",
       " (46848, '2006-10-19 00:00:00', '0-3', 'POR', '2-2', 'UTA')]"
      ]
     },
     "execution_count": 71,
     "metadata": {},
     "output_type": "execute_result"
    }
   ],
   "source": [
    "query =\"\"\"SELECT GI.attendance as attendance,\n",
    "GI.game_date as date,\n",
    "LS.team_wins_losses_home as HomeWL,\n",
    "LS.team_abbreviation_home as Home, \n",
    "LS.team_wins_losses_away as AwayWL,\n",
    "LS.team_abbreviation_away as Away \n",
    "FROM game_info as GI \n",
    "JOIN line_score as LS\n",
    "on GI.game_id = LS.game_id\n",
    "Where attendance not in ('None') AND HomeWL not in ('-')\n",
    "order by attendance desc\n",
    "\"\"\"\n",
    "cur.execute(query)\n",
    "cur.fetchmany(20)"
   ]
  },
  {
   "cell_type": "code",
   "execution_count": 89,
   "metadata": {},
   "outputs": [
    {
     "data": {
      "text/plain": [
       "[('1140', 'Bruce', 'Alexander', 21454, 'Chicago'),\n",
       " ('1165', 'Luis', 'Grillo', 21454, 'Chicago'),\n",
       " ('1153', 'Joe', 'Crawford', 21454, 'Chicago'),\n",
       " ('1147', 'Mike', 'Callahan', 19763, 'New York'),\n",
       " ('1142', 'Dick', 'Bavetta', 19763, 'New York'),\n",
       " ('1202', 'Tommie', 'Wood', 19763, 'New York'),\n",
       " ('1146', 'Tony', 'Brothers', 15947, 'Dallas'),\n",
       " ('1157', 'Terry', 'Durham', 15947, 'Dallas'),\n",
       " ('1177', 'Ed', 'Middleton', 15947, 'Dallas'),\n",
       " ('1151', 'Sean', 'Corbin', 24042, 'Charlotte'),\n",
       " ('1168', 'David', 'Jones', 24042, 'Charlotte'),\n",
       " ('1186', 'Blane', 'Reichelt', 17248, 'Orlando'),\n",
       " ('1165', 'Luis', 'Grillo', 17248, 'Orlando'),\n",
       " ('1153', 'Joe', 'Crawford', 17248, 'Orlando'),\n",
       " ('1167', 'Steve', 'Javie', 19351, 'Cleveland'),\n",
       " ('1148', 'James', 'Capers', 19351, 'Cleveland'),\n",
       " ('1157', 'Terry', 'Durham', 19351, 'Cleveland'),\n",
       " ('1176', 'Monty', 'McCutchen', 15815, 'New Jersey'),\n",
       " ('1158', 'Hugh', 'Evans', 15815, 'New Jersey'),\n",
       " ('1163', 'Bernie', 'Fryer', 15815, 'New Jersey')]"
      ]
     },
     "execution_count": 89,
     "metadata": {},
     "output_type": "execute_result"
    }
   ],
   "source": [
    "query =\"\"\"SELECT O.official_id,\n",
    "O.first_name,\n",
    "O.last_name,\n",
    "GI.attendance,\n",
    "LS.team_city_name_home\n",
    "FROM officials as O \n",
    "INNER JOIN game_info as GI\n",
    "ON GI.game_id = O.game_id \n",
    "INNER JOIN line_score as LS \n",
    "ON O.game_id = LS.game_id\n",
    "\"\"\"\n",
    "cur.execute(query)\n",
    "cur.fetchmany(20)"
   ]
  },
  {
   "cell_type": "markdown",
   "metadata": {},
   "source": [
    "# Unions"
   ]
  },
  {
   "cell_type": "code",
   "execution_count": null,
   "metadata": {},
   "outputs": [],
   "source": []
  },
  {
   "cell_type": "markdown",
   "metadata": {},
   "source": [
    "# Subqueries"
   ]
  },
  {
   "cell_type": "code",
   "execution_count": null,
   "metadata": {},
   "outputs": [],
   "source": []
  }
 ],
 "metadata": {
  "kernelspec": {
   "display_name": "Python 3",
   "language": "python",
   "name": "python3"
  },
  "language_info": {
   "codemirror_mode": {
    "name": "ipython",
    "version": 3
   },
   "file_extension": ".py",
   "mimetype": "text/x-python",
   "name": "python",
   "nbconvert_exporter": "python",
   "pygments_lexer": "ipython3",
   "version": "3.12.1"
  }
 },
 "nbformat": 4,
 "nbformat_minor": 2
}
