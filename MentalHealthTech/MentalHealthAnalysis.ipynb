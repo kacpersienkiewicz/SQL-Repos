{
 "cells": [
  {
   "cell_type": "code",
   "execution_count": 180,
   "metadata": {},
   "outputs": [],
   "source": [
    "import sqlite3 as sql\n",
    "import pandas as pd\n",
    "import numpy as np \n",
    "import seaborn as sns\n",
    "import matplotlib.pyplot as plt"
   ]
  },
  {
   "cell_type": "code",
   "execution_count": 181,
   "metadata": {},
   "outputs": [],
   "source": [
    "con = sql.connect(\"mental_health.sqlite\")\n",
    "cur = con.cursor()"
   ]
  },
  {
   "cell_type": "code",
   "execution_count": 182,
   "metadata": {},
   "outputs": [],
   "source": [
    "query = \"SELECT name FROM sqlite_master WHERE type='table';\"\n",
    "cur.execute(query)\n",
    "tables = cur.fetchall()"
   ]
  },
  {
   "cell_type": "code",
   "execution_count": 183,
   "metadata": {},
   "outputs": [
    {
     "data": {
      "text/plain": [
       "[('Answer',), ('Question',), ('Survey',)]"
      ]
     },
     "execution_count": 183,
     "metadata": {},
     "output_type": "execute_result"
    }
   ],
   "source": [
    "tables"
   ]
  },
  {
   "cell_type": "code",
   "execution_count": 184,
   "metadata": {},
   "outputs": [
    {
     "data": {
      "text/plain": [
       "{('Answer',): ['AnswerText', 'SurveyID', 'UserID', 'QuestionID'],\n",
       " ('Question',): ['questiontext', 'questionid'],\n",
       " ('Survey',): ['SurveyID', 'Description']}"
      ]
     },
     "execution_count": 184,
     "metadata": {},
     "output_type": "execute_result"
    }
   ],
   "source": [
    "columnDict = {}\n",
    "\n",
    "for i,table in enumerate(tables):\n",
    "    query = \"SELECT * FROM %s;\" % table\n",
    "    cur.execute(query)\n",
    "    cols = list(cur.description)\n",
    "    valuelist = []\n",
    "    for j, col in enumerate(cols):\n",
    "        collist = list(col)\n",
    "        valuelist.append(collist[0])\n",
    "    columnDict[table] = valuelist\n",
    "\n",
    "columnDict"
   ]
  },
  {
   "cell_type": "code",
   "execution_count": 185,
   "metadata": {},
   "outputs": [
    {
     "data": {
      "text/plain": [
       "[(2014, 'mental health survey for 2014'),\n",
       " (2016, 'mental health survey for 2016'),\n",
       " (2017, 'mental health survey for 2017'),\n",
       " (2018, 'mental health survey for 2018'),\n",
       " (2019, 'mental health survey for 2019')]"
      ]
     },
     "execution_count": 185,
     "metadata": {},
     "output_type": "execute_result"
    }
   ],
   "source": [
    "query = \"SELECT SurveyID, Description from Survey\"\n",
    "cur.execute(query)\n",
    "cur.fetchall()"
   ]
  },
  {
   "cell_type": "code",
   "execution_count": 186,
   "metadata": {},
   "outputs": [
    {
     "data": {
      "text/plain": [
       "[('What is your age?',),\n",
       " ('What is your gender?',),\n",
       " ('What country do you live in?',),\n",
       " ('If you live in the United States, which state or territory do you live in?',),\n",
       " ('Are you self-employed?',),\n",
       " ('Do you have a family history of mental illness?',),\n",
       " ('Have you ever sought treatment for a mental health disorder from a mental health professional?',),\n",
       " ('How many employees does your company or organization have?',),\n",
       " ('Is your employer primarily a tech company/organization?',),\n",
       " ('Does your employer provide mental health benefits as part of healthcare coverage?',),\n",
       " ('Is your anonymity protected if you choose to take advantage of mental health or substance abuse treatment resources provided by your employer?',),\n",
       " ('Would you bring up a mental health issue with a potential employer in an interview?',),\n",
       " ('Is your primary role within your company related to tech/IT?',),\n",
       " ('Do you know the options for mental health care available under your employer-provided health coverage?',),\n",
       " ('Has your employer ever formally discussed mental health (for example, as part of a wellness campaign or other official communication)?',),\n",
       " ('Does your employer offer resources to learn more about mental health disorders and options for seeking help?',),\n",
       " ('If a mental health issue prompted you to request a medical leave from work, how easy or difficult would it be to ask for that leave?',),\n",
       " ('Would you feel comfortable discussing a mental health issue with your coworkers?',),\n",
       " ('Would you feel comfortable discussing a mental health issue with your direct supervisor(s)?',),\n",
       " ('Do you have medical coverage (private insurance or state-provided) that includes treatment of mental health disorders?',),\n",
       " ('Do you know local or online resources to seek help for a mental health issue?',),\n",
       " ('Do you have previous employers?',),\n",
       " ('Have your previous employers provided mental health benefits?',),\n",
       " ('Were you aware of the options for mental health care provided by your previous employers?',),\n",
       " ('Did your previous employers ever formally discuss mental health (as part of a wellness campaign or other official communication)?',),\n",
       " ('Did your previous employers provide resources to learn more about mental health disorders and how to seek help?',),\n",
       " ('Was your anonymity protected if you chose to take advantage of mental health or substance abuse treatment resources with previous employers?',),\n",
       " ('Would you have been willing to discuss your mental health with your direct supervisor(s)?',),\n",
       " ('Would you be willing to bring up a physical health issue with a potential employer in an interview?',),\n",
       " ('How willing would you be to share with friends and family that you have a mental illness?',),\n",
       " ('Have your observations of how another individual who discussed a mental health disorder made you less likely to reveal a mental health issue yourself in your current workplace?',),\n",
       " ('Have you had a mental health disorder in the past?',),\n",
       " ('Do you currently have a mental health disorder?',),\n",
       " ('Have you ever been diagnosed with a mental health disorder?',),\n",
       " ('If you have a mental health disorder, how often do you feel that it interferes with your work when being treated effectively?',),\n",
       " ('If you have a mental health disorder, how often do you feel that it interferes with your work when not being treated effectively (i.e., when you are experiencing symptoms)?',),\n",
       " ('What country do you work in?',),\n",
       " ('What US state or territory do you work in?',),\n",
       " ('If you have been diagnosed or treated for a mental health disorder, do you ever reveal this to clients or business contacts?',),\n",
       " ('If you have been diagnosed or treated for a mental health disorder, do you ever reveal this to coworkers or employees?',),\n",
       " ('Do you believe your productivity is ever affected by a mental health issue?',),\n",
       " ('If yes, what percentage of your work time (time performing primary or secondary job functions) is affected by a mental health issue?',),\n",
       " ('Have you observed or experienced an unsupportive or badly handled response to a mental health issue in your current or previous workplace?',),\n",
       " ('Would you feel more comfortable talking to your coworkers about your physical health or your mental health?',),\n",
       " ('Have you ever discussed your mental health with your employer?',),\n",
       " ('Describe the conversation you had with your employer about your mental health, including their reactions and what actions were taken to address your mental health issue/questions.',),\n",
       " ('Have you ever discussed your mental health with coworkers?',),\n",
       " ('Describe the conversation with coworkers you had about your mental health including their reactions.',),\n",
       " (\"Have you ever had a coworker discuss their or another coworker's mental health with you?\",),\n",
       " ('Describe the conversation your coworker had with you about their mental health (please do not use names).',),\n",
       " ('Overall, how much importance does your employer place on physical health?',),\n",
       " ('Overall, how much importance does your employer place on mental health?',),\n",
       " ('If you have revealed a mental health disorder to a client or business contact, how has this affected you or the relationship?',),\n",
       " ('If you have revealed a mental health disorder to a coworker or employee, how has this impacted you or the relationship?',),\n",
       " ('Was your employer primarily a tech company/organization?',),\n",
       " ('Would you have felt more comfortable talking to your previous employer about your physical health or your mental health?',),\n",
       " ('Did you ever discuss your mental health with your previous employer?',),\n",
       " ('Describe the conversation you had with your previous employer about your mental health, including their reactions and actions taken to address your mental health issue/questions.',),\n",
       " ('Did you ever discuss your mental health with a previous coworker(s)?',),\n",
       " ('Describe the conversation you had with your previous coworkers about your mental health including their reactions.',),\n",
       " (\"Did you ever have a previous coworker discuss their or another coworker's mental health with you?\",),\n",
       " ('Describe the conversation your coworker had with you about their mental health (please do not use names)..1',),\n",
       " ('Overall, how much importance did your previous employer place on physical health?',),\n",
       " ('Overall, how much importance did your previous employer place on mental health?',),\n",
       " ('Are you openly identified at work as a person with a mental health issue?',),\n",
       " ('Has being identified as a person with a mental health issue affected your career?',),\n",
       " ('How has it affected your career?',),\n",
       " ('If they knew you suffered from a mental health disorder, how do you think that your team members/co-workers would react?',),\n",
       " ('Describe the circumstances of the badly handled or unsupportive response.',),\n",
       " ('Have you observed or experienced supportive or well handled response to a mental health issue in your current or previous workplace?',),\n",
       " ('Describe the circumstances of the supportive or well handled response.',),\n",
       " ('Overall, how well do you think the tech industry supports employees with mental health issues?',),\n",
       " ('Briefly describe what you think the industry as a whole and/or employers could do to improve mental health support for employees.',),\n",
       " ('If there is anything else you would like to tell us that has not been covered by the survey questions, please use this space to do so.',),\n",
       " ('Would you be willing to talk to one of us more extensively about your experiences with mental health issues in the tech industry? (Note that all interview responses would be used _anonymously_ and only with your permission.)',),\n",
       " ('What is your race?',),\n",
       " ('Do you think that discussing a physical health issue with your employer would have negative consequences?',),\n",
       " ('Do you feel that your employer takes mental health as seriously as physical health?',),\n",
       " ('If you have a mental health condition, do you feel that it interferes with your work?',),\n",
       " ('Do you work remotely (outside of an office) at least 50% of the time?',),\n",
       " ('Do you know the options for mental health care your employer provides?',),\n",
       " ('Has your employer ever discussed mental health as part of an employee wellness program?',),\n",
       " ('Does your employer provide resources to learn more about mental health issues and how to seek help?',),\n",
       " ('How easy is it for you to take medical leave for a mental health condition?',),\n",
       " ('Do you think that discussing a mental health issue with your employer would have negative consequences?',),\n",
       " ('Would you be willing to discuss a mental health issue with your coworkers?',),\n",
       " ('Would you be willing to discuss a mental health issue with your direct supervisor(s)?',),\n",
       " ('Would you bring up a physical health issue with a potential employer in an interview?',),\n",
       " ('Have you heard of or observed negative consequences for coworkers with mental health conditions in your workplace?',),\n",
       " ('Any additional notes or comments',),\n",
       " ('Do you think that discussing a mental health disorder with your employer would have negative consequences?',),\n",
       " ('Have you heard of or observed negative consequences for co-workers who have been open about mental health issues in your workplace?',),\n",
       " ('If you have revealed a mental health issue to a client or business contact, do you believe this has impacted you negatively?',),\n",
       " ('If you have revealed a mental health issue to a coworker or employee, do you believe this has impacted you negatively?',),\n",
       " ('Do you think that discussing a mental health disorder with previous employers would have negative consequences?',),\n",
       " ('Do you think that discussing a physical health issue with previous employers would have negative consequences?',),\n",
       " ('Would you have been willing to discuss a mental health issue with your previous co-workers?',),\n",
       " ('Did you feel that your previous employers took mental health as seriously as physical health?',),\n",
       " ('Did you hear of or observe negative consequences for co-workers with mental health issues in your previous workplaces?',),\n",
       " ('Do you feel that being identified as a person with a mental health issue would hurt your career?',),\n",
       " ('Do you think that team members/co-workers would view you more negatively if they knew you suffered from a mental health issue?',),\n",
       " ('If yes, what condition(s) have you been diagnosed with?',),\n",
       " ('If maybe, what condition(s) do you believe you have?',),\n",
       " ('Which of the following best describes your work position?',),\n",
       " ('Do you work remotely?',)]"
      ]
     },
     "execution_count": 186,
     "metadata": {},
     "output_type": "execute_result"
    }
   ],
   "source": [
    "query = \"SELECT questiontext from Question\"\n",
    "cur.execute(query)\n",
    "cur.fetchall()"
   ]
  },
  {
   "cell_type": "markdown",
   "metadata": {},
   "source": [
    "A few choices for the questions to look at:\n",
    "\n",
    "* 'What is your age?'\n",
    "* 'What is your gender?'\n",
    "* 'What is your race?'\n",
    "* 'What country do you live in?'\n",
    "* 'Is your employer primarily a tech company/organization?'\n",
    "* 'Are you self-employed?'\n",
    "* 'How many employees does your company or organization have?'\n",
    "* 'Do you have a family history of mental illness?'\n",
    "* 'Have you ever sought treatment for a mental health disorder from a mental health professional?'\n",
    "* 'Do you currently have a mental health disorder?'\n",
    "* 'If you have a mental health disorder, how often do you feel that it interferes with your work when being treated effectively?'\n",
    "* 'Are you openly identified at work as a person with a mental health issue?'\n",
    "* 'Has being identified as a person with a mental health issue affected your career?'\n",
    "* 'How has it affected your career?'\n",
    "* 'Does your employer provide mental health benefits as part of healthcare coverage?'\n",
    "* 'Do you believe your productivity is ever affected by a mental health issue?'\n",
    "* 'If you have been diagnosed or treated for a mental health disorder, do you ever reveal this to coworkers or employees?'\n",
    "* 'Would you feel comfortable discussing a mental health issue with your coworkers?'\n",
    "* 'Would you feel comfortable discussing a mental health issue with your direct supervisor(s)?'\n",
    "\n",
    "These questions are broadly divided into three categories: general demographics, job questions, and mental health disorder questions. The point is to see if country lived in,gender, age etc has an effect on comfort with sharing mental health issues or going to get help or diagnosed. \n",
    "\n",
    "Another dimension of analysis is an overview of the state of mental health awareness and discussion in the industry. Looking at factors like size of company, self-employment, and whether mental healthcare is covered by the company's insurance are certain questions I want to look at. \n",
    "\n",
    "The last portion are mental health questions, looking at the background of the employee's mental health, and their comfort with sharing their mental health. Looking at how mental health may affect their jobs. \n",
    "\n",
    "Overall, this is a broad analysis trying to figure out what should be looked at in more detail.\n"
   ]
  },
  {
   "cell_type": "code",
   "execution_count": 187,
   "metadata": {},
   "outputs": [
    {
     "data": {
      "text/plain": [
       "[('What is your age?', '-1', 391),\n",
       " ('What is your age?', '-1', 716),\n",
       " ('What is your age?', '-1', 1128),\n",
       " ('What is your age?', '-1', 3447),\n",
       " ('What is your age?', '-1', 3449),\n",
       " ('What is your age?', '-29', 144),\n",
       " ('What is your age?', '0', 3981),\n",
       " ('What is your age?', '11', 1091),\n",
       " ('What is your age?', '15', 2069),\n",
       " ('What is your age?', '17', 1354),\n",
       " ('What is your age?', '18', 44),\n",
       " ('What is your age?', '18', 94),\n",
       " ('What is your age?', '18', 119),\n",
       " ('What is your age?', '18', 283),\n",
       " ('What is your age?', '18', 288),\n",
       " ('What is your age?', '18', 479),\n",
       " ('What is your age?', '18', 483),\n",
       " ('What is your age?', '18', 2715),\n",
       " ('What is your age?', '18', 2803),\n",
       " ('What is your age?', '19', 76),\n",
       " ('What is your age?', '19', 130),\n",
       " ('What is your age?', '19', 151),\n",
       " ('What is your age?', '19', 593),\n",
       " ('What is your age?', '19', 683),\n",
       " ('What is your age?', '19', 750),\n",
       " ('What is your age?', '19', 992),\n",
       " ('What is your age?', '19', 1021),\n",
       " ('What is your age?', '19', 1028),\n",
       " ('What is your age?', '19', 1337),\n",
       " ('What is your age?', '19', 1820),\n",
       " ('What is your age?', '19', 1997),\n",
       " ('What is your age?', '19', 2015),\n",
       " ('What is your age?', '19', 3482),\n",
       " ('What is your age?', '19', 3515),\n",
       " ('What is your age?', '19', 3787),\n",
       " ('What is your age?', '19', 4084),\n",
       " ('What is your age?', '19', 4108),\n",
       " ('What is your age?', '19', 4131),\n",
       " ('What is your age?', '19', 4142),\n",
       " ('What is your age?', '20', 438),\n",
       " ('What is your age?', '20', 661),\n",
       " ('What is your age?', '20', 827),\n",
       " ('What is your age?', '20', 995),\n",
       " ('What is your age?', '20', 1127),\n",
       " ('What is your age?', '20', 1175),\n",
       " ('What is your age?', '20', 1543),\n",
       " ('What is your age?', '20', 1789),\n",
       " ('What is your age?', '20', 2032),\n",
       " ('What is your age?', '20', 2250),\n",
       " ('What is your age?', '20', 2529),\n",
       " ('What is your age?', '20', 2553),\n",
       " ('What is your age?', '20', 2862),\n",
       " ('What is your age?', '20', 2936),\n",
       " ('What is your age?', '20', 3322),\n",
       " ('What is your age?', '20', 3531),\n",
       " ('What is your age?', '20', 3979),\n",
       " ('What is your age?', '21', 117),\n",
       " ('What is your age?', '21', 207),\n",
       " ('What is your age?', '21', 247),\n",
       " ('What is your age?', '21', 369),\n",
       " ('What is your age?', '21', 370),\n",
       " ('What is your age?', '21', 375),\n",
       " ('What is your age?', '21', 413),\n",
       " ('What is your age?', '21', 426),\n",
       " ('What is your age?', '21', 535),\n",
       " ('What is your age?', '21', 549),\n",
       " ('What is your age?', '21', 554),\n",
       " ('What is your age?', '21', 685),\n",
       " ('What is your age?', '21', 727),\n",
       " ('What is your age?', '21', 760),\n",
       " ('What is your age?', '21', 853),\n",
       " ('What is your age?', '21', 1140),\n",
       " ('What is your age?', '21', 1341),\n",
       " ('What is your age?', '21', 1404),\n",
       " ('What is your age?', '21', 1425),\n",
       " ('What is your age?', '21', 1567),\n",
       " ('What is your age?', '21', 1640),\n",
       " ('What is your age?', '21', 1849),\n",
       " ('What is your age?', '21', 1916),\n",
       " ('What is your age?', '21', 1952),\n",
       " ('What is your age?', '21', 2067),\n",
       " ('What is your age?', '21', 2191),\n",
       " ('What is your age?', '21', 2354),\n",
       " ('What is your age?', '21', 2562),\n",
       " ('What is your age?', '21', 2568),\n",
       " ('What is your age?', '21', 2569),\n",
       " ('What is your age?', '21', 2583),\n",
       " ('What is your age?', '21', 2712),\n",
       " ('What is your age?', '21', 3033),\n",
       " ('What is your age?', '21', 3118),\n",
       " ('What is your age?', '21', 3320),\n",
       " ('What is your age?', '21', 3666),\n",
       " ('What is your age?', '21', 3695),\n",
       " ('What is your age?', '21', 3725),\n",
       " ('What is your age?', '21', 4180),\n",
       " ('What is your age?', '22', 51),\n",
       " ('What is your age?', '22', 111),\n",
       " ('What is your age?', '22', 140),\n",
       " ('What is your age?', '22', 173),\n",
       " ('What is your age?', '22', 241),\n",
       " ('What is your age?', '22', 281),\n",
       " ('What is your age?', '22', 319),\n",
       " ('What is your age?', '22', 349),\n",
       " ('What is your age?', '22', 371),\n",
       " ('What is your age?', '22', 409),\n",
       " ('What is your age?', '22', 510),\n",
       " ('What is your age?', '22', 540),\n",
       " ('What is your age?', '22', 559),\n",
       " ('What is your age?', '22', 620),\n",
       " ('What is your age?', '22', 622),\n",
       " ('What is your age?', '22', 650),\n",
       " ('What is your age?', '22', 667),\n",
       " ('What is your age?', '22', 677),\n",
       " ('What is your age?', '22', 795),\n",
       " ('What is your age?', '22', 920),\n",
       " ('What is your age?', '22', 1246),\n",
       " ('What is your age?', '22', 1374),\n",
       " ('What is your age?', '22', 1437),\n",
       " ('What is your age?', '22', 1560),\n",
       " ('What is your age?', '22', 1612),\n",
       " ('What is your age?', '22', 1637),\n",
       " ('What is your age?', '22', 1658),\n",
       " ('What is your age?', '22', 1708),\n",
       " ('What is your age?', '22', 1716),\n",
       " ('What is your age?', '22', 1791),\n",
       " ('What is your age?', '22', 1818),\n",
       " ('What is your age?', '22', 1823),\n",
       " ('What is your age?', '22', 1838),\n",
       " ('What is your age?', '22', 1895),\n",
       " ('What is your age?', '22', 1915),\n",
       " ('What is your age?', '22', 1958),\n",
       " ('What is your age?', '22', 1964),\n",
       " ('What is your age?', '22', 2085),\n",
       " ('What is your age?', '22', 2243),\n",
       " ('What is your age?', '22', 2342),\n",
       " ('What is your age?', '22', 2348),\n",
       " ('What is your age?', '22', 2441),\n",
       " ('What is your age?', '22', 2442),\n",
       " ('What is your age?', '22', 2501),\n",
       " ('What is your age?', '22', 2556),\n",
       " ('What is your age?', '22', 2596),\n",
       " ('What is your age?', '22', 2608),\n",
       " ('What is your age?', '22', 2610),\n",
       " ('What is your age?', '22', 2620),\n",
       " ('What is your age?', '22', 2624),\n",
       " ('What is your age?', '22', 2654),\n",
       " ('What is your age?', '22', 2672),\n",
       " ('What is your age?', '22', 2685),\n",
       " ('What is your age?', '22', 2697),\n",
       " ('What is your age?', '22', 2707),\n",
       " ('What is your age?', '22', 2714),\n",
       " ('What is your age?', '22', 2826),\n",
       " ('What is your age?', '22', 2859),\n",
       " ('What is your age?', '22', 2929),\n",
       " ('What is your age?', '22', 2978),\n",
       " ('What is your age?', '22', 3176),\n",
       " ('What is your age?', '22', 3205),\n",
       " ('What is your age?', '22', 3280),\n",
       " ('What is your age?', '22', 3331),\n",
       " ('What is your age?', '22', 3401),\n",
       " ('What is your age?', '22', 3411),\n",
       " ('What is your age?', '22', 3540),\n",
       " ('What is your age?', '22', 3709),\n",
       " ('What is your age?', '22', 3773),\n",
       " ('What is your age?', '22', 4034),\n",
       " ('What is your age?', '22', 4044),\n",
       " ('What is your age?', '22', 4116),\n",
       " ('What is your age?', '22', 4136),\n",
       " ('What is your age?', '22', 4208),\n",
       " ('What is your age?', '23', 10),\n",
       " ('What is your age?', '23', 17),\n",
       " ('What is your age?', '23', 67),\n",
       " ('What is your age?', '23', 73),\n",
       " ('What is your age?', '23', 82),\n",
       " ('What is your age?', '23', 148),\n",
       " ('What is your age?', '23', 169),\n",
       " ('What is your age?', '23', 174),\n",
       " ('What is your age?', '23', 189),\n",
       " ('What is your age?', '23', 225),\n",
       " ('What is your age?', '23', 251),\n",
       " ('What is your age?', '23', 257),\n",
       " ('What is your age?', '23', 272),\n",
       " ('What is your age?', '23', 280),\n",
       " ('What is your age?', '23', 301),\n",
       " ('What is your age?', '23', 347),\n",
       " ('What is your age?', '23', 403),\n",
       " ('What is your age?', '23', 418),\n",
       " ('What is your age?', '23', 429),\n",
       " ('What is your age?', '23', 439),\n",
       " ('What is your age?', '23', 445),\n",
       " ('What is your age?', '23', 478),\n",
       " ('What is your age?', '23', 481),\n",
       " ('What is your age?', '23', 496),\n",
       " ('What is your age?', '23', 522),\n",
       " ('What is your age?', '23', 534),\n",
       " ('What is your age?', '23', 546),\n",
       " ('What is your age?', '23', 571),\n",
       " ('What is your age?', '23', 577),\n",
       " ('What is your age?', '23', 596),\n",
       " ('What is your age?', '23', 624),\n",
       " ('What is your age?', '23', 672),\n",
       " ('What is your age?', '23', 686),\n",
       " ('What is your age?', '23', 691),\n",
       " ('What is your age?', '23', 704),\n",
       " ('What is your age?', '23', 802),\n",
       " ('What is your age?', '23', 852),\n",
       " ('What is your age?', '23', 863),\n",
       " ('What is your age?', '23', 879),\n",
       " ('What is your age?', '23', 989),\n",
       " ('What is your age?', '23', 1016),\n",
       " ('What is your age?', '23', 1052),\n",
       " ('What is your age?', '23', 1139),\n",
       " ('What is your age?', '23', 1145),\n",
       " ('What is your age?', '23', 1174),\n",
       " ('What is your age?', '23', 1208),\n",
       " ('What is your age?', '23', 1224),\n",
       " ('What is your age?', '23', 1226),\n",
       " ('What is your age?', '23', 1231),\n",
       " ('What is your age?', '23', 1234),\n",
       " ('What is your age?', '23', 1236),\n",
       " ('What is your age?', '23', 1362),\n",
       " ('What is your age?', '23', 1436),\n",
       " ('What is your age?', '23', 1444),\n",
       " ('What is your age?', '23', 1582),\n",
       " ('What is your age?', '23', 1607),\n",
       " ('What is your age?', '23', 1682),\n",
       " ('What is your age?', '23', 1723),\n",
       " ('What is your age?', '23', 1731),\n",
       " ('What is your age?', '23', 1763),\n",
       " ('What is your age?', '23', 1778),\n",
       " ('What is your age?', '23', 1946),\n",
       " ('What is your age?', '23', 1987),\n",
       " ('What is your age?', '23', 2041),\n",
       " ('What is your age?', '23', 2076),\n",
       " ('What is your age?', '23', 2178),\n",
       " ('What is your age?', '23', 2208),\n",
       " ('What is your age?', '23', 2366),\n",
       " ('What is your age?', '23', 2367),\n",
       " ('What is your age?', '23', 2420),\n",
       " ('What is your age?', '23', 2443),\n",
       " ('What is your age?', '23', 2606),\n",
       " ('What is your age?', '23', 2636),\n",
       " ('What is your age?', '23', 2639),\n",
       " ('What is your age?', '23', 2656),\n",
       " ('What is your age?', '23', 2706),\n",
       " ('What is your age?', '23', 2763),\n",
       " ('What is your age?', '23', 2783),\n",
       " ('What is your age?', '23', 2853),\n",
       " ('What is your age?', '23', 2895),\n",
       " ('What is your age?', '23', 2983),\n",
       " ('What is your age?', '23', 2994),\n",
       " ('What is your age?', '23', 3019),\n",
       " ('What is your age?', '23', 3136),\n",
       " ('What is your age?', '23', 3137),\n",
       " ('What is your age?', '23', 3170),\n",
       " ('What is your age?', '23', 3230),\n",
       " ('What is your age?', '23', 3235),\n",
       " ('What is your age?', '23', 3241),\n",
       " ('What is your age?', '23', 3255),\n",
       " ('What is your age?', '23', 3354),\n",
       " ('What is your age?', '23', 3405),\n",
       " ('What is your age?', '23', 3409),\n",
       " ('What is your age?', '23', 3519),\n",
       " ('What is your age?', '23', 3619),\n",
       " ('What is your age?', '23', 3637),\n",
       " ('What is your age?', '23', 3670),\n",
       " ('What is your age?', '23', 3768),\n",
       " ('What is your age?', '23', 3770),\n",
       " ('What is your age?', '23', 3784),\n",
       " ('What is your age?', '23', 3901),\n",
       " ('What is your age?', '23', 3991),\n",
       " ('What is your age?', '23', 4013),\n",
       " ('What is your age?', '23', 4023),\n",
       " ('What is your age?', '23', 4024),\n",
       " ('What is your age?', '23', 4087),\n",
       " ('What is your age?', '23', 4207),\n",
       " ('What is your age?', '24', 41),\n",
       " ('What is your age?', '24', 58),\n",
       " ('What is your age?', '24', 97),\n",
       " ('What is your age?', '24', 135),\n",
       " ('What is your age?', '24', 147),\n",
       " ('What is your age?', '24', 170),\n",
       " ('What is your age?', '24', 187),\n",
       " ('What is your age?', '24', 209),\n",
       " ('What is your age?', '24', 226),\n",
       " ('What is your age?', '24', 229),\n",
       " ('What is your age?', '24', 255),\n",
       " ('What is your age?', '24', 259),\n",
       " ('What is your age?', '24', 296),\n",
       " ('What is your age?', '24', 324),\n",
       " ('What is your age?', '24', 331),\n",
       " ('What is your age?', '24', 339),\n",
       " ('What is your age?', '24', 395),\n",
       " ('What is your age?', '24', 427),\n",
       " ('What is your age?', '24', 430),\n",
       " ('What is your age?', '24', 432),\n",
       " ('What is your age?', '24', 449),\n",
       " ('What is your age?', '24', 494),\n",
       " ('What is your age?', '24', 527),\n",
       " ('What is your age?', '24', 560),\n",
       " ('What is your age?', '24', 597),\n",
       " ('What is your age?', '24', 608),\n",
       " ('What is your age?', '24', 621),\n",
       " ('What is your age?', '24', 631),\n",
       " ('What is your age?', '24', 668),\n",
       " ('What is your age?', '24', 732),\n",
       " ('What is your age?', '24', 837),\n",
       " ('What is your age?', '24', 858),\n",
       " ('What is your age?', '24', 900),\n",
       " ('What is your age?', '24', 904),\n",
       " ('What is your age?', '24', 913),\n",
       " ('What is your age?', '24', 952),\n",
       " ('What is your age?', '24', 964),\n",
       " ('What is your age?', '24', 1013),\n",
       " ('What is your age?', '24', 1065),\n",
       " ('What is your age?', '24', 1097),\n",
       " ('What is your age?', '24', 1116),\n",
       " ('What is your age?', '24', 1204),\n",
       " ('What is your age?', '24', 1211),\n",
       " ('What is your age?', '24', 1225),\n",
       " ('What is your age?', '24', 1232),\n",
       " ('What is your age?', '24', 1235),\n",
       " ('What is your age?', '24', 1350),\n",
       " ('What is your age?', '24', 1382),\n",
       " ('What is your age?', '24', 1463),\n",
       " ('What is your age?', '24', 1466),\n",
       " ('What is your age?', '24', 1479),\n",
       " ('What is your age?', '24', 1536),\n",
       " ('What is your age?', '24', 1563),\n",
       " ('What is your age?', '24', 1645),\n",
       " ('What is your age?', '24', 1649),\n",
       " ('What is your age?', '24', 1670),\n",
       " ('What is your age?', '24', 1715),\n",
       " ('What is your age?', '24', 1728),\n",
       " ('What is your age?', '24', 1794),\n",
       " ('What is your age?', '24', 1844),\n",
       " ('What is your age?', '24', 1845),\n",
       " ('What is your age?', '24', 1862),\n",
       " ('What is your age?', '24', 1876),\n",
       " ('What is your age?', '24', 1893),\n",
       " ('What is your age?', '24', 1931),\n",
       " ('What is your age?', '24', 2075),\n",
       " ('What is your age?', '24', 2097),\n",
       " ('What is your age?', '24', 2108),\n",
       " ('What is your age?', '24', 2177),\n",
       " ('What is your age?', '24', 2262),\n",
       " ('What is your age?', '24', 2322),\n",
       " ('What is your age?', '24', 2339),\n",
       " ('What is your age?', '24', 2384),\n",
       " ('What is your age?', '24', 2435),\n",
       " ('What is your age?', '24', 2522),\n",
       " ('What is your age?', '24', 2524),\n",
       " ('What is your age?', '24', 2534),\n",
       " ('What is your age?', '24', 2589),\n",
       " ('What is your age?', '24', 2607),\n",
       " ('What is your age?', '24', 2617),\n",
       " ('What is your age?', '24', 2625),\n",
       " ('What is your age?', '24', 2641),\n",
       " ('What is your age?', '24', 2673),\n",
       " ('What is your age?', '24', 2674),\n",
       " ('What is your age?', '24', 2676),\n",
       " ('What is your age?', '24', 2677),\n",
       " ('What is your age?', '24', 2684),\n",
       " ('What is your age?', '24', 2686),\n",
       " ('What is your age?', '24', 2781),\n",
       " ('What is your age?', '24', 2819),\n",
       " ('What is your age?', '24', 2827),\n",
       " ('What is your age?', '24', 2832),\n",
       " ('What is your age?', '24', 2855),\n",
       " ('What is your age?', '24', 2886),\n",
       " ('What is your age?', '24', 2967),\n",
       " ('What is your age?', '24', 2979),\n",
       " ('What is your age?', '24', 2997),\n",
       " ('What is your age?', '24', 3011),\n",
       " ('What is your age?', '24', 3022),\n",
       " ('What is your age?', '24', 3078),\n",
       " ('What is your age?', '24', 3154),\n",
       " ('What is your age?', '24', 3238),\n",
       " ('What is your age?', '24', 3246),\n",
       " ('What is your age?', '24', 3257),\n",
       " ('What is your age?', '24', 3264),\n",
       " ('What is your age?', '24', 3283),\n",
       " ('What is your age?', '24', 3357),\n",
       " ('What is your age?', '24', 3396),\n",
       " ('What is your age?', '24', 3506),\n",
       " ('What is your age?', '24', 3512),\n",
       " ('What is your age?', '24', 3548),\n",
       " ('What is your age?', '24', 3600),\n",
       " ('What is your age?', '24', 3810),\n",
       " ('What is your age?', '24', 3824),\n",
       " ('What is your age?', '24', 3833),\n",
       " ('What is your age?', '24', 3854),\n",
       " ('What is your age?', '24', 3856),\n",
       " ('What is your age?', '24', 3896),\n",
       " ('What is your age?', '24', 3932),\n",
       " ('What is your age?', '24', 3948),\n",
       " ('What is your age?', '24', 3954),\n",
       " ('What is your age?', '24', 3980),\n",
       " ('What is your age?', '24', 4102),\n",
       " ('What is your age?', '24', 4112),\n",
       " ('What is your age?', '24', 4154),\n",
       " ('What is your age?', '24', 4190),\n",
       " ('What is your age?', '24', 4196),\n",
       " ('What is your age?', '24', 4218),\n",
       " ('What is your age?', '25', 77),\n",
       " ('What is your age?', '25', 95),\n",
       " ('What is your age?', '25', 103),\n",
       " ('What is your age?', '25', 122),\n",
       " ('What is your age?', '25', 156),\n",
       " ('What is your age?', '25', 160),\n",
       " ('What is your age?', '25', 162),\n",
       " ('What is your age?', '25', 236),\n",
       " ('What is your age?', '25', 244),\n",
       " ('What is your age?', '25', 260),\n",
       " ('What is your age?', '25', 285),\n",
       " ('What is your age?', '25', 309),\n",
       " ('What is your age?', '25', 311),\n",
       " ('What is your age?', '25', 318),\n",
       " ('What is your age?', '25', 325),\n",
       " ('What is your age?', '25', 326),\n",
       " ('What is your age?', '25', 328),\n",
       " ('What is your age?', '25', 332),\n",
       " ('What is your age?', '25', 346),\n",
       " ('What is your age?', '25', 350),\n",
       " ('What is your age?', '25', 355),\n",
       " ('What is your age?', '25', 378),\n",
       " ('What is your age?', '25', 384),\n",
       " ('What is your age?', '25', 389),\n",
       " ('What is your age?', '25', 495),\n",
       " ('What is your age?', '25', 498),\n",
       " ('What is your age?', '25', 504),\n",
       " ('What is your age?', '25', 512),\n",
       " ('What is your age?', '25', 524),\n",
       " ('What is your age?', '25', 551),\n",
       " ('What is your age?', '25', 647),\n",
       " ('What is your age?', '25', 656),\n",
       " ('What is your age?', '25', 717),\n",
       " ('What is your age?', '25', 724),\n",
       " ('What is your age?', '25', 785),\n",
       " ('What is your age?', '25', 786),\n",
       " ('What is your age?', '25', 788),\n",
       " ('What is your age?', '25', 856),\n",
       " ('What is your age?', '25', 901),\n",
       " ('What is your age?', '25', 903),\n",
       " ('What is your age?', '25', 908),\n",
       " ('What is your age?', '25', 915),\n",
       " ('What is your age?', '25', 929),\n",
       " ('What is your age?', '25', 962),\n",
       " ('What is your age?', '25', 968),\n",
       " ('What is your age?', '25', 1001),\n",
       " ('What is your age?', '25', 1020),\n",
       " ('What is your age?', '25', 1027),\n",
       " ('What is your age?', '25', 1064),\n",
       " ('What is your age?', '25', 1066),\n",
       " ('What is your age?', '25', 1074),\n",
       " ('What is your age?', '25', 1081),\n",
       " ('What is your age?', '25', 1094),\n",
       " ('What is your age?', '25', 1106),\n",
       " ('What is your age?', '25', 1114),\n",
       " ('What is your age?', '25', 1137),\n",
       " ('What is your age?', '25', 1180),\n",
       " ('What is your age?', '25', 1200),\n",
       " ('What is your age?', '25', 1229),\n",
       " ('What is your age?', '25', 1233),\n",
       " ('What is your age?', '25', 1259),\n",
       " ('What is your age?', '25', 1279),\n",
       " ('What is your age?', '25', 1283),\n",
       " ('What is your age?', '25', 1420),\n",
       " ('What is your age?', '25', 1429),\n",
       " ('What is your age?', '25', 1431),\n",
       " ('What is your age?', '25', 1477),\n",
       " ('What is your age?', '25', 1478),\n",
       " ('What is your age?', '25', 1480),\n",
       " ('What is your age?', '25', 1491),\n",
       " ('What is your age?', '25', 1521),\n",
       " ('What is your age?', '25', 1589),\n",
       " ('What is your age?', '25', 1597),\n",
       " ('What is your age?', '25', 1601),\n",
       " ('What is your age?', '25', 1790),\n",
       " ('What is your age?', '25', 1894),\n",
       " ('What is your age?', '25', 1904),\n",
       " ('What is your age?', '25', 1919),\n",
       " ('What is your age?', '25', 1921),\n",
       " ('What is your age?', '25', 1928),\n",
       " ('What is your age?', '25', 1963),\n",
       " ('What is your age?', '25', 1981),\n",
       " ('What is your age?', '25', 2068),\n",
       " ('What is your age?', '25', 2073),\n",
       " ('What is your age?', '25', 2089),\n",
       " ('What is your age?', '25', 2101),\n",
       " ('What is your age?', '25', 2110),\n",
       " ('What is your age?', '25', 2194),\n",
       " ('What is your age?', '25', 2268),\n",
       " ('What is your age?', '25', 2303),\n",
       " ('What is your age?', '25', 2317),\n",
       " ('What is your age?', '25', 2346),\n",
       " ('What is your age?', '25', 2371),\n",
       " ('What is your age?', '25', 2381),\n",
       " ('What is your age?', '25', 2393),\n",
       " ('What is your age?', '25', 2426),\n",
       " ('What is your age?', '25', 2463),\n",
       " ('What is your age?', '25', 2483),\n",
       " ('What is your age?', '25', 2523),\n",
       " ('What is your age?', '25', 2532),\n",
       " ('What is your age?', '25', 2597),\n",
       " ('What is your age?', '25', 2628),\n",
       " ('What is your age?', '25', 2631),\n",
       " ('What is your age?', '25', 2653),\n",
       " ('What is your age?', '25', 2693),\n",
       " ('What is your age?', '25', 2717),\n",
       " ('What is your age?', '25', 2730),\n",
       " ('What is your age?', '25', 2732),\n",
       " ('What is your age?', '25', 2753),\n",
       " ('What is your age?', '25', 2754),\n",
       " ('What is your age?', '25', 2817),\n",
       " ('What is your age?', '25', 2822),\n",
       " ('What is your age?', '25', 2841),\n",
       " ('What is your age?', '25', 2869),\n",
       " ('What is your age?', '25', 2924),\n",
       " ('What is your age?', '25', 2926),\n",
       " ('What is your age?', '25', 2927),\n",
       " ('What is your age?', '25', 2957),\n",
       " ('What is your age?', '25', 2959),\n",
       " ('What is your age?', '25', 3072),\n",
       " ('What is your age?', '25', 3197),\n",
       " ('What is your age?', '25', 3213),\n",
       " ('What is your age?', '25', 3226),\n",
       " ('What is your age?', '25', 3304),\n",
       " ('What is your age?', '25', 3398),\n",
       " ('What is your age?', '25', 3417),\n",
       " ('What is your age?', '25', 3514),\n",
       " ('What is your age?', '25', 3555),\n",
       " ('What is your age?', '25', 3583),\n",
       " ('What is your age?', '25', 3598),\n",
       " ('What is your age?', '25', 3616),\n",
       " ('What is your age?', '25', 3623),\n",
       " ('What is your age?', '25', 3643),\n",
       " ('What is your age?', '25', 3648),\n",
       " ('What is your age?', '25', 3663),\n",
       " ('What is your age?', '25', 3701),\n",
       " ('What is your age?', '25', 3731),\n",
       " ('What is your age?', '25', 3746),\n",
       " ('What is your age?', '25', 3867),\n",
       " ('What is your age?', '25', 4049),\n",
       " ('What is your age?', '25', 4078),\n",
       " ('What is your age?', '25', 4113),\n",
       " ('What is your age?', '25', 4126),\n",
       " ('What is your age?', '25', 4129),\n",
       " ('What is your age?', '25', 4145),\n",
       " ('What is your age?', '25', 4150),\n",
       " ('What is your age?', '25', 4187),\n",
       " ('What is your age?', '26', 49),\n",
       " ('What is your age?', '26', 59),\n",
       " ('What is your age?', '26', 62),\n",
       " ('What is your age?', '26', 64),\n",
       " ('What is your age?', '26', 101),\n",
       " ('What is your age?', '26', 116),\n",
       " ('What is your age?', '26', 158),\n",
       " ('What is your age?', '26', 164),\n",
       " ('What is your age?', '26', 171),\n",
       " ('What is your age?', '26', 182),\n",
       " ('What is your age?', '26', 188),\n",
       " ('What is your age?', '26', 198),\n",
       " ('What is your age?', '26', 210),\n",
       " ('What is your age?', '26', 213),\n",
       " ('What is your age?', '26', 230),\n",
       " ('What is your age?', '26', 287),\n",
       " ('What is your age?', '26', 290),\n",
       " ('What is your age?', '26', 303),\n",
       " ('What is your age?', '26', 306),\n",
       " ('What is your age?', '26', 308),\n",
       " ('What is your age?', '26', 314),\n",
       " ('What is your age?', '26', 354),\n",
       " ('What is your age?', '26', 363),\n",
       " ('What is your age?', '26', 380),\n",
       " ('What is your age?', '26', 385),\n",
       " ('What is your age?', '26', 394),\n",
       " ('What is your age?', '26', 401),\n",
       " ('What is your age?', '26', 406),\n",
       " ('What is your age?', '26', 415),\n",
       " ('What is your age?', '26', 422),\n",
       " ('What is your age?', '26', 428),\n",
       " ('What is your age?', '26', 437),\n",
       " ('What is your age?', '26', 441),\n",
       " ('What is your age?', '26', 448),\n",
       " ('What is your age?', '26', 464),\n",
       " ('What is your age?', '26', 469),\n",
       " ('What is your age?', '26', 489),\n",
       " ('What is your age?', '26', 538),\n",
       " ('What is your age?', '26', 541),\n",
       " ('What is your age?', '26', 574),\n",
       " ('What is your age?', '26', 649),\n",
       " ('What is your age?', '26', 664),\n",
       " ('What is your age?', '26', 669),\n",
       " ('What is your age?', '26', 671),\n",
       " ('What is your age?', '26', 673),\n",
       " ('What is your age?', '26', 674),\n",
       " ('What is your age?', '26', 707),\n",
       " ('What is your age?', '26', 758),\n",
       " ('What is your age?', '26', 819),\n",
       " ('What is your age?', '26', 854),\n",
       " ('What is your age?', '26', 862),\n",
       " ('What is your age?', '26', 889),\n",
       " ('What is your age?', '26', 935),\n",
       " ('What is your age?', '26', 959),\n",
       " ('What is your age?', '26', 967),\n",
       " ('What is your age?', '26', 976),\n",
       " ('What is your age?', '26', 979),\n",
       " ('What is your age?', '26', 1004),\n",
       " ('What is your age?', '26', 1017),\n",
       " ('What is your age?', '26', 1031),\n",
       " ('What is your age?', '26', 1037),\n",
       " ('What is your age?', '26', 1044),\n",
       " ('What is your age?', '26', 1046),\n",
       " ('What is your age?', '26', 1051),\n",
       " ('What is your age?', '26', 1068),\n",
       " ('What is your age?', '26', 1102),\n",
       " ('What is your age?', '26', 1108),\n",
       " ('What is your age?', '26', 1126),\n",
       " ('What is your age?', '26', 1141),\n",
       " ('What is your age?', '26', 1146),\n",
       " ('What is your age?', '26', 1152),\n",
       " ('What is your age?', '26', 1164),\n",
       " ('What is your age?', '26', 1169),\n",
       " ('What is your age?', '26', 1177),\n",
       " ('What is your age?', '26', 1255),\n",
       " ('What is your age?', '26', 1281),\n",
       " ('What is your age?', '26', 1353),\n",
       " ('What is your age?', '26', 1356),\n",
       " ('What is your age?', '26', 1377),\n",
       " ('What is your age?', '26', 1402),\n",
       " ('What is your age?', '26', 1435),\n",
       " ('What is your age?', '26', 1443),\n",
       " ('What is your age?', '26', 1484),\n",
       " ('What is your age?', '26', 1493),\n",
       " ('What is your age?', '26', 1531),\n",
       " ('What is your age?', '26', 1552),\n",
       " ('What is your age?', '26', 1553),\n",
       " ('What is your age?', '26', 1584),\n",
       " ('What is your age?', '26', 1585),\n",
       " ('What is your age?', '26', 1603),\n",
       " ('What is your age?', '26', 1624),\n",
       " ('What is your age?', '26', 1639),\n",
       " ('What is your age?', '26', 1652),\n",
       " ('What is your age?', '26', 1666),\n",
       " ('What is your age?', '26', 1671),\n",
       " ('What is your age?', '26', 1677),\n",
       " ('What is your age?', '26', 1681),\n",
       " ('What is your age?', '26', 1686),\n",
       " ('What is your age?', '26', 1690),\n",
       " ('What is your age?', '26', 1698),\n",
       " ('What is your age?', '26', 1707),\n",
       " ('What is your age?', '26', 1712),\n",
       " ('What is your age?', '26', 1739),\n",
       " ('What is your age?', '26', 1804),\n",
       " ('What is your age?', '26', 1834),\n",
       " ('What is your age?', '26', 1842),\n",
       " ('What is your age?', '26', 1870),\n",
       " ('What is your age?', '26', 1890),\n",
       " ('What is your age?', '26', 1891),\n",
       " ('What is your age?', '26', 1903),\n",
       " ('What is your age?', '26', 1914),\n",
       " ('What is your age?', '26', 1923),\n",
       " ('What is your age?', '26', 1925),\n",
       " ('What is your age?', '26', 2046),\n",
       " ('What is your age?', '26', 2078),\n",
       " ('What is your age?', '26', 2107),\n",
       " ('What is your age?', '26', 2195),\n",
       " ('What is your age?', '26', 2245),\n",
       " ('What is your age?', '26', 2260),\n",
       " ('What is your age?', '26', 2288),\n",
       " ('What is your age?', '26', 2301),\n",
       " ('What is your age?', '26', 2352),\n",
       " ('What is your age?', '26', 2374),\n",
       " ('What is your age?', '26', 2383),\n",
       " ('What is your age?', '26', 2389),\n",
       " ('What is your age?', '26', 2395),\n",
       " ('What is your age?', '26', 2401),\n",
       " ('What is your age?', '26', 2457),\n",
       " ('What is your age?', '26', 2472),\n",
       " ('What is your age?', '26', 2560),\n",
       " ('What is your age?', '26', 2566),\n",
       " ('What is your age?', '26', 2573),\n",
       " ('What is your age?', '26', 2584),\n",
       " ('What is your age?', '26', 2601),\n",
       " ('What is your age?', '26', 2613),\n",
       " ('What is your age?', '26', 2640),\n",
       " ('What is your age?', '26', 2647),\n",
       " ('What is your age?', '26', 2667),\n",
       " ('What is your age?', '26', 2687),\n",
       " ('What is your age?', '26', 2757),\n",
       " ('What is your age?', '26', 2759),\n",
       " ('What is your age?', '26', 2760),\n",
       " ('What is your age?', '26', 2773),\n",
       " ('What is your age?', '26', 2787),\n",
       " ('What is your age?', '26', 2800),\n",
       " ('What is your age?', '26', 2820),\n",
       " ('What is your age?', '26', 2830),\n",
       " ('What is your age?', '26', 2883),\n",
       " ('What is your age?', '26', 2887),\n",
       " ('What is your age?', '26', 2899),\n",
       " ('What is your age?', '26', 2903),\n",
       " ('What is your age?', '26', 2964),\n",
       " ('What is your age?', '26', 2973),\n",
       " ('What is your age?', '26', 2982),\n",
       " ('What is your age?', '26', 2990),\n",
       " ('What is your age?', '26', 3008),\n",
       " ('What is your age?', '26', 3042),\n",
       " ('What is your age?', '26', 3057),\n",
       " ('What is your age?', '26', 3111),\n",
       " ('What is your age?', '26', 3196),\n",
       " ('What is your age?', '26', 3263),\n",
       " ('What is your age?', '26', 3274),\n",
       " ('What is your age?', '26', 3350),\n",
       " ('What is your age?', '26', 3377),\n",
       " ('What is your age?', '26', 3379),\n",
       " ('What is your age?', '26', 3463),\n",
       " ('What is your age?', '26', 3477),\n",
       " ('What is your age?', '26', 3478),\n",
       " ('What is your age?', '26', 3510),\n",
       " ('What is your age?', '26', 3511),\n",
       " ('What is your age?', '26', 3517),\n",
       " ('What is your age?', '26', 3524),\n",
       " ('What is your age?', '26', 3527),\n",
       " ('What is your age?', '26', 3706),\n",
       " ('What is your age?', '26', 3721),\n",
       " ('What is your age?', '26', 3744),\n",
       " ('What is your age?', '26', 3753),\n",
       " ('What is your age?', '26', 3763),\n",
       " ('What is your age?', '26', 3769),\n",
       " ('What is your age?', '26', 3771),\n",
       " ('What is your age?', '26', 3786),\n",
       " ('What is your age?', '26', 3790),\n",
       " ('What is your age?', '26', 3792),\n",
       " ('What is your age?', '26', 3881),\n",
       " ('What is your age?', '26', 3894),\n",
       " ('What is your age?', '26', 3958),\n",
       " ('What is your age?', '26', 3984),\n",
       " ('What is your age?', '26', 4010),\n",
       " ('What is your age?', '26', 4045),\n",
       " ('What is your age?', '26', 4075),\n",
       " ('What is your age?', '26', 4155),\n",
       " ('What is your age?', '26', 4164),\n",
       " ('What is your age?', '26', 4171),\n",
       " ('What is your age?', '26', 4212),\n",
       " ('What is your age?', '27', 15),\n",
       " ('What is your age?', '27', 36),\n",
       " ('What is your age?', '27', 43),\n",
       " ('What is your age?', '27', 56),\n",
       " ('What is your age?', '27', 63),\n",
       " ('What is your age?', '27', 84),\n",
       " ('What is your age?', '27', 118),\n",
       " ('What is your age?', '27', 125),\n",
       " ('What is your age?', '27', 126),\n",
       " ('What is your age?', '27', 127),\n",
       " ('What is your age?', '27', 133),\n",
       " ('What is your age?', '27', 157),\n",
       " ('What is your age?', '27', 159),\n",
       " ('What is your age?', '27', 166),\n",
       " ('What is your age?', '27', 199),\n",
       " ('What is your age?', '27', 201),\n",
       " ('What is your age?', '27', 216),\n",
       " ('What is your age?', '27', 245),\n",
       " ('What is your age?', '27', 254),\n",
       " ('What is your age?', '27', 261),\n",
       " ('What is your age?', '27', 262),\n",
       " ('What is your age?', '27', 282),\n",
       " ('What is your age?', '27', 286),\n",
       " ('What is your age?', '27', 310),\n",
       " ('What is your age?', '27', 315),\n",
       " ('What is your age?', '27', 343),\n",
       " ('What is your age?', '27', 352),\n",
       " ('What is your age?', '27', 377),\n",
       " ('What is your age?', '27', 382),\n",
       " ('What is your age?', '27', 386),\n",
       " ('What is your age?', '27', 435),\n",
       " ('What is your age?', '27', 455),\n",
       " ('What is your age?', '27', 457),\n",
       " ('What is your age?', '27', 465),\n",
       " ('What is your age?', '27', 477),\n",
       " ('What is your age?', '27', 493),\n",
       " ('What is your age?', '27', 531),\n",
       " ('What is your age?', '27', 533),\n",
       " ('What is your age?', '27', 536),\n",
       " ('What is your age?', '27', 539),\n",
       " ('What is your age?', '27', 555),\n",
       " ('What is your age?', '27', 562),\n",
       " ('What is your age?', '27', 573),\n",
       " ('What is your age?', '27', 585),\n",
       " ('What is your age?', '27', 587),\n",
       " ('What is your age?', '27', 605),\n",
       " ('What is your age?', '27', 609),\n",
       " ('What is your age?', '27', 610),\n",
       " ('What is your age?', '27', 662),\n",
       " ('What is your age?', '27', 690),\n",
       " ('What is your age?', '27', 712),\n",
       " ('What is your age?', '27', 720),\n",
       " ('What is your age?', '27', 739),\n",
       " ('What is your age?', '27', 765),\n",
       " ('What is your age?', '27', 768),\n",
       " ('What is your age?', '27', 779),\n",
       " ('What is your age?', '27', 799),\n",
       " ('What is your age?', '27', 809),\n",
       " ('What is your age?', '27', 978),\n",
       " ('What is your age?', '27', 985),\n",
       " ('What is your age?', '27', 1000),\n",
       " ('What is your age?', '27', 1057),\n",
       " ('What is your age?', '27', 1062),\n",
       " ('What is your age?', '27', 1078),\n",
       " ('What is your age?', '27', 1134),\n",
       " ('What is your age?', '27', 1135),\n",
       " ('What is your age?', '27', 1136),\n",
       " ('What is your age?', '27', 1144),\n",
       " ('What is your age?', '27', 1186),\n",
       " ('What is your age?', '27', 1195),\n",
       " ('What is your age?', '27', 1217),\n",
       " ('What is your age?', '27', 1287),\n",
       " ('What is your age?', '27', 1312),\n",
       " ('What is your age?', '27', 1322),\n",
       " ('What is your age?', '27', 1330),\n",
       " ('What is your age?', '27', 1365),\n",
       " ('What is your age?', '27', 1421),\n",
       " ('What is your age?', '27', 1440),\n",
       " ('What is your age?', '27', 1453),\n",
       " ('What is your age?', '27', 1492),\n",
       " ('What is your age?', '27', 1504),\n",
       " ('What is your age?', '27', 1529),\n",
       " ('What is your age?', '27', 1540),\n",
       " ('What is your age?', '27', 1541),\n",
       " ('What is your age?', '27', 1587),\n",
       " ('What is your age?', '27', 1609),\n",
       " ('What is your age?', '27', 1673),\n",
       " ('What is your age?', '27', 1678),\n",
       " ('What is your age?', '27', 1679),\n",
       " ('What is your age?', '27', 1688),\n",
       " ('What is your age?', '27', 1694),\n",
       " ('What is your age?', '27', 1696),\n",
       " ('What is your age?', '27', 1700),\n",
       " ('What is your age?', '27', 1729),\n",
       " ('What is your age?', '27', 1734),\n",
       " ('What is your age?', '27', 1735),\n",
       " ('What is your age?', '27', 1736),\n",
       " ('What is your age?', '27', 1793),\n",
       " ('What is your age?', '27', 1861),\n",
       " ('What is your age?', '27', 1882),\n",
       " ('What is your age?', '27', 1886),\n",
       " ('What is your age?', '27', 1901),\n",
       " ('What is your age?', '27', 1920),\n",
       " ('What is your age?', '27', 1930),\n",
       " ('What is your age?', '27', 1950),\n",
       " ('What is your age?', '27', 1960),\n",
       " ('What is your age?', '27', 1967),\n",
       " ('What is your age?', '27', 2018),\n",
       " ('What is your age?', '27', 2072),\n",
       " ('What is your age?', '27', 2109),\n",
       " ('What is your age?', '27', 2114),\n",
       " ('What is your age?', '27', 2136),\n",
       " ('What is your age?', '27', 2165),\n",
       " ('What is your age?', '27', 2202),\n",
       " ('What is your age?', '27', 2215),\n",
       " ('What is your age?', '27', 2261),\n",
       " ('What is your age?', '27', 2285),\n",
       " ('What is your age?', '27', 2300),\n",
       " ('What is your age?', '27', 2309),\n",
       " ('What is your age?', '27', 2318),\n",
       " ('What is your age?', '27', 2319),\n",
       " ('What is your age?', '27', 2320),\n",
       " ('What is your age?', '27', 2407),\n",
       " ('What is your age?', '27', 2451),\n",
       " ('What is your age?', '27', 2456),\n",
       " ('What is your age?', '27', 2468),\n",
       " ('What is your age?', '27', 2473),\n",
       " ('What is your age?', '27', 2494),\n",
       " ('What is your age?', '27', 2548),\n",
       " ('What is your age?', '27', 2563),\n",
       " ('What is your age?', '27', 2591),\n",
       " ('What is your age?', '27', 2604),\n",
       " ('What is your age?', '27', 2605),\n",
       " ('What is your age?', '27', 2664),\n",
       " ('What is your age?', '27', 2694),\n",
       " ('What is your age?', '27', 2740),\n",
       " ('What is your age?', '27', 2767),\n",
       " ('What is your age?', '27', 2786),\n",
       " ('What is your age?', '27', 2807),\n",
       " ('What is your age?', '27', 2825),\n",
       " ('What is your age?', '27', 2845),\n",
       " ('What is your age?', '27', 2847),\n",
       " ('What is your age?', '27', 2907),\n",
       " ('What is your age?', '27', 2911),\n",
       " ('What is your age?', '27', 2915),\n",
       " ('What is your age?', '27', 2937),\n",
       " ('What is your age?', '27', 2953),\n",
       " ('What is your age?', '27', 2986),\n",
       " ('What is your age?', '27', 3015),\n",
       " ('What is your age?', '27', 3026),\n",
       " ('What is your age?', '27', 3041),\n",
       " ('What is your age?', '27', 3062),\n",
       " ('What is your age?', '27', 3085),\n",
       " ('What is your age?', '27', 3120),\n",
       " ('What is your age?', '27', 3132),\n",
       " ('What is your age?', '27', 3150),\n",
       " ('What is your age?', '27', 3187),\n",
       " ('What is your age?', '27', 3254),\n",
       " ('What is your age?', '27', 3262),\n",
       " ('What is your age?', '27', 3268),\n",
       " ('What is your age?', '27', 3272),\n",
       " ('What is your age?', '27', 3289),\n",
       " ('What is your age?', '27', 3383),\n",
       " ('What is your age?', '27', 3412),\n",
       " ('What is your age?', '27', 3426),\n",
       " ('What is your age?', '27', 3464),\n",
       " ('What is your age?', '27', 3507),\n",
       " ('What is your age?', '27', 3543),\n",
       " ('What is your age?', '27', 3549),\n",
       " ('What is your age?', '27', 3552),\n",
       " ('What is your age?', '27', 3569),\n",
       " ('What is your age?', '27', 3573),\n",
       " ('What is your age?', '27', 3669),\n",
       " ('What is your age?', '27', 3707),\n",
       " ('What is your age?', '27', 3711),\n",
       " ('What is your age?', '27', 3715),\n",
       " ('What is your age?', '27', 3739),\n",
       " ('What is your age?', '27', 3781),\n",
       " ('What is your age?', '27', 3834),\n",
       " ('What is your age?', '27', 3865),\n",
       " ('What is your age?', '27', 3869),\n",
       " ('What is your age?', '27', 3897),\n",
       " ('What is your age?', '27', 3903),\n",
       " ('What is your age?', '27', 3946),\n",
       " ('What is your age?', '27', 3975),\n",
       " ('What is your age?', '27', 4003),\n",
       " ('What is your age?', '27', 4019),\n",
       " ('What is your age?', '27', 4066),\n",
       " ('What is your age?', '27', 4071),\n",
       " ('What is your age?', '27', 4101),\n",
       " ('What is your age?', '27', 4105),\n",
       " ('What is your age?', '27', 4141),\n",
       " ('What is your age?', '27', 4143),\n",
       " ('What is your age?', '27', 4148),\n",
       " ('What is your age?', '27', 4188),\n",
       " ('What is your age?', '27', 4210),\n",
       " ('What is your age?', '27', 4214),\n",
       " ('What is your age?', '28', 47),\n",
       " ('What is your age?', '28', 55),\n",
       " ('What is your age?', '28', 71),\n",
       " ('What is your age?', '28', 80),\n",
       " ('What is your age?', '28', 108),\n",
       " ('What is your age?', '28', 112),\n",
       " ('What is your age?', '28', 115),\n",
       " ('What is your age?', '28', 137),\n",
       " ('What is your age?', '28', 153),\n",
       " ('What is your age?', '28', 177),\n",
       " ('What is your age?', '28', 183),\n",
       " ('What is your age?', '28', 192),\n",
       " ('What is your age?', '28', 193),\n",
       " ('What is your age?', '28', 200),\n",
       " ('What is your age?', '28', 223),\n",
       " ('What is your age?', '28', 224),\n",
       " ('What is your age?', '28', 240),\n",
       " ('What is your age?', '28', 252),\n",
       " ('What is your age?', '28', 278),\n",
       " ('What is your age?', '28', 279),\n",
       " ('What is your age?', '28', 304),\n",
       " ('What is your age?', '28', 366),\n",
       " ('What is your age?', '28', 402),\n",
       " ('What is your age?', '28', 421),\n",
       " ('What is your age?', '28', 423),\n",
       " ('What is your age?', '28', 425),\n",
       " ('What is your age?', '28', 431),\n",
       " ('What is your age?', '28', 436),\n",
       " ('What is your age?', '28', 463),\n",
       " ('What is your age?', '28', 468),\n",
       " ('What is your age?', '28', 487),\n",
       " ('What is your age?', '28', 544),\n",
       " ('What is your age?', '28', 545),\n",
       " ('What is your age?', '28', 566),\n",
       " ('What is your age?', '28', 626),\n",
       " ('What is your age?', '28', 630),\n",
       " ('What is your age?', '28', 636),\n",
       " ('What is your age?', '28', 676),\n",
       " ('What is your age?', '28', 689),\n",
       " ('What is your age?', '28', 694),\n",
       " ('What is your age?', '28', 747),\n",
       " ('What is your age?', '28', 770),\n",
       " ('What is your age?', '28', 774),\n",
       " ('What is your age?', '28', 798),\n",
       " ('What is your age?', '28', 806),\n",
       " ('What is your age?', '28', 814),\n",
       " ('What is your age?', '28', 921),\n",
       " ('What is your age?', '28', 923),\n",
       " ('What is your age?', '28', 941),\n",
       " ('What is your age?', '28', 945),\n",
       " ('What is your age?', '28', 980),\n",
       " ('What is your age?', '28', 984),\n",
       " ('What is your age?', '28', 988),\n",
       " ('What is your age?', '28', 994),\n",
       " ('What is your age?', '28', 1041),\n",
       " ('What is your age?', '28', 1048),\n",
       " ('What is your age?', '28', 1060),\n",
       " ('What is your age?', '28', 1090),\n",
       " ...]"
      ]
     },
     "execution_count": 187,
     "metadata": {},
     "output_type": "execute_result"
    }
   ],
   "source": [
    "query = \"\"\"SELECT Q.questiontext as Ques,\n",
    "A.answertext as Ans,\n",
    "A.UserID as User\n",
    "FROM Question as Q\n",
    "JOIN Answer as A\n",
    "on Q.questionid = A.QuestionID\n",
    "WHERE Ques IN ('What is your age?')\n",
    "\"\"\"\n",
    "cur.execute(query)\n",
    "cur.fetchall()"
   ]
  },
  {
   "cell_type": "code",
   "execution_count": 188,
   "metadata": {},
   "outputs": [
    {
     "data": {
      "text/plain": [
       "[('What is your age?', 33.97981477083828, 1091)]"
      ]
     },
     "execution_count": 188,
     "metadata": {},
     "output_type": "execute_result"
    }
   ],
   "source": [
    "query = \"\"\"SELECT Q.questiontext as Ques,\n",
    "AVG(A.answertext) as Ans,\n",
    "A.UserID as User\n",
    "FROM Question as Q\n",
    "JOIN Answer as A\n",
    "on Q.questionid = A.QuestionID\n",
    "WHERE Ques IN ('What is your age?') AND A.answertext > 0\n",
    "\"\"\"\n",
    "cur.execute(query)\n",
    "cur.fetchall()"
   ]
  },
  {
   "cell_type": "markdown",
   "metadata": {},
   "source": [
    "We see a few of the answers were nonsense so the conditiion that the original responses needed to be positiive. I am assuming the eleven and fifteen year old are legitimate responses because I cannot investigate it. \n",
    "\n",
    "Regardless, the result shows that the age skews young. \n",
    "\n",
    "With that out of the way, the next step will be to gather a bunch of demographic data with a SQL Query then put them into a dataframe to analyze the overall makeup of the group surveyed. This will roughly correspond to the first 15 questions, or until the \"Do you currently have a mental health disorder?\" question.\n"
   ]
  },
  {
   "cell_type": "code",
   "execution_count": 189,
   "metadata": {},
   "outputs": [],
   "source": [
    "query = \"\"\"SELECT A.UserID as User,\n",
    "A.answertext as Age\n",
    "FROM Question as Q\n",
    "JOIN Answer as A\n",
    "on Q.questionid = A.QuestionID\n",
    "WHERE Q.questiontext IN ('What is your age?')\n",
    "\"\"\"\n",
    "cur.execute(query)\n",
    "cur.fetchall()\n",
    "DemographicsDF = pd.read_sql_query(query, con)"
   ]
  },
  {
   "cell_type": "code",
   "execution_count": 190,
   "metadata": {},
   "outputs": [],
   "source": [
    "query = \"\"\"SELECT A.answertext as Gender,\n",
    "A.UserID as User\n",
    "FROM Question as Q\n",
    "JOIN Answer as A\n",
    "on Q.questionid = A.QuestionID\n",
    "WHERE Q.questiontext IN ('What is your gender?')\n",
    "\"\"\"\n",
    "cur.execute(query)\n",
    "cur.fetchall()\n",
    "DemographicsDF = pd.merge(DemographicsDF, pd.read_sql_query(query, con), on= \"User\")"
   ]
  },
  {
   "cell_type": "code",
   "execution_count": 191,
   "metadata": {},
   "outputs": [],
   "source": [
    "query = \"\"\"SELECT A.answertext as Race,\n",
    "A.UserID as User\n",
    "FROM Question as Q\n",
    "JOIN Answer as A\n",
    "on Q.questionid = A.QuestionID\n",
    "WHERE Q.questiontext IN ('What is your race?')\n",
    "\"\"\"\n",
    "cur.execute(query)\n",
    "cur.fetchall()\n",
    "DemographicsDF = pd.merge(DemographicsDF, pd.read_sql_query(query, con), on= \"User\")"
   ]
  },
  {
   "cell_type": "code",
   "execution_count": 192,
   "metadata": {},
   "outputs": [],
   "source": [
    "query = \"\"\"SELECT A.answertext as Country,\n",
    "A.UserID as User\n",
    "FROM Question as Q\n",
    "JOIN Answer as A\n",
    "on Q.questionid = A.QuestionID\n",
    "WHERE Q.questiontext IN ('What country do you live in?')\n",
    "\"\"\"\n",
    "cur.execute(query)\n",
    "cur.fetchall()\n",
    "DemographicsDF = pd.merge(DemographicsDF, pd.read_sql_query(query, con), on= \"User\")"
   ]
  },
  {
   "cell_type": "code",
   "execution_count": 193,
   "metadata": {},
   "outputs": [],
   "source": [
    "query = \"\"\"SELECT A.answertext as TechCompany,\n",
    "A.UserID as User\n",
    "FROM Question as Q\n",
    "JOIN Answer as A\n",
    "on Q.questionid = A.QuestionID\n",
    "WHERE Q.questiontext IN ('Is your employer primarily a tech company/organization?')\n",
    "\"\"\"\n",
    "cur.execute(query)\n",
    "cur.fetchall()\n",
    "DemographicsDF = pd.merge(DemographicsDF, pd.read_sql_query(query, con), on= \"User\")"
   ]
  },
  {
   "cell_type": "code",
   "execution_count": 194,
   "metadata": {},
   "outputs": [],
   "source": [
    "query = \"\"\"SELECT A.answertext as SelfEmployed,\n",
    "A.UserID as User\n",
    "FROM Question as Q\n",
    "JOIN Answer as A\n",
    "on Q.questionid = A.QuestionID\n",
    "WHERE Q.questiontext IN ('Are you self-employed?')\n",
    "\"\"\"\n",
    "cur.execute(query)\n",
    "cur.fetchall()\n",
    "DemographicsDF = pd.merge(DemographicsDF, pd.read_sql_query(query, con), on= \"User\")"
   ]
  },
  {
   "cell_type": "code",
   "execution_count": 195,
   "metadata": {},
   "outputs": [],
   "source": [
    "query = \"\"\"SELECT A.answertext as EmployeeCount,\n",
    "A.UserID as User\n",
    "FROM Question as Q\n",
    "JOIN Answer as A\n",
    "on Q.questionid = A.QuestionID\n",
    "WHERE Q.questiontext IN ('How many employees does your company or organization have?')\n",
    "\"\"\"\n",
    "cur.execute(query)\n",
    "cur.fetchall()\n",
    "DemographicsDF = pd.merge(DemographicsDF, pd.read_sql_query(query, con), on= \"User\")"
   ]
  },
  {
   "cell_type": "code",
   "execution_count": 196,
   "metadata": {},
   "outputs": [],
   "source": [
    "query = \"\"\"SELECT A.answertext as FamilyHistory,\n",
    "A.UserID as User\n",
    "FROM Question as Q\n",
    "JOIN Answer as A\n",
    "on Q.questionid = A.QuestionID\n",
    "WHERE Q.questiontext IN ('Do you have a family history of mental illness?')\n",
    "\"\"\"\n",
    "cur.execute(query)\n",
    "cur.fetchall()\n",
    "DemographicsDF = pd.merge(DemographicsDF, pd.read_sql_query(query, con), on= \"User\")"
   ]
  },
  {
   "cell_type": "code",
   "execution_count": 197,
   "metadata": {},
   "outputs": [],
   "source": [
    "query = \"\"\"SELECT A.answertext as SoughtTreatment,\n",
    "A.UserID as User\n",
    "FROM Question as Q\n",
    "JOIN Answer as A\n",
    "on Q.questionid = A.QuestionID\n",
    "WHERE Q.questiontext IN ('Have you ever sought treatment for a mental health disorder from a mental health professional?')\n",
    "\"\"\"\n",
    "cur.execute(query)\n",
    "cur.fetchall()\n",
    "DemographicsDF = pd.merge(DemographicsDF, pd.read_sql_query(query, con), on= \"User\")"
   ]
  },
  {
   "cell_type": "code",
   "execution_count": 198,
   "metadata": {},
   "outputs": [],
   "source": [
    "query = \"\"\"SELECT A.answertext as CurrentMentalDisorder,\n",
    "A.UserID as User\n",
    "FROM Question as Q\n",
    "JOIN Answer as A\n",
    "on Q.questionid = A.QuestionID\n",
    "WHERE Q.questiontext IN ('Do you currently have a mental health disorder?')\n",
    "\"\"\"\n",
    "cur.execute(query)\n",
    "cur.fetchall()\n",
    "DemographicsDF = pd.merge(DemographicsDF, pd.read_sql_query(query, con), on= \"User\")"
   ]
  },
  {
   "cell_type": "code",
   "execution_count": 199,
   "metadata": {},
   "outputs": [
    {
     "data": {
      "text/html": [
       "<div>\n",
       "<style scoped>\n",
       "    .dataframe tbody tr th:only-of-type {\n",
       "        vertical-align: middle;\n",
       "    }\n",
       "\n",
       "    .dataframe tbody tr th {\n",
       "        vertical-align: top;\n",
       "    }\n",
       "\n",
       "    .dataframe thead th {\n",
       "        text-align: right;\n",
       "    }\n",
       "</style>\n",
       "<table border=\"1\" class=\"dataframe\">\n",
       "  <thead>\n",
       "    <tr style=\"text-align: right;\">\n",
       "      <th></th>\n",
       "      <th>User</th>\n",
       "      <th>Age</th>\n",
       "      <th>Gender</th>\n",
       "      <th>Race</th>\n",
       "      <th>Country</th>\n",
       "      <th>TechCompany</th>\n",
       "      <th>SelfEmployed</th>\n",
       "      <th>EmployeeCount</th>\n",
       "      <th>FamilyHistory</th>\n",
       "      <th>SoughtTreatment</th>\n",
       "      <th>CurrentMentalDisorder</th>\n",
       "    </tr>\n",
       "  </thead>\n",
       "  <tbody>\n",
       "    <tr>\n",
       "      <th>0</th>\n",
       "      <td>3447</td>\n",
       "      <td>-1</td>\n",
       "      <td>-1</td>\n",
       "      <td>-1</td>\n",
       "      <td>-1</td>\n",
       "      <td>-1</td>\n",
       "      <td>1</td>\n",
       "      <td>-1</td>\n",
       "      <td>Yes</td>\n",
       "      <td>1</td>\n",
       "      <td>Yes</td>\n",
       "    </tr>\n",
       "    <tr>\n",
       "      <th>1</th>\n",
       "      <td>3449</td>\n",
       "      <td>-1</td>\n",
       "      <td>-1</td>\n",
       "      <td>-1</td>\n",
       "      <td>-1</td>\n",
       "      <td>-1</td>\n",
       "      <td>1</td>\n",
       "      <td>-1</td>\n",
       "      <td>Yes</td>\n",
       "      <td>1</td>\n",
       "      <td>Yes</td>\n",
       "    </tr>\n",
       "    <tr>\n",
       "      <th>2</th>\n",
       "      <td>3981</td>\n",
       "      <td>0</td>\n",
       "      <td>male</td>\n",
       "      <td>White</td>\n",
       "      <td>United States of America</td>\n",
       "      <td>0</td>\n",
       "      <td>0</td>\n",
       "      <td>500-1000</td>\n",
       "      <td>No</td>\n",
       "      <td>0</td>\n",
       "      <td>No</td>\n",
       "    </tr>\n",
       "    <tr>\n",
       "      <th>3</th>\n",
       "      <td>2715</td>\n",
       "      <td>18</td>\n",
       "      <td>Male</td>\n",
       "      <td>-1</td>\n",
       "      <td>United Kingdom</td>\n",
       "      <td>0</td>\n",
       "      <td>0</td>\n",
       "      <td>100-500</td>\n",
       "      <td>Yes</td>\n",
       "      <td>1</td>\n",
       "      <td>Possibly</td>\n",
       "    </tr>\n",
       "    <tr>\n",
       "      <th>4</th>\n",
       "      <td>2803</td>\n",
       "      <td>18</td>\n",
       "      <td>male/androgynous</td>\n",
       "      <td>-1</td>\n",
       "      <td>Canada</td>\n",
       "      <td>-1</td>\n",
       "      <td>1</td>\n",
       "      <td>-1</td>\n",
       "      <td>I don't know</td>\n",
       "      <td>0</td>\n",
       "      <td>Possibly</td>\n",
       "    </tr>\n",
       "  </tbody>\n",
       "</table>\n",
       "</div>"
      ],
      "text/plain": [
       "   User Age            Gender   Race                   Country TechCompany  \\\n",
       "0  3447  -1                -1     -1                        -1          -1   \n",
       "1  3449  -1                -1     -1                        -1          -1   \n",
       "2  3981   0              male  White  United States of America           0   \n",
       "3  2715  18              Male     -1            United Kingdom           0   \n",
       "4  2803  18  male/androgynous     -1                    Canada          -1   \n",
       "\n",
       "  SelfEmployed EmployeeCount FamilyHistory SoughtTreatment  \\\n",
       "0            1            -1           Yes               1   \n",
       "1            1            -1           Yes               1   \n",
       "2            0      500-1000            No               0   \n",
       "3            0       100-500           Yes               1   \n",
       "4            1            -1  I don't know               0   \n",
       "\n",
       "  CurrentMentalDisorder  \n",
       "0                   Yes  \n",
       "1                   Yes  \n",
       "2                    No  \n",
       "3              Possibly  \n",
       "4              Possibly  "
      ]
     },
     "execution_count": 199,
     "metadata": {},
     "output_type": "execute_result"
    }
   ],
   "source": [
    "DemographicsDF.head()"
   ]
  },
  {
   "cell_type": "code",
   "execution_count": 200,
   "metadata": {},
   "outputs": [
    {
     "data": {
      "text/plain": [
       "Gender\n",
       "Male                            782\n",
       "Female                          331\n",
       "male                            212\n",
       "female                          110\n",
       "-1                               21\n",
       "Nonbinary                         6\n",
       "None                              3\n",
       "Non-binary                        3\n",
       "Genderqueer                       2\n",
       "Genderfluid                       2\n",
       "Trans man                         2\n",
       "agender                           2\n",
       "Non binary                        2\n",
       "SWM                               1\n",
       "Male (or female, or both)         1\n",
       "Non-binary and gender fluid       1\n",
       "Female/gender non-binary.         1\n",
       "Female-identified                 1\n",
       "Contextual                        1\n",
       "Trans non-binary/genderfluid      1\n",
       "none                              1\n",
       "nonbinary                         1\n",
       "She/her/they/them                 1\n",
       "rr                                1\n",
       "Demiguy                           1\n",
       "I am a Wookie                     1\n",
       "Genderqueer demigirl              1\n",
       "Female-ish                        1\n",
       "43                                1\n",
       "non-binary                        1\n",
       "MALE                              1\n",
       "Trans woman                       1\n",
       "non binary                        1\n",
       "Transfeminine                     1\n",
       "genderfluid                       1\n",
       "Nonbinary/femme                   1\n",
       "uhhhhhhhhh fem genderqueer?       1\n",
       "Genderqueer/non-binary            1\n",
       "Agender trans woman               1\n",
       "male/androgynous                  1\n",
       "masculino                         1\n",
       "Male-ish                          1\n",
       "Other                             1\n",
       "Questioning                       1\n",
       "femmina                           1\n",
       "gender non-conforming woman       1\n",
       "God King of the Valajar           1\n",
       "Agender/genderfluid               1\n",
       "Masculine                         1\n",
       "Woman-identified                  1\n",
       "Ostensibly Male                   1\n",
       "Agender                           1\n",
       "NB                                1\n",
       "Trans female                      1\n",
       "sometimes                         1\n",
       "trans woman                       1\n",
       "\\-                                1\n",
       "Cishet male                       1\n",
       "I have a penis                    1\n",
       "transgender                       1\n",
       "Name: count, dtype: int64"
      ]
     },
     "execution_count": 200,
     "metadata": {},
     "output_type": "execute_result"
    }
   ],
   "source": [
    "DemographicsDF['Gender'].value_counts()"
   ]
  },
  {
   "cell_type": "code",
   "execution_count": 201,
   "metadata": {},
   "outputs": [
    {
     "data": {
      "text/plain": [
       "Race\n",
       "White                               873\n",
       "-1                                  537\n",
       "More than one of the above           35\n",
       "Asian                                31\n",
       "I prefer not to answer               29\n",
       "Black or African American            15\n",
       "American Indian or Alaska Native      1\n",
       "White Hispanic                        1\n",
       "Hispanic                              1\n",
       "Caucasian                             1\n",
       "European American                     1\n",
       "Name: count, dtype: int64"
      ]
     },
     "execution_count": 201,
     "metadata": {},
     "output_type": "execute_result"
    }
   ],
   "source": [
    "DemographicsDF['Race'].value_counts()"
   ]
  },
  {
   "cell_type": "code",
   "execution_count": 202,
   "metadata": {},
   "outputs": [
    {
     "data": {
      "text/plain": [
       "Country\n",
       "United States of America    1013\n",
       "United Kingdom               117\n",
       "Canada                        49\n",
       "Germany                       33\n",
       "India                         31\n",
       "Netherlands                   23\n",
       "France                        22\n",
       "Portugal                      21\n",
       "Brazil                        21\n",
       "Spain                         21\n",
       "Australia                     16\n",
       "Switzerland                   11\n",
       "Poland                        10\n",
       "Ireland                        9\n",
       "Norway                         8\n",
       "Italy                          7\n",
       "New Zealand                    7\n",
       "Mexico                         7\n",
       "South Africa                   6\n",
       "Belgium                        6\n",
       "Japan                          6\n",
       "Turkey                         5\n",
       "Pakistan                       4\n",
       "Greece                         4\n",
       "Russia                         4\n",
       "Romania                        4\n",
       "Austria                        3\n",
       "Sweden                         3\n",
       "Indonesia                      3\n",
       "Argentina                      3\n",
       "Serbia                         3\n",
       "Ukraine                        3\n",
       "Estonia                        3\n",
       "Finland                        3\n",
       "Hungary                        2\n",
       "Israel                         2\n",
       "Colombia                       2\n",
       "Bulgaria                       2\n",
       "Croatia                        2\n",
       "Bangladesh                     2\n",
       "Hong Kong                      2\n",
       "Czech Republic                 2\n",
       "Iceland                        2\n",
       "-1                             2\n",
       "Uruguay                        1\n",
       "Ethiopia                       1\n",
       "Slovakia                       1\n",
       "Georgia                        1\n",
       "Mauritius                      1\n",
       "Singapore                      1\n",
       "Afghanistan                    1\n",
       "Belarus                        1\n",
       "Kenya                          1\n",
       "Saudi Arabia                   1\n",
       "Ghana                          1\n",
       "Nigeria                        1\n",
       "Jordan                         1\n",
       "Macedonia                      1\n",
       "Algeria                        1\n",
       "Latvia                         1\n",
       "Name: count, dtype: int64"
      ]
     },
     "execution_count": 202,
     "metadata": {},
     "output_type": "execute_result"
    }
   ],
   "source": [
    "DemographicsDF['Country'].value_counts()"
   ]
  },
  {
   "cell_type": "code",
   "execution_count": 203,
   "metadata": {},
   "outputs": [
    {
     "data": {
      "text/plain": [
       "TechCompany\n",
       "1     974\n",
       "0     334\n",
       "-1    217\n",
       "Name: count, dtype: int64"
      ]
     },
     "execution_count": 203,
     "metadata": {},
     "output_type": "execute_result"
    }
   ],
   "source": [
    "DemographicsDF['TechCompany'].value_counts()"
   ]
  },
  {
   "cell_type": "code",
   "execution_count": 204,
   "metadata": {},
   "outputs": [
    {
     "data": {
      "text/plain": [
       "SelfEmployed\n",
       "0    1308\n",
       "1     217\n",
       "Name: count, dtype: int64"
      ]
     },
     "execution_count": 204,
     "metadata": {},
     "output_type": "execute_result"
    }
   ],
   "source": [
    "DemographicsDF['SelfEmployed'].value_counts()"
   ]
  },
  {
   "cell_type": "code",
   "execution_count": 205,
   "metadata": {},
   "outputs": [
    {
     "data": {
      "text/plain": [
       "EmployeeCount\n",
       "More than 1000    374\n",
       "100-500           364\n",
       "26-100            243\n",
       "-1                217\n",
       "6-25              189\n",
       "500-1000          106\n",
       "1-5                32\n",
       "Name: count, dtype: int64"
      ]
     },
     "execution_count": 205,
     "metadata": {},
     "output_type": "execute_result"
    }
   ],
   "source": [
    "DemographicsDF['EmployeeCount'].value_counts()"
   ]
  },
  {
   "cell_type": "code",
   "execution_count": 206,
   "metadata": {},
   "outputs": [
    {
     "data": {
      "text/plain": [
       "SoughtTreatment\n",
       "1    936\n",
       "0    589\n",
       "Name: count, dtype: int64"
      ]
     },
     "execution_count": 206,
     "metadata": {},
     "output_type": "execute_result"
    }
   ],
   "source": [
    "DemographicsDF['SoughtTreatment'].value_counts()"
   ]
  },
  {
   "cell_type": "code",
   "execution_count": 207,
   "metadata": {},
   "outputs": [
    {
     "data": {
      "text/plain": [
       "CurrentMentalDisorder\n",
       "Yes           662\n",
       "No            438\n",
       "Possibly      301\n",
       "Don't Know    124\n",
       "Name: count, dtype: int64"
      ]
     },
     "execution_count": 207,
     "metadata": {},
     "output_type": "execute_result"
    }
   ],
   "source": [
    "DemographicsDF['CurrentMentalDisorder'].value_counts()"
   ]
  },
  {
   "cell_type": "code",
   "execution_count": 208,
   "metadata": {},
   "outputs": [
    {
     "data": {
      "text/plain": [
       "FamilyHistory\n",
       "Yes             706\n",
       "No              445\n",
       "I don't know    374\n",
       "Name: count, dtype: int64"
      ]
     },
     "execution_count": 208,
     "metadata": {},
     "output_type": "execute_result"
    }
   ],
   "source": [
    "DemographicsDF['FamilyHistory'].value_counts()"
   ]
  },
  {
   "cell_type": "code",
   "execution_count": 209,
   "metadata": {},
   "outputs": [
    {
     "data": {
      "text/plain": [
       "User                      int64\n",
       "Age                      object\n",
       "Gender                   object\n",
       "Race                     object\n",
       "Country                  object\n",
       "TechCompany              object\n",
       "SelfEmployed             object\n",
       "EmployeeCount            object\n",
       "FamilyHistory            object\n",
       "SoughtTreatment          object\n",
       "CurrentMentalDisorder    object\n",
       "dtype: object"
      ]
     },
     "execution_count": 209,
     "metadata": {},
     "output_type": "execute_result"
    }
   ],
   "source": [
    "DemographicsDF.dtypes"
   ]
  },
  {
   "cell_type": "markdown",
   "metadata": {},
   "source": [
    "Based on the snippet seen of the dataframe, *Age*, *TechCompany*, *Self-Employed*, and *Sought Treatment* could be converted into integers and the data should still make sense. Theoretically other categories could also be converted into integers as well. For example, *Family History* and *Current Mental Disorder* could be converted into integers, though it would be best to make *Current Mental Disroder* one-hot encoded which would complicate the data set.\n",
    "\n",
    "There are also a handful of observations, such as the fact that the same number of people didn't answer the employee count question as reported that they were self-employed, which makes sense. That same number, 217, also corresponds to the amount of that did not answer if their company was a tech company. I believe these are all the same group of people, but diving into the data should confirm or debunk this idea."
   ]
  },
  {
   "cell_type": "code",
   "execution_count": 210,
   "metadata": {},
   "outputs": [],
   "source": [
    "DemographicsDF['Age'] = pd.to_numeric(DemographicsDF['Age'])\n",
    "DemographicsDF['TechCompany'] = pd.to_numeric(DemographicsDF['TechCompany'])\n",
    "DemographicsDF['SelfEmployed'] = pd.to_numeric(DemographicsDF['SelfEmployed'])\n",
    "DemographicsDF['SoughtTreatment'] = pd.to_numeric(DemographicsDF['SoughtTreatment'])"
   ]
  },
  {
   "cell_type": "code",
   "execution_count": 211,
   "metadata": {},
   "outputs": [
    {
     "name": "stderr",
     "output_type": "stream",
     "text": [
      "C:\\Users\\Shmar\\AppData\\Local\\Temp\\ipykernel_26124\\2612738419.py:3: FutureWarning: Downcasting behavior in `replace` is deprecated and will be removed in a future version. To retain the old behavior, explicitly call `result.infer_objects(copy=False)`. To opt-in to the future behavior, set `pd.set_option('future.no_silent_downcasting', True)`\n",
      "  DemographicsDF[\"FamilyHistory\"] = DemographicsDF[\"FamilyHistory\"].replace(to_replace='I don\\'t know',value=0)\n"
     ]
    }
   ],
   "source": [
    "DemographicsDF[\"FamilyHistory\"] = DemographicsDF[\"FamilyHistory\"].replace(to_replace='Yes',value=1)\n",
    "DemographicsDF[\"FamilyHistory\"] = DemographicsDF[\"FamilyHistory\"].replace(to_replace='No',value=-1,)\n",
    "DemographicsDF[\"FamilyHistory\"] = DemographicsDF[\"FamilyHistory\"].replace(to_replace='I don\\'t know',value=0)"
   ]
  },
  {
   "cell_type": "code",
   "execution_count": 212,
   "metadata": {},
   "outputs": [
    {
     "data": {
      "text/plain": [
       "User                      int64\n",
       "Age                       int64\n",
       "Gender                   object\n",
       "Race                     object\n",
       "Country                  object\n",
       "TechCompany               int64\n",
       "SelfEmployed              int64\n",
       "EmployeeCount            object\n",
       "FamilyHistory             int64\n",
       "SoughtTreatment           int64\n",
       "CurrentMentalDisorder    object\n",
       "dtype: object"
      ]
     },
     "execution_count": 212,
     "metadata": {},
     "output_type": "execute_result"
    }
   ],
   "source": [
    "DemographicsDF.dtypes"
   ]
  },
  {
   "cell_type": "code",
   "execution_count": 213,
   "metadata": {},
   "outputs": [
    {
     "data": {
      "text/html": [
       "<div>\n",
       "<style scoped>\n",
       "    .dataframe tbody tr th:only-of-type {\n",
       "        vertical-align: middle;\n",
       "    }\n",
       "\n",
       "    .dataframe tbody tr th {\n",
       "        vertical-align: top;\n",
       "    }\n",
       "\n",
       "    .dataframe thead th {\n",
       "        text-align: right;\n",
       "    }\n",
       "</style>\n",
       "<table border=\"1\" class=\"dataframe\">\n",
       "  <thead>\n",
       "    <tr style=\"text-align: right;\">\n",
       "      <th></th>\n",
       "      <th>User</th>\n",
       "      <th>Age</th>\n",
       "      <th>TechCompany</th>\n",
       "      <th>SelfEmployed</th>\n",
       "      <th>FamilyHistory</th>\n",
       "      <th>SoughtTreatment</th>\n",
       "    </tr>\n",
       "  </thead>\n",
       "  <tbody>\n",
       "    <tr>\n",
       "      <th>count</th>\n",
       "      <td>1525.000000</td>\n",
       "      <td>1525.000000</td>\n",
       "      <td>1525.000000</td>\n",
       "      <td>1525.000000</td>\n",
       "      <td>1525.000000</td>\n",
       "      <td>1525.000000</td>\n",
       "    </tr>\n",
       "    <tr>\n",
       "      <th>mean</th>\n",
       "      <td>3456.000000</td>\n",
       "      <td>35.038033</td>\n",
       "      <td>0.496393</td>\n",
       "      <td>0.142295</td>\n",
       "      <td>0.171148</td>\n",
       "      <td>0.613770</td>\n",
       "    </tr>\n",
       "    <tr>\n",
       "      <th>std</th>\n",
       "      <td>440.373894</td>\n",
       "      <td>8.530622</td>\n",
       "      <td>0.731388</td>\n",
       "      <td>0.349467</td>\n",
       "      <td>0.852020</td>\n",
       "      <td>0.487044</td>\n",
       "    </tr>\n",
       "    <tr>\n",
       "      <th>min</th>\n",
       "      <td>2694.000000</td>\n",
       "      <td>-1.000000</td>\n",
       "      <td>-1.000000</td>\n",
       "      <td>0.000000</td>\n",
       "      <td>-1.000000</td>\n",
       "      <td>0.000000</td>\n",
       "    </tr>\n",
       "    <tr>\n",
       "      <th>25%</th>\n",
       "      <td>3075.000000</td>\n",
       "      <td>29.000000</td>\n",
       "      <td>0.000000</td>\n",
       "      <td>0.000000</td>\n",
       "      <td>-1.000000</td>\n",
       "      <td>0.000000</td>\n",
       "    </tr>\n",
       "    <tr>\n",
       "      <th>50%</th>\n",
       "      <td>3456.000000</td>\n",
       "      <td>34.000000</td>\n",
       "      <td>1.000000</td>\n",
       "      <td>0.000000</td>\n",
       "      <td>0.000000</td>\n",
       "      <td>1.000000</td>\n",
       "    </tr>\n",
       "    <tr>\n",
       "      <th>75%</th>\n",
       "      <td>3837.000000</td>\n",
       "      <td>40.000000</td>\n",
       "      <td>1.000000</td>\n",
       "      <td>0.000000</td>\n",
       "      <td>1.000000</td>\n",
       "      <td>1.000000</td>\n",
       "    </tr>\n",
       "    <tr>\n",
       "      <th>max</th>\n",
       "      <td>4218.000000</td>\n",
       "      <td>67.000000</td>\n",
       "      <td>1.000000</td>\n",
       "      <td>1.000000</td>\n",
       "      <td>1.000000</td>\n",
       "      <td>1.000000</td>\n",
       "    </tr>\n",
       "  </tbody>\n",
       "</table>\n",
       "</div>"
      ],
      "text/plain": [
       "              User          Age  TechCompany  SelfEmployed  FamilyHistory  \\\n",
       "count  1525.000000  1525.000000  1525.000000   1525.000000    1525.000000   \n",
       "mean   3456.000000    35.038033     0.496393      0.142295       0.171148   \n",
       "std     440.373894     8.530622     0.731388      0.349467       0.852020   \n",
       "min    2694.000000    -1.000000    -1.000000      0.000000      -1.000000   \n",
       "25%    3075.000000    29.000000     0.000000      0.000000      -1.000000   \n",
       "50%    3456.000000    34.000000     1.000000      0.000000       0.000000   \n",
       "75%    3837.000000    40.000000     1.000000      0.000000       1.000000   \n",
       "max    4218.000000    67.000000     1.000000      1.000000       1.000000   \n",
       "\n",
       "       SoughtTreatment  \n",
       "count      1525.000000  \n",
       "mean          0.613770  \n",
       "std           0.487044  \n",
       "min           0.000000  \n",
       "25%           0.000000  \n",
       "50%           1.000000  \n",
       "75%           1.000000  \n",
       "max           1.000000  "
      ]
     },
     "execution_count": 213,
     "metadata": {},
     "output_type": "execute_result"
    }
   ],
   "source": [
    "DemographicsDF.describe()"
   ]
  },
  {
   "cell_type": "markdown",
   "metadata": {},
   "source": [
    "I noticed that there is a lot of consolidation that can be done to this particular data. An easy choice is to force everything into lowercase for categories like Gender, and do a bit of consolidation overall."
   ]
  },
  {
   "cell_type": "code",
   "execution_count": 214,
   "metadata": {},
   "outputs": [],
   "source": [
    "DemographicsDF['Gender'] = DemographicsDF['Gender'].str.lower()"
   ]
  },
  {
   "cell_type": "code",
   "execution_count": 215,
   "metadata": {},
   "outputs": [
    {
     "data": {
      "text/plain": [
       "Gender\n",
       "male                            995\n",
       "female                          441\n",
       "-1                               21\n",
       "nonbinary                         7\n",
       "none                              4\n",
       "non-binary                        4\n",
       "genderfluid                       3\n",
       "agender                           3\n",
       "non binary                        3\n",
       "genderqueer                       2\n",
       "trans man                         2\n",
       "trans woman                       2\n",
       "gender non-conforming woman       1\n",
       "demiguy                           1\n",
       "nonbinary/femme                   1\n",
       "non-binary and gender fluid       1\n",
       "female/gender non-binary.         1\n",
       "female-identified                 1\n",
       "contextual                        1\n",
       "she/her/they/them                 1\n",
       "male (or female, or both)         1\n",
       "genderqueer demigirl              1\n",
       "god king of the valajar           1\n",
       "female-ish                        1\n",
       "transfeminine                     1\n",
       "swm                               1\n",
       "i am a wookie                     1\n",
       "43                                1\n",
       "rr                                1\n",
       "trans non-binary/genderfluid      1\n",
       "genderqueer/non-binary            1\n",
       "woman-identified                  1\n",
       "i have a penis                    1\n",
       "cishet male                       1\n",
       "agender/genderfluid               1\n",
       "agender trans woman               1\n",
       "femmina                           1\n",
       "masculine                         1\n",
       "questioning                       1\n",
       "other                             1\n",
       "ostensibly male                   1\n",
       "nb                                1\n",
       "trans female                      1\n",
       "male-ish                          1\n",
       "sometimes                         1\n",
       "masculino                         1\n",
       "male/androgynous                  1\n",
       "uhhhhhhhhh fem genderqueer?       1\n",
       "\\-                                1\n",
       "transgender                       1\n",
       "Name: count, dtype: int64"
      ]
     },
     "execution_count": 215,
     "metadata": {},
     "output_type": "execute_result"
    }
   ],
   "source": [
    "DemographicsDF['Gender'].value_counts()"
   ]
  },
  {
   "cell_type": "code",
   "execution_count": 216,
   "metadata": {},
   "outputs": [],
   "source": [
    "DemographicsDF['Race'] = DemographicsDF['Race'].replace(to_replace='-1',value='I prefer not to answer')\n",
    "DemographicsDF['Race'] = DemographicsDF['Race'].replace(to_replace='White Hispanic',value='Hispanic')\n",
    "DemographicsDF['Race'] = DemographicsDF['Race'].replace(to_replace='Caucasian',value='White')\n",
    "DemographicsDF['Race'] = DemographicsDF['Race'].replace(to_replace='European American',value='White')\n",
    "DemographicsDF['Race'] = DemographicsDF['Race'].replace(to_replace='Black or African American',value='Other')\n",
    "DemographicsDF['Race'] = DemographicsDF['Race'].replace(to_replace='American Indian or Alaska Native',value='Other')\n",
    "DemographicsDF['Race'] = DemographicsDF['Race'].replace(to_replace='Hispanic',value='Other')\n"
   ]
  },
  {
   "cell_type": "code",
   "execution_count": 217,
   "metadata": {},
   "outputs": [
    {
     "data": {
      "text/plain": [
       "<Axes: ylabel='count'>"
      ]
     },
     "execution_count": 217,
     "metadata": {},
     "output_type": "execute_result"
    },
    {
     "data": {
      "image/png": "[encoded data removed]",
      "text/plain": [
       "<Figure size 640x480 with 1 Axes>"
      ]
     },
     "metadata": {},
     "output_type": "display_data"
    }
   ],
   "source": [
    "DemographicsDF['Race'].value_counts().plot(kind='pie')"
   ]
  },
  {
   "cell_type": "code",
   "execution_count": 218,
   "metadata": {},
   "outputs": [
    {
     "data": {
      "text/plain": [
       "<seaborn.axisgrid.FacetGrid at 0x1b6e6912bd0>"
      ]
     },
     "execution_count": 218,
     "metadata": {},
     "output_type": "execute_result"
    },
    {
     "data": {
      "image/png": "[encoded data removed]",
      "text/plain": [
       "<Figure size 500x500 with 1 Axes>"
      ]
     },
     "metadata": {},
     "output_type": "display_data"
    }
   ],
   "source": [
    "sns.displot(DemographicsDF, x='Age', bins=20)"
   ]
  },
  {
   "cell_type": "code",
   "execution_count": 219,
   "metadata": {},
   "outputs": [
    {
     "data": {
      "text/plain": [
       "<Axes: xlabel='EmployeeCount'>"
      ]
     },
     "execution_count": 219,
     "metadata": {},
     "output_type": "execute_result"
    },
    {
     "data": {
      "image/png": "[encoded data removed]",
      "text/plain": [
       "<Figure size 640x480 with 1 Axes>"
      ]
     },
     "metadata": {},
     "output_type": "display_data"
    }
   ],
   "source": [
    "DemographicsDF['EmployeeCount'].value_counts().loc[['-1','1-5','6-25','26-100','100-500','500-1000','More than 1000']].plot.bar(grid=True)"
   ]
  },
  {
   "cell_type": "code",
   "execution_count": 220,
   "metadata": {},
   "outputs": [
    {
     "data": {
      "text/plain": [
       "<seaborn.axisgrid.FacetGrid at 0x1b6e616d880>"
      ]
     },
     "execution_count": 220,
     "metadata": {},
     "output_type": "execute_result"
    },
    {
     "data": {
      "image/png": "[encoded data removed]",
      "text/plain": [
       "<Figure size 669.486x500 with 1 Axes>"
      ]
     },
     "metadata": {},
     "output_type": "display_data"
    }
   ],
   "source": [
    "sns.displot(DemographicsDF, x=\"FamilyHistory\", hue=\"CurrentMentalDisorder\", multiple=\"stack\", bins=3)"
   ]
  },
  {
   "cell_type": "code",
   "execution_count": 221,
   "metadata": {},
   "outputs": [
    {
     "data": {
      "text/plain": [
       "<seaborn.axisgrid.FacetGrid at 0x1b6e6018770>"
      ]
     },
     "execution_count": 221,
     "metadata": {},
     "output_type": "execute_result"
    },
    {
     "data": {
      "image/png": "[encoded data removed]",
      "text/plain": [
       "<Figure size 669.486x500 with 1 Axes>"
      ]
     },
     "metadata": {},
     "output_type": "display_data"
    }
   ],
   "source": [
    "sns.displot(DemographicsDF, x=\"SoughtTreatment\", hue=\"CurrentMentalDisorder\", multiple=\"stack\", bins=2)"
   ]
  },
  {
   "cell_type": "code",
   "execution_count": 222,
   "metadata": {},
   "outputs": [
    {
     "data": {
      "text/plain": [
       "<seaborn.axisgrid.FacetGrid at 0x1b6e5926ae0>"
      ]
     },
     "execution_count": 222,
     "metadata": {},
     "output_type": "execute_result"
    },
    {
     "data": {
      "image/png": "[encoded data removed]",
      "text/plain": [
       "<Figure size 631.111x500 with 1 Axes>"
      ]
     },
     "metadata": {},
     "output_type": "display_data"
    }
   ],
   "source": [
    "sns.displot(DemographicsDF, x=\"FamilyHistory\", hue=\"SoughtTreatment\", multiple=\"stack\", bins=2)"
   ]
  },
  {
   "cell_type": "markdown",
   "metadata": {},
   "source": [
    "We see a relationship between Family History and currently having a mental disorder. We also see that a large portion of the surveyed population has a family history of mental illness.\n",
    "\n",
    "Additionally, we see a similar connection between seeking treatment and having a mental illness, which makes sense."
   ]
  },
  {
   "cell_type": "code",
   "execution_count": 223,
   "metadata": {},
   "outputs": [
    {
     "data": {
      "text/plain": [
       "EmployeeCount\n",
       "-1    217\n",
       "Name: count, dtype: int64"
      ]
     },
     "execution_count": 223,
     "metadata": {},
     "output_type": "execute_result"
    }
   ],
   "source": [
    "DemographicsDF[DemographicsDF['SelfEmployed'] == 1]['EmployeeCount'].value_counts()"
   ]
  },
  {
   "cell_type": "code",
   "execution_count": 224,
   "metadata": {},
   "outputs": [
    {
     "data": {
      "text/plain": [
       "TechCompany\n",
       "-1    217\n",
       "Name: count, dtype: int64"
      ]
     },
     "execution_count": 224,
     "metadata": {},
     "output_type": "execute_result"
    }
   ],
   "source": [
    "DemographicsDF[DemographicsDF['SelfEmployed'] == 1]['TechCompany'].value_counts()"
   ]
  },
  {
   "cell_type": "markdown",
   "metadata": {},
   "source": [
    "After swapping the data types, I called the describe method to get an overview of the data alongside a few graphs to analzye the frequency of certain variables. The histogram and describe methods shows the data skews young with the mean being around 35. The businesses that people work at skew towards larger with more than a thousand and 100-500 being the two most common employee counts, though there are a decent amount of people who are self-employed or work for a company with 100 or fewer employees.\n",
    "\n",
    "Additionally, I did figure out that all of the self-employed people also did not answer the tech company question nor did they answer the employee count question.\n",
    "\n",
    "The next step will be to add the new questions to the dataframe and then analyze that using a basic correlation matrix and a few key graphs."
   ]
  },
  {
   "cell_type": "code",
   "execution_count": 225,
   "metadata": {},
   "outputs": [],
   "source": [
    "query = \"\"\"SELECT A.answertext as WorkInterferenceWithTreatment,\n",
    "A.UserID as User\n",
    "FROM Question as Q\n",
    "JOIN Answer as A\n",
    "on Q.questionid = A.QuestionID\n",
    "WHERE Q.questiontext IN ('If you have a mental health disorder, how often do you feel that it interferes with your work when being treated effectively?')\n",
    "\"\"\"\n",
    "cur.execute(query)\n",
    "cur.fetchall()\n",
    "DemographicsDF = pd.merge(DemographicsDF, pd.read_sql_query(query, con), on= \"User\")"
   ]
  },
  {
   "cell_type": "code",
   "execution_count": 226,
   "metadata": {},
   "outputs": [],
   "source": [
    "query = \"\"\"SELECT A.answertext as OpenIdentification,\n",
    "A.UserID as User\n",
    "FROM Question as Q\n",
    "JOIN Answer as A\n",
    "on Q.questionid = A.QuestionID\n",
    "WHERE Q.questiontext IN ('Are you openly identified at work as a person with a mental health issue?')\n",
    "\"\"\"\n",
    "cur.execute(query)\n",
    "cur.fetchall()\n",
    "DemographicsDF = pd.merge(DemographicsDF, pd.read_sql_query(query, con), on= \"User\")"
   ]
  },
  {
   "cell_type": "code",
   "execution_count": 227,
   "metadata": {},
   "outputs": [],
   "source": [
    "query = \"\"\"SELECT A.answertext as OpenIDAffectCareer,\n",
    "A.UserID as User\n",
    "FROM Question as Q\n",
    "JOIN Answer as A\n",
    "on Q.questionid = A.QuestionID\n",
    "WHERE Q.questiontext IN ('Has being identified as a person with a mental health issue affected your career?')\n",
    "\"\"\"\n",
    "cur.execute(query)\n",
    "cur.fetchall()\n",
    "DemographicsDF = pd.merge(DemographicsDF, pd.read_sql_query(query, con), on= \"User\")\n"
   ]
  },
  {
   "cell_type": "code",
   "execution_count": 228,
   "metadata": {},
   "outputs": [],
   "source": [
    "query = \"\"\"SELECT A.answertext as HowAffectCareer,\n",
    "A.UserID as User\n",
    "FROM Question as Q\n",
    "JOIN Answer as A\n",
    "on Q.questionid = A.QuestionID\n",
    "WHERE Q.questiontext IN ('How has it affected your career?')\n",
    "\"\"\"\n",
    "cur.execute(query)\n",
    "cur.fetchall()\n",
    "DemographicsDF = pd.merge(DemographicsDF, pd.read_sql_query(query, con), on= \"User\")"
   ]
  },
  {
   "cell_type": "code",
   "execution_count": 229,
   "metadata": {},
   "outputs": [],
   "source": [
    "query = \"\"\"SELECT A.answertext as EmployerProvidesMentalHC,\n",
    "A.UserID as User\n",
    "FROM Question as Q\n",
    "JOIN Answer as A\n",
    "on Q.questionid = A.QuestionID\n",
    "WHERE Q.questiontext IN ('Does your employer provide mental health benefits as part of healthcare coverage?')\n",
    "\"\"\"\n",
    "cur.execute(query)\n",
    "cur.fetchall()\n",
    "DemographicsDF = pd.merge(DemographicsDF, pd.read_sql_query(query, con), on= \"User\")"
   ]
  },
  {
   "cell_type": "code",
   "execution_count": 230,
   "metadata": {},
   "outputs": [],
   "source": [
    "query = \"\"\"SELECT A.answertext as ProductivityAffected,\n",
    "A.UserID as User\n",
    "FROM Question as Q\n",
    "JOIN Answer as A\n",
    "on Q.questionid = A.QuestionID\n",
    "WHERE Q.questiontext IN ('Do you believe your productivity is ever affected by a mental health issue?')\n",
    "\"\"\"\n",
    "cur.execute(query)\n",
    "cur.fetchall()\n",
    "DemographicsDF = pd.merge(DemographicsDF, pd.read_sql_query(query, con), on= \"User\")"
   ]
  },
  {
   "cell_type": "code",
   "execution_count": 231,
   "metadata": {},
   "outputs": [],
   "source": [
    "query = \"\"\"SELECT A.answertext as RevealDiagnosis,\n",
    "A.UserID as User\n",
    "FROM Question as Q\n",
    "JOIN Answer as A\n",
    "on Q.questionid = A.QuestionID\n",
    "WHERE Q.questiontext IN ('If you have been diagnosed or treated for a mental health disorder, do you ever reveal this to coworkers or employees?')\n",
    "\"\"\"\n",
    "cur.execute(query)\n",
    "cur.fetchall()\n",
    "DemographicsDF = pd.merge(DemographicsDF, pd.read_sql_query(query, con), on= \"User\")"
   ]
  },
  {
   "cell_type": "code",
   "execution_count": 232,
   "metadata": {},
   "outputs": [],
   "source": [
    "query = \"\"\"SELECT A.answertext as ComfortCoworkers,\n",
    "A.UserID as User\n",
    "FROM Question as Q\n",
    "JOIN Answer as A\n",
    "on Q.questionid = A.QuestionID\n",
    "WHERE Q.questiontext IN ('Would you feel comfortable discussing a mental health issue with your coworkers?')\n",
    "\"\"\"\n",
    "cur.execute(query)\n",
    "cur.fetchall()\n",
    "DemographicsDF = pd.merge(DemographicsDF, pd.read_sql_query(query, con), on= \"User\")"
   ]
  },
  {
   "cell_type": "code",
   "execution_count": 233,
   "metadata": {},
   "outputs": [],
   "source": [
    "query = \"\"\"SELECT A.answertext as ComfortSupervisors,\n",
    "A.UserID as User\n",
    "FROM Question as Q\n",
    "JOIN Answer as A\n",
    "on Q.questionid = A.QuestionID\n",
    "WHERE Q.questiontext IN ('Would you feel comfortable discussing a mental health issue with your direct supervisor(s)?')\n",
    "\"\"\"\n",
    "cur.execute(query)\n",
    "cur.fetchall()\n",
    "DemographicsDF = pd.merge(DemographicsDF, pd.read_sql_query(query, con), on= \"User\")"
   ]
  },
  {
   "cell_type": "code",
   "execution_count": 234,
   "metadata": {},
   "outputs": [
    {
     "data": {
      "text/html": [
       "<div>\n",
       "<style scoped>\n",
       "    .dataframe tbody tr th:only-of-type {\n",
       "        vertical-align: middle;\n",
       "    }\n",
       "\n",
       "    .dataframe tbody tr th {\n",
       "        vertical-align: top;\n",
       "    }\n",
       "\n",
       "    .dataframe thead th {\n",
       "        text-align: right;\n",
       "    }\n",
       "</style>\n",
       "<table border=\"1\" class=\"dataframe\">\n",
       "  <thead>\n",
       "    <tr style=\"text-align: right;\">\n",
       "      <th></th>\n",
       "      <th>User</th>\n",
       "      <th>Age</th>\n",
       "      <th>Gender</th>\n",
       "      <th>Race</th>\n",
       "      <th>Country</th>\n",
       "      <th>TechCompany</th>\n",
       "      <th>SelfEmployed</th>\n",
       "      <th>EmployeeCount</th>\n",
       "      <th>FamilyHistory</th>\n",
       "      <th>SoughtTreatment</th>\n",
       "      <th>CurrentMentalDisorder</th>\n",
       "      <th>WorkInterferenceWithTreatment</th>\n",
       "      <th>OpenIdentification</th>\n",
       "      <th>OpenIDAffectCareer</th>\n",
       "      <th>HowAffectCareer</th>\n",
       "      <th>EmployerProvidesMentalHC</th>\n",
       "      <th>ProductivityAffected</th>\n",
       "      <th>RevealDiagnosis</th>\n",
       "      <th>ComfortCoworkers</th>\n",
       "      <th>ComfortSupervisors</th>\n",
       "    </tr>\n",
       "  </thead>\n",
       "  <tbody>\n",
       "    <tr>\n",
       "      <th>0</th>\n",
       "      <td>3447</td>\n",
       "      <td>-1</td>\n",
       "      <td>-1</td>\n",
       "      <td>I prefer not to answer</td>\n",
       "      <td>-1</td>\n",
       "      <td>-1</td>\n",
       "      <td>1</td>\n",
       "      <td>-1</td>\n",
       "      <td>1</td>\n",
       "      <td>1</td>\n",
       "      <td>Yes</td>\n",
       "      <td>Rarely</td>\n",
       "      <td>-1</td>\n",
       "      <td>-1</td>\n",
       "      <td>-1</td>\n",
       "      <td>-1</td>\n",
       "      <td>No</td>\n",
       "      <td>No, because it doesn't matter</td>\n",
       "      <td>-1</td>\n",
       "      <td>-1</td>\n",
       "    </tr>\n",
       "    <tr>\n",
       "      <th>1</th>\n",
       "      <td>3449</td>\n",
       "      <td>-1</td>\n",
       "      <td>-1</td>\n",
       "      <td>I prefer not to answer</td>\n",
       "      <td>-1</td>\n",
       "      <td>-1</td>\n",
       "      <td>1</td>\n",
       "      <td>-1</td>\n",
       "      <td>1</td>\n",
       "      <td>1</td>\n",
       "      <td>Yes</td>\n",
       "      <td>Sometimes</td>\n",
       "      <td>-1</td>\n",
       "      <td>-1</td>\n",
       "      <td>-1</td>\n",
       "      <td>-1</td>\n",
       "      <td>Yes</td>\n",
       "      <td>Sometimes, if it comes up</td>\n",
       "      <td>-1</td>\n",
       "      <td>-1</td>\n",
       "    </tr>\n",
       "    <tr>\n",
       "      <th>2</th>\n",
       "      <td>3981</td>\n",
       "      <td>0</td>\n",
       "      <td>male</td>\n",
       "      <td>White</td>\n",
       "      <td>United States of America</td>\n",
       "      <td>0</td>\n",
       "      <td>0</td>\n",
       "      <td>500-1000</td>\n",
       "      <td>-1</td>\n",
       "      <td>0</td>\n",
       "      <td>No</td>\n",
       "      <td>Not applicable to me</td>\n",
       "      <td>0</td>\n",
       "      <td>-1</td>\n",
       "      <td>-1</td>\n",
       "      <td>I don't know</td>\n",
       "      <td>-1</td>\n",
       "      <td>-1</td>\n",
       "      <td>Maybe</td>\n",
       "      <td>Yes</td>\n",
       "    </tr>\n",
       "    <tr>\n",
       "      <th>3</th>\n",
       "      <td>2715</td>\n",
       "      <td>18</td>\n",
       "      <td>male</td>\n",
       "      <td>I prefer not to answer</td>\n",
       "      <td>United Kingdom</td>\n",
       "      <td>0</td>\n",
       "      <td>0</td>\n",
       "      <td>100-500</td>\n",
       "      <td>1</td>\n",
       "      <td>1</td>\n",
       "      <td>Possibly</td>\n",
       "      <td>Never</td>\n",
       "      <td>0</td>\n",
       "      <td>-1</td>\n",
       "      <td>-1</td>\n",
       "      <td>Not eligible for coverage / NA</td>\n",
       "      <td>-1</td>\n",
       "      <td>-1</td>\n",
       "      <td>Yes</td>\n",
       "      <td>Yes</td>\n",
       "    </tr>\n",
       "    <tr>\n",
       "      <th>4</th>\n",
       "      <td>2803</td>\n",
       "      <td>18</td>\n",
       "      <td>male/androgynous</td>\n",
       "      <td>I prefer not to answer</td>\n",
       "      <td>Canada</td>\n",
       "      <td>-1</td>\n",
       "      <td>1</td>\n",
       "      <td>-1</td>\n",
       "      <td>0</td>\n",
       "      <td>0</td>\n",
       "      <td>Possibly</td>\n",
       "      <td>Not applicable to me</td>\n",
       "      <td>0</td>\n",
       "      <td>-1</td>\n",
       "      <td>-1</td>\n",
       "      <td>-1</td>\n",
       "      <td>Unsure</td>\n",
       "      <td>Not applicable to me</td>\n",
       "      <td>-1</td>\n",
       "      <td>-1</td>\n",
       "    </tr>\n",
       "  </tbody>\n",
       "</table>\n",
       "</div>"
      ],
      "text/plain": [
       "   User  Age            Gender                    Race  \\\n",
       "0  3447   -1                -1  I prefer not to answer   \n",
       "1  3449   -1                -1  I prefer not to answer   \n",
       "2  3981    0              male                   White   \n",
       "3  2715   18              male  I prefer not to answer   \n",
       "4  2803   18  male/androgynous  I prefer not to answer   \n",
       "\n",
       "                    Country  TechCompany  SelfEmployed EmployeeCount  \\\n",
       "0                        -1           -1             1            -1   \n",
       "1                        -1           -1             1            -1   \n",
       "2  United States of America            0             0      500-1000   \n",
       "3            United Kingdom            0             0       100-500   \n",
       "4                    Canada           -1             1            -1   \n",
       "\n",
       "   FamilyHistory  SoughtTreatment CurrentMentalDisorder  \\\n",
       "0              1                1                   Yes   \n",
       "1              1                1                   Yes   \n",
       "2             -1                0                    No   \n",
       "3              1                1              Possibly   \n",
       "4              0                0              Possibly   \n",
       "\n",
       "  WorkInterferenceWithTreatment OpenIdentification OpenIDAffectCareer  \\\n",
       "0                        Rarely                 -1                 -1   \n",
       "1                     Sometimes                 -1                 -1   \n",
       "2          Not applicable to me                  0                 -1   \n",
       "3                         Never                  0                 -1   \n",
       "4          Not applicable to me                  0                 -1   \n",
       "\n",
       "  HowAffectCareer        EmployerProvidesMentalHC ProductivityAffected  \\\n",
       "0              -1                              -1                   No   \n",
       "1              -1                              -1                  Yes   \n",
       "2              -1                    I don't know                   -1   \n",
       "3              -1  Not eligible for coverage / NA                   -1   \n",
       "4              -1                              -1               Unsure   \n",
       "\n",
       "                 RevealDiagnosis ComfortCoworkers ComfortSupervisors  \n",
       "0  No, because it doesn't matter               -1                 -1  \n",
       "1      Sometimes, if it comes up               -1                 -1  \n",
       "2                             -1            Maybe                Yes  \n",
       "3                             -1              Yes                Yes  \n",
       "4           Not applicable to me               -1                 -1  "
      ]
     },
     "execution_count": 234,
     "metadata": {},
     "output_type": "execute_result"
    }
   ],
   "source": [
    "DemographicsDF.head()"
   ]
  },
  {
   "cell_type": "code",
   "execution_count": 235,
   "metadata": {},
   "outputs": [
    {
     "data": {
      "text/plain": [
       "User                              int64\n",
       "Age                               int64\n",
       "Gender                           object\n",
       "Race                             object\n",
       "Country                          object\n",
       "TechCompany                       int64\n",
       "SelfEmployed                      int64\n",
       "EmployeeCount                    object\n",
       "FamilyHistory                     int64\n",
       "SoughtTreatment                   int64\n",
       "CurrentMentalDisorder            object\n",
       "WorkInterferenceWithTreatment    object\n",
       "OpenIdentification               object\n",
       "OpenIDAffectCareer               object\n",
       "HowAffectCareer                  object\n",
       "EmployerProvidesMentalHC         object\n",
       "ProductivityAffected             object\n",
       "RevealDiagnosis                  object\n",
       "ComfortCoworkers                 object\n",
       "ComfortSupervisors               object\n",
       "dtype: object"
      ]
     },
     "execution_count": 235,
     "metadata": {},
     "output_type": "execute_result"
    }
   ],
   "source": [
    "DemographicsDF.dtypes"
   ]
  },
  {
   "cell_type": "markdown",
   "metadata": {},
   "source": [
    "With all of the questions in a single dataframe, a heatmap and a few other graphs can be created to analyze any correlations and possible connections between variables. This may lead to future questions which may require more data from the database.\n",
    "\n",
    "The overall plan is to look at a correlation matrix that looks at correlations generally. After this I will make histograms and stacked bar graphs to analyze the distribution of certain variables and note any correlations noticed as was done for Family History and Treatment Sought, for example.\n",
    "\n",
    "A good idea would also be to encode a few columns to be -1,0, and 1, similar to what I did to Family History.\n",
    "\n",
    "It is also good to state that there really is not too much variety in race and gender so getting any meaningful relations based on that will likely be fruitless."
   ]
  },
  {
   "cell_type": "code",
   "execution_count": 236,
   "metadata": {},
   "outputs": [
    {
     "data": {
      "text/plain": [
       "OpenIdentification\n",
       "0     1340\n",
       "1      183\n",
       "-1       2\n",
       "Name: count, dtype: int64"
      ]
     },
     "execution_count": 236,
     "metadata": {},
     "output_type": "execute_result"
    }
   ],
   "source": [
    "DemographicsDF['OpenIdentification'].value_counts()"
   ]
  },
  {
   "cell_type": "code",
   "execution_count": 237,
   "metadata": {},
   "outputs": [
    {
     "data": {
      "text/plain": [
       "OpenIDAffectCareer\n",
       "-1    1345\n",
       "0      119\n",
       "1       61\n",
       "Name: count, dtype: int64"
      ]
     },
     "execution_count": 237,
     "metadata": {},
     "output_type": "execute_result"
    }
   ],
   "source": [
    "DemographicsDF['OpenIDAffectCareer'].value_counts()"
   ]
  },
  {
   "cell_type": "code",
   "execution_count": 238,
   "metadata": {},
   "outputs": [],
   "source": [
    "DemographicsDF['OpenIdentification'] = pd.to_numeric(DemographicsDF['OpenIdentification'])\n",
    "DemographicsDF['OpenIDAffectCareer'] = pd.to_numeric(DemographicsDF['OpenIDAffectCareer'])"
   ]
  },
  {
   "cell_type": "code",
   "execution_count": 239,
   "metadata": {},
   "outputs": [],
   "source": [
    "AnswerDict = {'-1':'0','No':'-1','Yes':'1','Possibly':'0','Unsure':'0','Maybe':'0', 'Not applicable to me':0}\n",
    "colList = ['OpenIdentification','OpenIDAffectCareer','ProductivityAffected','ComfortCoworkers','ComfortSupervisors']\n",
    "\n",
    "for column in colList:\n",
    "    for key in AnswerDict.keys():\n",
    "        DemographicsDF[column] = DemographicsDF[column].replace(to_replace=key,value=AnswerDict[key])\n",
    "    DemographicsDF[column] = pd.to_numeric(DemographicsDF[column])"
   ]
  },
  {
   "cell_type": "code",
   "execution_count": 240,
   "metadata": {},
   "outputs": [
    {
     "data": {
      "text/html": [
       "<div>\n",
       "<style scoped>\n",
       "    .dataframe tbody tr th:only-of-type {\n",
       "        vertical-align: middle;\n",
       "    }\n",
       "\n",
       "    .dataframe tbody tr th {\n",
       "        vertical-align: top;\n",
       "    }\n",
       "\n",
       "    .dataframe thead th {\n",
       "        text-align: right;\n",
       "    }\n",
       "</style>\n",
       "<table border=\"1\" class=\"dataframe\">\n",
       "  <thead>\n",
       "    <tr style=\"text-align: right;\">\n",
       "      <th></th>\n",
       "      <th>User</th>\n",
       "      <th>Age</th>\n",
       "      <th>Gender</th>\n",
       "      <th>Race</th>\n",
       "      <th>Country</th>\n",
       "      <th>TechCompany</th>\n",
       "      <th>SelfEmployed</th>\n",
       "      <th>EmployeeCount</th>\n",
       "      <th>FamilyHistory</th>\n",
       "      <th>SoughtTreatment</th>\n",
       "      <th>CurrentMentalDisorder</th>\n",
       "      <th>WorkInterferenceWithTreatment</th>\n",
       "      <th>OpenIdentification</th>\n",
       "      <th>OpenIDAffectCareer</th>\n",
       "      <th>HowAffectCareer</th>\n",
       "      <th>EmployerProvidesMentalHC</th>\n",
       "      <th>ProductivityAffected</th>\n",
       "      <th>RevealDiagnosis</th>\n",
       "      <th>ComfortCoworkers</th>\n",
       "      <th>ComfortSupervisors</th>\n",
       "    </tr>\n",
       "  </thead>\n",
       "  <tbody>\n",
       "    <tr>\n",
       "      <th>0</th>\n",
       "      <td>3447</td>\n",
       "      <td>-1</td>\n",
       "      <td>-1</td>\n",
       "      <td>I prefer not to answer</td>\n",
       "      <td>-1</td>\n",
       "      <td>-1</td>\n",
       "      <td>1</td>\n",
       "      <td>-1</td>\n",
       "      <td>1</td>\n",
       "      <td>1</td>\n",
       "      <td>Yes</td>\n",
       "      <td>Rarely</td>\n",
       "      <td>-1</td>\n",
       "      <td>-1</td>\n",
       "      <td>-1</td>\n",
       "      <td>-1</td>\n",
       "      <td>-1</td>\n",
       "      <td>No, because it doesn't matter</td>\n",
       "      <td>0</td>\n",
       "      <td>0</td>\n",
       "    </tr>\n",
       "    <tr>\n",
       "      <th>1</th>\n",
       "      <td>3449</td>\n",
       "      <td>-1</td>\n",
       "      <td>-1</td>\n",
       "      <td>I prefer not to answer</td>\n",
       "      <td>-1</td>\n",
       "      <td>-1</td>\n",
       "      <td>1</td>\n",
       "      <td>-1</td>\n",
       "      <td>1</td>\n",
       "      <td>1</td>\n",
       "      <td>Yes</td>\n",
       "      <td>Sometimes</td>\n",
       "      <td>-1</td>\n",
       "      <td>-1</td>\n",
       "      <td>-1</td>\n",
       "      <td>-1</td>\n",
       "      <td>1</td>\n",
       "      <td>Sometimes, if it comes up</td>\n",
       "      <td>0</td>\n",
       "      <td>0</td>\n",
       "    </tr>\n",
       "    <tr>\n",
       "      <th>2</th>\n",
       "      <td>3981</td>\n",
       "      <td>0</td>\n",
       "      <td>male</td>\n",
       "      <td>White</td>\n",
       "      <td>United States of America</td>\n",
       "      <td>0</td>\n",
       "      <td>0</td>\n",
       "      <td>500-1000</td>\n",
       "      <td>-1</td>\n",
       "      <td>0</td>\n",
       "      <td>No</td>\n",
       "      <td>Not applicable to me</td>\n",
       "      <td>0</td>\n",
       "      <td>-1</td>\n",
       "      <td>-1</td>\n",
       "      <td>I don't know</td>\n",
       "      <td>0</td>\n",
       "      <td>-1</td>\n",
       "      <td>0</td>\n",
       "      <td>1</td>\n",
       "    </tr>\n",
       "    <tr>\n",
       "      <th>3</th>\n",
       "      <td>2715</td>\n",
       "      <td>18</td>\n",
       "      <td>male</td>\n",
       "      <td>I prefer not to answer</td>\n",
       "      <td>United Kingdom</td>\n",
       "      <td>0</td>\n",
       "      <td>0</td>\n",
       "      <td>100-500</td>\n",
       "      <td>1</td>\n",
       "      <td>1</td>\n",
       "      <td>Possibly</td>\n",
       "      <td>Never</td>\n",
       "      <td>0</td>\n",
       "      <td>-1</td>\n",
       "      <td>-1</td>\n",
       "      <td>Not eligible for coverage / NA</td>\n",
       "      <td>0</td>\n",
       "      <td>-1</td>\n",
       "      <td>1</td>\n",
       "      <td>1</td>\n",
       "    </tr>\n",
       "    <tr>\n",
       "      <th>4</th>\n",
       "      <td>2803</td>\n",
       "      <td>18</td>\n",
       "      <td>male/androgynous</td>\n",
       "      <td>I prefer not to answer</td>\n",
       "      <td>Canada</td>\n",
       "      <td>-1</td>\n",
       "      <td>1</td>\n",
       "      <td>-1</td>\n",
       "      <td>0</td>\n",
       "      <td>0</td>\n",
       "      <td>Possibly</td>\n",
       "      <td>Not applicable to me</td>\n",
       "      <td>0</td>\n",
       "      <td>-1</td>\n",
       "      <td>-1</td>\n",
       "      <td>-1</td>\n",
       "      <td>0</td>\n",
       "      <td>Not applicable to me</td>\n",
       "      <td>0</td>\n",
       "      <td>0</td>\n",
       "    </tr>\n",
       "  </tbody>\n",
       "</table>\n",
       "</div>"
      ],
      "text/plain": [
       "   User  Age            Gender                    Race  \\\n",
       "0  3447   -1                -1  I prefer not to answer   \n",
       "1  3449   -1                -1  I prefer not to answer   \n",
       "2  3981    0              male                   White   \n",
       "3  2715   18              male  I prefer not to answer   \n",
       "4  2803   18  male/androgynous  I prefer not to answer   \n",
       "\n",
       "                    Country  TechCompany  SelfEmployed EmployeeCount  \\\n",
       "0                        -1           -1             1            -1   \n",
       "1                        -1           -1             1            -1   \n",
       "2  United States of America            0             0      500-1000   \n",
       "3            United Kingdom            0             0       100-500   \n",
       "4                    Canada           -1             1            -1   \n",
       "\n",
       "   FamilyHistory  SoughtTreatment CurrentMentalDisorder  \\\n",
       "0              1                1                   Yes   \n",
       "1              1                1                   Yes   \n",
       "2             -1                0                    No   \n",
       "3              1                1              Possibly   \n",
       "4              0                0              Possibly   \n",
       "\n",
       "  WorkInterferenceWithTreatment  OpenIdentification  OpenIDAffectCareer  \\\n",
       "0                        Rarely                  -1                  -1   \n",
       "1                     Sometimes                  -1                  -1   \n",
       "2          Not applicable to me                   0                  -1   \n",
       "3                         Never                   0                  -1   \n",
       "4          Not applicable to me                   0                  -1   \n",
       "\n",
       "  HowAffectCareer        EmployerProvidesMentalHC  ProductivityAffected  \\\n",
       "0              -1                              -1                    -1   \n",
       "1              -1                              -1                     1   \n",
       "2              -1                    I don't know                     0   \n",
       "3              -1  Not eligible for coverage / NA                     0   \n",
       "4              -1                              -1                     0   \n",
       "\n",
       "                 RevealDiagnosis  ComfortCoworkers  ComfortSupervisors  \n",
       "0  No, because it doesn't matter                 0                   0  \n",
       "1      Sometimes, if it comes up                 0                   0  \n",
       "2                             -1                 0                   1  \n",
       "3                             -1                 1                   1  \n",
       "4           Not applicable to me                 0                   0  "
      ]
     },
     "execution_count": 240,
     "metadata": {},
     "output_type": "execute_result"
    }
   ],
   "source": [
    "DemographicsDF.head()"
   ]
  },
  {
   "cell_type": "code",
   "execution_count": 241,
   "metadata": {},
   "outputs": [
    {
     "data": {
      "text/html": [
       "<div>\n",
       "<style scoped>\n",
       "    .dataframe tbody tr th:only-of-type {\n",
       "        vertical-align: middle;\n",
       "    }\n",
       "\n",
       "    .dataframe tbody tr th {\n",
       "        vertical-align: top;\n",
       "    }\n",
       "\n",
       "    .dataframe thead th {\n",
       "        text-align: right;\n",
       "    }\n",
       "</style>\n",
       "<table border=\"1\" class=\"dataframe\">\n",
       "  <thead>\n",
       "    <tr style=\"text-align: right;\">\n",
       "      <th></th>\n",
       "      <th>User</th>\n",
       "      <th>Age</th>\n",
       "      <th>TechCompany</th>\n",
       "      <th>SelfEmployed</th>\n",
       "      <th>FamilyHistory</th>\n",
       "      <th>SoughtTreatment</th>\n",
       "      <th>OpenIdentification</th>\n",
       "      <th>OpenIDAffectCareer</th>\n",
       "      <th>ProductivityAffected</th>\n",
       "      <th>ComfortCoworkers</th>\n",
       "      <th>ComfortSupervisors</th>\n",
       "    </tr>\n",
       "  </thead>\n",
       "  <tbody>\n",
       "    <tr>\n",
       "      <th>count</th>\n",
       "      <td>1525.000000</td>\n",
       "      <td>1525.000000</td>\n",
       "      <td>1525.000000</td>\n",
       "      <td>1525.000000</td>\n",
       "      <td>1525.000000</td>\n",
       "      <td>1525.000000</td>\n",
       "      <td>1525.000000</td>\n",
       "      <td>1525.000000</td>\n",
       "      <td>1525.000000</td>\n",
       "      <td>1525.000000</td>\n",
       "      <td>1525.000000</td>\n",
       "    </tr>\n",
       "    <tr>\n",
       "      <th>mean</th>\n",
       "      <td>3456.000000</td>\n",
       "      <td>35.038033</td>\n",
       "      <td>0.496393</td>\n",
       "      <td>0.142295</td>\n",
       "      <td>0.171148</td>\n",
       "      <td>0.613770</td>\n",
       "      <td>0.118689</td>\n",
       "      <td>-0.841967</td>\n",
       "      <td>0.099016</td>\n",
       "      <td>0.052459</td>\n",
       "      <td>0.087213</td>\n",
       "    </tr>\n",
       "    <tr>\n",
       "      <th>std</th>\n",
       "      <td>440.373894</td>\n",
       "      <td>8.530622</td>\n",
       "      <td>0.731388</td>\n",
       "      <td>0.349467</td>\n",
       "      <td>0.852020</td>\n",
       "      <td>0.487044</td>\n",
       "      <td>0.327559</td>\n",
       "      <td>0.461734</td>\n",
       "      <td>0.324066</td>\n",
       "      <td>0.692007</td>\n",
       "      <td>0.752686</td>\n",
       "    </tr>\n",
       "    <tr>\n",
       "      <th>min</th>\n",
       "      <td>2694.000000</td>\n",
       "      <td>-1.000000</td>\n",
       "      <td>-1.000000</td>\n",
       "      <td>0.000000</td>\n",
       "      <td>-1.000000</td>\n",
       "      <td>0.000000</td>\n",
       "      <td>-1.000000</td>\n",
       "      <td>-1.000000</td>\n",
       "      <td>-1.000000</td>\n",
       "      <td>-1.000000</td>\n",
       "      <td>-1.000000</td>\n",
       "    </tr>\n",
       "    <tr>\n",
       "      <th>25%</th>\n",
       "      <td>3075.000000</td>\n",
       "      <td>29.000000</td>\n",
       "      <td>0.000000</td>\n",
       "      <td>0.000000</td>\n",
       "      <td>-1.000000</td>\n",
       "      <td>0.000000</td>\n",
       "      <td>0.000000</td>\n",
       "      <td>-1.000000</td>\n",
       "      <td>0.000000</td>\n",
       "      <td>0.000000</td>\n",
       "      <td>0.000000</td>\n",
       "    </tr>\n",
       "    <tr>\n",
       "      <th>50%</th>\n",
       "      <td>3456.000000</td>\n",
       "      <td>34.000000</td>\n",
       "      <td>1.000000</td>\n",
       "      <td>0.000000</td>\n",
       "      <td>0.000000</td>\n",
       "      <td>1.000000</td>\n",
       "      <td>0.000000</td>\n",
       "      <td>-1.000000</td>\n",
       "      <td>0.000000</td>\n",
       "      <td>0.000000</td>\n",
       "      <td>0.000000</td>\n",
       "    </tr>\n",
       "    <tr>\n",
       "      <th>75%</th>\n",
       "      <td>3837.000000</td>\n",
       "      <td>40.000000</td>\n",
       "      <td>1.000000</td>\n",
       "      <td>0.000000</td>\n",
       "      <td>1.000000</td>\n",
       "      <td>1.000000</td>\n",
       "      <td>0.000000</td>\n",
       "      <td>-1.000000</td>\n",
       "      <td>0.000000</td>\n",
       "      <td>1.000000</td>\n",
       "      <td>1.000000</td>\n",
       "    </tr>\n",
       "    <tr>\n",
       "      <th>max</th>\n",
       "      <td>4218.000000</td>\n",
       "      <td>67.000000</td>\n",
       "      <td>1.000000</td>\n",
       "      <td>1.000000</td>\n",
       "      <td>1.000000</td>\n",
       "      <td>1.000000</td>\n",
       "      <td>1.000000</td>\n",
       "      <td>1.000000</td>\n",
       "      <td>1.000000</td>\n",
       "      <td>1.000000</td>\n",
       "      <td>1.000000</td>\n",
       "    </tr>\n",
       "  </tbody>\n",
       "</table>\n",
       "</div>"
      ],
      "text/plain": [
       "              User          Age  TechCompany  SelfEmployed  FamilyHistory  \\\n",
       "count  1525.000000  1525.000000  1525.000000   1525.000000    1525.000000   \n",
       "mean   3456.000000    35.038033     0.496393      0.142295       0.171148   \n",
       "std     440.373894     8.530622     0.731388      0.349467       0.852020   \n",
       "min    2694.000000    -1.000000    -1.000000      0.000000      -1.000000   \n",
       "25%    3075.000000    29.000000     0.000000      0.000000      -1.000000   \n",
       "50%    3456.000000    34.000000     1.000000      0.000000       0.000000   \n",
       "75%    3837.000000    40.000000     1.000000      0.000000       1.000000   \n",
       "max    4218.000000    67.000000     1.000000      1.000000       1.000000   \n",
       "\n",
       "       SoughtTreatment  OpenIdentification  OpenIDAffectCareer  \\\n",
       "count      1525.000000         1525.000000         1525.000000   \n",
       "mean          0.613770            0.118689           -0.841967   \n",
       "std           0.487044            0.327559            0.461734   \n",
       "min           0.000000           -1.000000           -1.000000   \n",
       "25%           0.000000            0.000000           -1.000000   \n",
       "50%           1.000000            0.000000           -1.000000   \n",
       "75%           1.000000            0.000000           -1.000000   \n",
       "max           1.000000            1.000000            1.000000   \n",
       "\n",
       "       ProductivityAffected  ComfortCoworkers  ComfortSupervisors  \n",
       "count           1525.000000       1525.000000         1525.000000  \n",
       "mean               0.099016          0.052459            0.087213  \n",
       "std                0.324066          0.692007            0.752686  \n",
       "min               -1.000000         -1.000000           -1.000000  \n",
       "25%                0.000000          0.000000            0.000000  \n",
       "50%                0.000000          0.000000            0.000000  \n",
       "75%                0.000000          1.000000            1.000000  \n",
       "max                1.000000          1.000000            1.000000  "
      ]
     },
     "execution_count": 241,
     "metadata": {},
     "output_type": "execute_result"
    }
   ],
   "source": [
    "DemographicsDF.describe()"
   ]
  },
  {
   "cell_type": "markdown",
   "metadata": {},
   "source": [
    "The code for the diagonal correlation matrix was retrieved from https://seaborn.pydata.org/examples/many_pairwise_correlations.html"
   ]
  },
  {
   "cell_type": "code",
   "execution_count": 242,
   "metadata": {},
   "outputs": [
    {
     "data": {
      "text/plain": [
       "<Axes: >"
      ]
     },
     "execution_count": 242,
     "metadata": {},
     "output_type": "execute_result"
    },
    {
     "data": {
      "image/png": "[encoded data removed]",
      "text/plain": [
       "<Figure size 1100x900 with 2 Axes>"
      ]
     },
     "metadata": {},
     "output_type": "display_data"
    }
   ],
   "source": [
    "corrMatrix = DemographicsDF.corr(numeric_only=True)\n",
    "mask = np.triu(np.ones_like(corrMatrix, dtype=bool))\n",
    "f, ax = plt.subplots(figsize=(11, 9))\n",
    "cmap = sns.diverging_palette(230, 20, as_cmap=True)\n",
    "sns.heatmap(corrMatrix, mask=mask, cmap=cmap, vmax=.3, center=0,\n",
    "            square=True, linewidths=.5, cbar_kws={\"shrink\": .5})"
   ]
  },
  {
   "cell_type": "markdown",
   "metadata": {},
   "source": [
    "There are a handful of interesting correlations to take a look at. Felling your productivity was affected by mental illness is negatively correlated with tech company employment and postively correlated with self-employment. There are a handful of interesting juxtapositions for self-employment versus tech company employment. There is a strange opposing correlation for family history and a weaker one for seeking treatment. It does, however, make sense that Tech Company employees are more likely openly identify, and find comfort in talking with their coworkers and supervisors over the self-employed, since they tend to not have coworkers and supervisors. Open Identification not really affecting the participants' pereceived productivity is good, as is the fac t that it is correlated with comfort in sharing with coworkers and supervisors.\n",
    "\n",
    "It seems that this would warrant taking a look at what mental health related services and awareness tech companies provide to see if that is correlated with productivity not being affected and if that is positively correlated with open identification and comfort discussing with coworkers and supervisors.\n",
    "\n",
    "Some additional questions to add to the dataframe:\n",
    "\n",
    "* 'Is your anonymity protected if you choose to take advantage of mental health or substance abuse treatment resources provided by your employer?'\n",
    "* 'Do you know the options for mental health care available under your employer-provided health coverage?'\n",
    "* 'Has your employer ever formally discussed mental health (for example, as part of a wellness campaign or other official communication)?'\n",
    "* 'Does your employer offer resources to learn more about mental health disorders and options for seeking help?'\n",
    "* 'Do you have medical coverage (private insurance or state-provided) that includes treatment of mental health disorders?'\n",
    "* 'Do you know local or online resources to seek help for a mental health issue?'\n",
    "* 'Have you observed or experienced an unsupportive or badly handled response to a mental health issue in your current or previous workplace?'"
   ]
  },
  {
   "cell_type": "code",
   "execution_count": 243,
   "metadata": {},
   "outputs": [],
   "source": [
    "query = \"\"\"SELECT A.answertext as Anonymity,\n",
    "A.UserID as User\n",
    "FROM Question as Q\n",
    "JOIN Answer as A\n",
    "on Q.questionid = A.QuestionID\n",
    "WHERE Q.questiontext IN ('Is your anonymity protected if you choose to take advantage of mental health or substance abuse treatment resources provided by your employer?')\n",
    "\"\"\"\n",
    "cur.execute(query)\n",
    "cur.fetchall()\n",
    "DemographicsDF = pd.merge(DemographicsDF, pd.read_sql_query(query, con), on= \"User\")"
   ]
  },
  {
   "cell_type": "code",
   "execution_count": 244,
   "metadata": {},
   "outputs": [],
   "source": [
    "query = \"\"\"SELECT A.answertext as KnowMHCOpt,\n",
    "A.UserID as User\n",
    "FROM Question as Q\n",
    "JOIN Answer as A\n",
    "on Q.questionid = A.QuestionID\n",
    "WHERE Q.questiontext IN ('Do you know the options for mental health care available under your employer-provided health coverage?')\n",
    "\"\"\"\n",
    "cur.execute(query)\n",
    "cur.fetchall()\n",
    "DemographicsDF = pd.merge(DemographicsDF, pd.read_sql_query(query, con), on= \"User\")"
   ]
  },
  {
   "cell_type": "code",
   "execution_count": 245,
   "metadata": {},
   "outputs": [],
   "source": [
    "query = \"\"\"SELECT A.answertext as FormalEmployerDisc,\n",
    "A.UserID as User\n",
    "FROM Question as Q\n",
    "JOIN Answer as A\n",
    "on Q.questionid = A.QuestionID\n",
    "WHERE Q.questiontext IN ('Has your employer ever formally discussed mental health (for example, as part of a wellness campaign or other official communication)?')\n",
    "\"\"\"\n",
    "cur.execute(query)\n",
    "cur.fetchall()\n",
    "DemographicsDF = pd.merge(DemographicsDF, pd.read_sql_query(query, con), on= \"User\")"
   ]
  },
  {
   "cell_type": "code",
   "execution_count": 246,
   "metadata": {},
   "outputs": [],
   "source": [
    "query = \"\"\"SELECT A.answertext as ResourcesOffered,\n",
    "A.UserID as User\n",
    "FROM Question as Q\n",
    "JOIN Answer as A\n",
    "on Q.questionid = A.QuestionID\n",
    "WHERE Q.questiontext IN ('Does your employer offer resources to learn more about mental health disorders and options for seeking help?')\n",
    "\"\"\"\n",
    "cur.execute(query)\n",
    "cur.fetchall()\n",
    "DemographicsDF = pd.merge(DemographicsDF, pd.read_sql_query(query, con), on= \"User\")"
   ]
  },
  {
   "cell_type": "code",
   "execution_count": 247,
   "metadata": {},
   "outputs": [],
   "source": [
    "query = \"\"\"SELECT A.answertext as MHCCovered,\n",
    "A.UserID as User\n",
    "FROM Question as Q\n",
    "JOIN Answer as A\n",
    "on Q.questionid = A.QuestionID\n",
    "WHERE Q.questiontext IN ('Do you have medical coverage (private insurance or state-provided) that includes treatment of mental health disorders?')\n",
    "\"\"\"\n",
    "cur.execute(query)\n",
    "cur.fetchall()\n",
    "DemographicsDF = pd.merge(DemographicsDF, pd.read_sql_query(query, con), on= \"User\")"
   ]
  },
  {
   "cell_type": "code",
   "execution_count": 248,
   "metadata": {},
   "outputs": [],
   "source": [
    "query = \"\"\"SELECT A.answertext as KnowResources,\n",
    "A.UserID as User\n",
    "FROM Question as Q\n",
    "JOIN Answer as A\n",
    "on Q.questionid = A.QuestionID\n",
    "WHERE Q.questiontext IN ('Do you know local or online resources to seek help for a mental health issue?')\n",
    "\"\"\"\n",
    "cur.execute(query)\n",
    "cur.fetchall()\n",
    "DemographicsDF = pd.merge(DemographicsDF, pd.read_sql_query(query, con), on= \"User\")"
   ]
  },
  {
   "cell_type": "code",
   "execution_count": 249,
   "metadata": {},
   "outputs": [],
   "source": [
    "query = \"\"\"SELECT A.answertext as BadResponse,\n",
    "A.UserID as User\n",
    "FROM Question as Q\n",
    "JOIN Answer as A\n",
    "on Q.questionid = A.QuestionID\n",
    "WHERE Q.questiontext IN ('Have you observed or experienced an unsupportive or badly handled response to a mental health issue in your current or previous workplace?')\n",
    "\"\"\"\n",
    "cur.execute(query)\n",
    "cur.fetchall()\n",
    "DemographicsDF = pd.merge(DemographicsDF, pd.read_sql_query(query, con), on= \"User\")"
   ]
  },
  {
   "cell_type": "code",
   "execution_count": 250,
   "metadata": {},
   "outputs": [
    {
     "data": {
      "text/html": [
       "<div>\n",
       "<style scoped>\n",
       "    .dataframe tbody tr th:only-of-type {\n",
       "        vertical-align: middle;\n",
       "    }\n",
       "\n",
       "    .dataframe tbody tr th {\n",
       "        vertical-align: top;\n",
       "    }\n",
       "\n",
       "    .dataframe thead th {\n",
       "        text-align: right;\n",
       "    }\n",
       "</style>\n",
       "<table border=\"1\" class=\"dataframe\">\n",
       "  <thead>\n",
       "    <tr style=\"text-align: right;\">\n",
       "      <th></th>\n",
       "      <th>User</th>\n",
       "      <th>Age</th>\n",
       "      <th>Gender</th>\n",
       "      <th>Race</th>\n",
       "      <th>Country</th>\n",
       "      <th>TechCompany</th>\n",
       "      <th>SelfEmployed</th>\n",
       "      <th>EmployeeCount</th>\n",
       "      <th>FamilyHistory</th>\n",
       "      <th>SoughtTreatment</th>\n",
       "      <th>...</th>\n",
       "      <th>RevealDiagnosis</th>\n",
       "      <th>ComfortCoworkers</th>\n",
       "      <th>ComfortSupervisors</th>\n",
       "      <th>Anonymity</th>\n",
       "      <th>KnowMHCOpt</th>\n",
       "      <th>FormalEmployerDisc</th>\n",
       "      <th>ResourcesOffered</th>\n",
       "      <th>MHCCovered</th>\n",
       "      <th>KnowResources</th>\n",
       "      <th>BadResponse</th>\n",
       "    </tr>\n",
       "  </thead>\n",
       "  <tbody>\n",
       "    <tr>\n",
       "      <th>0</th>\n",
       "      <td>3447</td>\n",
       "      <td>-1</td>\n",
       "      <td>-1</td>\n",
       "      <td>I prefer not to answer</td>\n",
       "      <td>-1</td>\n",
       "      <td>-1</td>\n",
       "      <td>1</td>\n",
       "      <td>-1</td>\n",
       "      <td>1</td>\n",
       "      <td>1</td>\n",
       "      <td>...</td>\n",
       "      <td>No, because it doesn't matter</td>\n",
       "      <td>0</td>\n",
       "      <td>0</td>\n",
       "      <td>-1</td>\n",
       "      <td>-1</td>\n",
       "      <td>-1</td>\n",
       "      <td>-1</td>\n",
       "      <td>1</td>\n",
       "      <td>I know some</td>\n",
       "      <td>-1</td>\n",
       "    </tr>\n",
       "    <tr>\n",
       "      <th>1</th>\n",
       "      <td>3449</td>\n",
       "      <td>-1</td>\n",
       "      <td>-1</td>\n",
       "      <td>I prefer not to answer</td>\n",
       "      <td>-1</td>\n",
       "      <td>-1</td>\n",
       "      <td>1</td>\n",
       "      <td>-1</td>\n",
       "      <td>1</td>\n",
       "      <td>1</td>\n",
       "      <td>...</td>\n",
       "      <td>Sometimes, if it comes up</td>\n",
       "      <td>0</td>\n",
       "      <td>0</td>\n",
       "      <td>-1</td>\n",
       "      <td>-1</td>\n",
       "      <td>-1</td>\n",
       "      <td>-1</td>\n",
       "      <td>1</td>\n",
       "      <td>I know some</td>\n",
       "      <td>-1</td>\n",
       "    </tr>\n",
       "    <tr>\n",
       "      <th>2</th>\n",
       "      <td>3981</td>\n",
       "      <td>0</td>\n",
       "      <td>male</td>\n",
       "      <td>White</td>\n",
       "      <td>United States of America</td>\n",
       "      <td>0</td>\n",
       "      <td>0</td>\n",
       "      <td>500-1000</td>\n",
       "      <td>-1</td>\n",
       "      <td>0</td>\n",
       "      <td>...</td>\n",
       "      <td>-1</td>\n",
       "      <td>0</td>\n",
       "      <td>1</td>\n",
       "      <td>I don't know</td>\n",
       "      <td>No</td>\n",
       "      <td>Yes</td>\n",
       "      <td>I don't know</td>\n",
       "      <td>-1</td>\n",
       "      <td>-1</td>\n",
       "      <td>No</td>\n",
       "    </tr>\n",
       "    <tr>\n",
       "      <th>3</th>\n",
       "      <td>2715</td>\n",
       "      <td>18</td>\n",
       "      <td>male</td>\n",
       "      <td>I prefer not to answer</td>\n",
       "      <td>United Kingdom</td>\n",
       "      <td>0</td>\n",
       "      <td>0</td>\n",
       "      <td>100-500</td>\n",
       "      <td>1</td>\n",
       "      <td>1</td>\n",
       "      <td>...</td>\n",
       "      <td>-1</td>\n",
       "      <td>1</td>\n",
       "      <td>1</td>\n",
       "      <td>Yes</td>\n",
       "      <td>-1</td>\n",
       "      <td>Yes</td>\n",
       "      <td>Yes</td>\n",
       "      <td>-1</td>\n",
       "      <td>-1</td>\n",
       "      <td>No</td>\n",
       "    </tr>\n",
       "    <tr>\n",
       "      <th>4</th>\n",
       "      <td>2803</td>\n",
       "      <td>18</td>\n",
       "      <td>male/androgynous</td>\n",
       "      <td>I prefer not to answer</td>\n",
       "      <td>Canada</td>\n",
       "      <td>-1</td>\n",
       "      <td>1</td>\n",
       "      <td>-1</td>\n",
       "      <td>0</td>\n",
       "      <td>0</td>\n",
       "      <td>...</td>\n",
       "      <td>Not applicable to me</td>\n",
       "      <td>0</td>\n",
       "      <td>0</td>\n",
       "      <td>-1</td>\n",
       "      <td>-1</td>\n",
       "      <td>-1</td>\n",
       "      <td>-1</td>\n",
       "      <td>1</td>\n",
       "      <td>I know some</td>\n",
       "      <td>I've always been self-employed</td>\n",
       "    </tr>\n",
       "  </tbody>\n",
       "</table>\n",
       "<p>5 rows × 27 columns</p>\n",
       "</div>"
      ],
      "text/plain": [
       "   User  Age            Gender                    Race  \\\n",
       "0  3447   -1                -1  I prefer not to answer   \n",
       "1  3449   -1                -1  I prefer not to answer   \n",
       "2  3981    0              male                   White   \n",
       "3  2715   18              male  I prefer not to answer   \n",
       "4  2803   18  male/androgynous  I prefer not to answer   \n",
       "\n",
       "                    Country  TechCompany  SelfEmployed EmployeeCount  \\\n",
       "0                        -1           -1             1            -1   \n",
       "1                        -1           -1             1            -1   \n",
       "2  United States of America            0             0      500-1000   \n",
       "3            United Kingdom            0             0       100-500   \n",
       "4                    Canada           -1             1            -1   \n",
       "\n",
       "   FamilyHistory  SoughtTreatment  ...                RevealDiagnosis  \\\n",
       "0              1                1  ...  No, because it doesn't matter   \n",
       "1              1                1  ...      Sometimes, if it comes up   \n",
       "2             -1                0  ...                             -1   \n",
       "3              1                1  ...                             -1   \n",
       "4              0                0  ...           Not applicable to me   \n",
       "\n",
       "  ComfortCoworkers  ComfortSupervisors     Anonymity KnowMHCOpt  \\\n",
       "0                0                   0            -1         -1   \n",
       "1                0                   0            -1         -1   \n",
       "2                0                   1  I don't know         No   \n",
       "3                1                   1           Yes         -1   \n",
       "4                0                   0            -1         -1   \n",
       "\n",
       "  FormalEmployerDisc  ResourcesOffered MHCCovered  KnowResources  \\\n",
       "0                 -1                -1          1    I know some   \n",
       "1                 -1                -1          1    I know some   \n",
       "2                Yes      I don't know         -1             -1   \n",
       "3                Yes               Yes         -1             -1   \n",
       "4                 -1                -1          1    I know some   \n",
       "\n",
       "                      BadResponse  \n",
       "0                              -1  \n",
       "1                              -1  \n",
       "2                              No  \n",
       "3                              No  \n",
       "4  I've always been self-employed  \n",
       "\n",
       "[5 rows x 27 columns]"
      ]
     },
     "execution_count": 250,
     "metadata": {},
     "output_type": "execute_result"
    }
   ],
   "source": [
    "DemographicsDF.head()"
   ]
  },
  {
   "cell_type": "code",
   "execution_count": 251,
   "metadata": {},
   "outputs": [
    {
     "data": {
      "text/plain": [
       "Anonymity\n",
       "I don't know    804\n",
       "Yes             440\n",
       "-1              217\n",
       "No               64\n",
       "Name: count, dtype: int64"
      ]
     },
     "execution_count": 251,
     "metadata": {},
     "output_type": "execute_result"
    }
   ],
   "source": [
    "DemographicsDF['Anonymity'].value_counts()"
   ]
  },
  {
   "cell_type": "code",
   "execution_count": 252,
   "metadata": {},
   "outputs": [
    {
     "data": {
      "text/plain": [
       "FormalEmployerDisc\n",
       "No              813\n",
       "Yes             369\n",
       "-1              217\n",
       "I don't know    126\n",
       "Name: count, dtype: int64"
      ]
     },
     "execution_count": 252,
     "metadata": {},
     "output_type": "execute_result"
    }
   ],
   "source": [
    "DemographicsDF['FormalEmployerDisc'].value_counts()"
   ]
  },
  {
   "cell_type": "code",
   "execution_count": 253,
   "metadata": {},
   "outputs": [
    {
     "data": {
      "text/plain": [
       "ResourcesOffered\n",
       "No              553\n",
       "Yes             407\n",
       "I don't know    348\n",
       "-1              217\n",
       "Name: count, dtype: int64"
      ]
     },
     "execution_count": 253,
     "metadata": {},
     "output_type": "execute_result"
    }
   ],
   "source": [
    "DemographicsDF['ResourcesOffered'].value_counts()"
   ]
  },
  {
   "cell_type": "code",
   "execution_count": 254,
   "metadata": {},
   "outputs": [
    {
     "data": {
      "text/plain": [
       "MHCCovered\n",
       "-1    1308\n",
       "1      152\n",
       "0       65\n",
       "Name: count, dtype: int64"
      ]
     },
     "execution_count": 254,
     "metadata": {},
     "output_type": "execute_result"
    }
   ],
   "source": [
    "DemographicsDF['MHCCovered'].value_counts()"
   ]
  },
  {
   "cell_type": "code",
   "execution_count": 255,
   "metadata": {},
   "outputs": [
    {
     "data": {
      "text/plain": [
       "KnowResources\n",
       "-1                      1308\n",
       "I know some               80\n",
       "Yes, I know several       70\n",
       "No, I don't know any      67\n",
       "Name: count, dtype: int64"
      ]
     },
     "execution_count": 255,
     "metadata": {},
     "output_type": "execute_result"
    }
   ],
   "source": [
    "DemographicsDF['KnowResources'].value_counts()"
   ]
  },
  {
   "cell_type": "code",
   "execution_count": 256,
   "metadata": {},
   "outputs": [
    {
     "data": {
      "text/plain": [
       "BadResponse\n",
       "No                                640\n",
       "Maybe/Not sure                    402\n",
       "Yes, I observed                   277\n",
       "Yes, I experienced                189\n",
       "I've always been self-employed     15\n",
       "-1                                  2\n",
       "Name: count, dtype: int64"
      ]
     },
     "execution_count": 256,
     "metadata": {},
     "output_type": "execute_result"
    }
   ],
   "source": [
    "DemographicsDF['BadResponse'].value_counts()"
   ]
  },
  {
   "cell_type": "code",
   "execution_count": 257,
   "metadata": {},
   "outputs": [],
   "source": [
    "AnswerDict = {'-1':'0','No':'-1','Yes':'1','Possibly':'0','Unsure':'0','Maybe':'0', 'Not applicable to me':0, 'I don\\'t know':0}\n",
    "colList = ['Anonymity','KnowMHCOpt','FormalEmployerDisc','ResourcesOffered']\n",
    "\n",
    "for column in colList:\n",
    "    for key in AnswerDict.keys():\n",
    "        DemographicsDF[column] = DemographicsDF[column].replace(to_replace=key,value=AnswerDict[key])\n",
    "    DemographicsDF[column] = pd.to_numeric(DemographicsDF[column])"
   ]
  },
  {
   "cell_type": "code",
   "execution_count": 258,
   "metadata": {},
   "outputs": [
    {
     "data": {
      "text/html": [
       "<div>\n",
       "<style scoped>\n",
       "    .dataframe tbody tr th:only-of-type {\n",
       "        vertical-align: middle;\n",
       "    }\n",
       "\n",
       "    .dataframe tbody tr th {\n",
       "        vertical-align: top;\n",
       "    }\n",
       "\n",
       "    .dataframe thead th {\n",
       "        text-align: right;\n",
       "    }\n",
       "</style>\n",
       "<table border=\"1\" class=\"dataframe\">\n",
       "  <thead>\n",
       "    <tr style=\"text-align: right;\">\n",
       "      <th></th>\n",
       "      <th>User</th>\n",
       "      <th>Age</th>\n",
       "      <th>Gender</th>\n",
       "      <th>Race</th>\n",
       "      <th>Country</th>\n",
       "      <th>TechCompany</th>\n",
       "      <th>SelfEmployed</th>\n",
       "      <th>EmployeeCount</th>\n",
       "      <th>FamilyHistory</th>\n",
       "      <th>SoughtTreatment</th>\n",
       "      <th>...</th>\n",
       "      <th>RevealDiagnosis</th>\n",
       "      <th>ComfortCoworkers</th>\n",
       "      <th>ComfortSupervisors</th>\n",
       "      <th>Anonymity</th>\n",
       "      <th>KnowMHCOpt</th>\n",
       "      <th>FormalEmployerDisc</th>\n",
       "      <th>ResourcesOffered</th>\n",
       "      <th>MHCCovered</th>\n",
       "      <th>KnowResources</th>\n",
       "      <th>BadResponse</th>\n",
       "    </tr>\n",
       "  </thead>\n",
       "  <tbody>\n",
       "    <tr>\n",
       "      <th>0</th>\n",
       "      <td>3447</td>\n",
       "      <td>-1</td>\n",
       "      <td>-1</td>\n",
       "      <td>I prefer not to answer</td>\n",
       "      <td>-1</td>\n",
       "      <td>-1</td>\n",
       "      <td>1</td>\n",
       "      <td>-1</td>\n",
       "      <td>1</td>\n",
       "      <td>1</td>\n",
       "      <td>...</td>\n",
       "      <td>No, because it doesn't matter</td>\n",
       "      <td>0</td>\n",
       "      <td>0</td>\n",
       "      <td>0</td>\n",
       "      <td>0</td>\n",
       "      <td>0</td>\n",
       "      <td>0</td>\n",
       "      <td>1</td>\n",
       "      <td>I know some</td>\n",
       "      <td>-1</td>\n",
       "    </tr>\n",
       "    <tr>\n",
       "      <th>1</th>\n",
       "      <td>3449</td>\n",
       "      <td>-1</td>\n",
       "      <td>-1</td>\n",
       "      <td>I prefer not to answer</td>\n",
       "      <td>-1</td>\n",
       "      <td>-1</td>\n",
       "      <td>1</td>\n",
       "      <td>-1</td>\n",
       "      <td>1</td>\n",
       "      <td>1</td>\n",
       "      <td>...</td>\n",
       "      <td>Sometimes, if it comes up</td>\n",
       "      <td>0</td>\n",
       "      <td>0</td>\n",
       "      <td>0</td>\n",
       "      <td>0</td>\n",
       "      <td>0</td>\n",
       "      <td>0</td>\n",
       "      <td>1</td>\n",
       "      <td>I know some</td>\n",
       "      <td>-1</td>\n",
       "    </tr>\n",
       "    <tr>\n",
       "      <th>2</th>\n",
       "      <td>3981</td>\n",
       "      <td>0</td>\n",
       "      <td>male</td>\n",
       "      <td>White</td>\n",
       "      <td>United States of America</td>\n",
       "      <td>0</td>\n",
       "      <td>0</td>\n",
       "      <td>500-1000</td>\n",
       "      <td>-1</td>\n",
       "      <td>0</td>\n",
       "      <td>...</td>\n",
       "      <td>-1</td>\n",
       "      <td>0</td>\n",
       "      <td>1</td>\n",
       "      <td>0</td>\n",
       "      <td>-1</td>\n",
       "      <td>1</td>\n",
       "      <td>0</td>\n",
       "      <td>-1</td>\n",
       "      <td>-1</td>\n",
       "      <td>No</td>\n",
       "    </tr>\n",
       "    <tr>\n",
       "      <th>3</th>\n",
       "      <td>2715</td>\n",
       "      <td>18</td>\n",
       "      <td>male</td>\n",
       "      <td>I prefer not to answer</td>\n",
       "      <td>United Kingdom</td>\n",
       "      <td>0</td>\n",
       "      <td>0</td>\n",
       "      <td>100-500</td>\n",
       "      <td>1</td>\n",
       "      <td>1</td>\n",
       "      <td>...</td>\n",
       "      <td>-1</td>\n",
       "      <td>1</td>\n",
       "      <td>1</td>\n",
       "      <td>1</td>\n",
       "      <td>0</td>\n",
       "      <td>1</td>\n",
       "      <td>1</td>\n",
       "      <td>-1</td>\n",
       "      <td>-1</td>\n",
       "      <td>No</td>\n",
       "    </tr>\n",
       "    <tr>\n",
       "      <th>4</th>\n",
       "      <td>2803</td>\n",
       "      <td>18</td>\n",
       "      <td>male/androgynous</td>\n",
       "      <td>I prefer not to answer</td>\n",
       "      <td>Canada</td>\n",
       "      <td>-1</td>\n",
       "      <td>1</td>\n",
       "      <td>-1</td>\n",
       "      <td>0</td>\n",
       "      <td>0</td>\n",
       "      <td>...</td>\n",
       "      <td>Not applicable to me</td>\n",
       "      <td>0</td>\n",
       "      <td>0</td>\n",
       "      <td>0</td>\n",
       "      <td>0</td>\n",
       "      <td>0</td>\n",
       "      <td>0</td>\n",
       "      <td>1</td>\n",
       "      <td>I know some</td>\n",
       "      <td>I've always been self-employed</td>\n",
       "    </tr>\n",
       "  </tbody>\n",
       "</table>\n",
       "<p>5 rows × 27 columns</p>\n",
       "</div>"
      ],
      "text/plain": [
       "   User  Age            Gender                    Race  \\\n",
       "0  3447   -1                -1  I prefer not to answer   \n",
       "1  3449   -1                -1  I prefer not to answer   \n",
       "2  3981    0              male                   White   \n",
       "3  2715   18              male  I prefer not to answer   \n",
       "4  2803   18  male/androgynous  I prefer not to answer   \n",
       "\n",
       "                    Country  TechCompany  SelfEmployed EmployeeCount  \\\n",
       "0                        -1           -1             1            -1   \n",
       "1                        -1           -1             1            -1   \n",
       "2  United States of America            0             0      500-1000   \n",
       "3            United Kingdom            0             0       100-500   \n",
       "4                    Canada           -1             1            -1   \n",
       "\n",
       "   FamilyHistory  SoughtTreatment  ...                RevealDiagnosis  \\\n",
       "0              1                1  ...  No, because it doesn't matter   \n",
       "1              1                1  ...      Sometimes, if it comes up   \n",
       "2             -1                0  ...                             -1   \n",
       "3              1                1  ...                             -1   \n",
       "4              0                0  ...           Not applicable to me   \n",
       "\n",
       "  ComfortCoworkers  ComfortSupervisors  Anonymity KnowMHCOpt  \\\n",
       "0                0                   0          0          0   \n",
       "1                0                   0          0          0   \n",
       "2                0                   1          0         -1   \n",
       "3                1                   1          1          0   \n",
       "4                0                   0          0          0   \n",
       "\n",
       "  FormalEmployerDisc  ResourcesOffered MHCCovered  KnowResources  \\\n",
       "0                  0                 0          1    I know some   \n",
       "1                  0                 0          1    I know some   \n",
       "2                  1                 0         -1             -1   \n",
       "3                  1                 1         -1             -1   \n",
       "4                  0                 0          1    I know some   \n",
       "\n",
       "                      BadResponse  \n",
       "0                              -1  \n",
       "1                              -1  \n",
       "2                              No  \n",
       "3                              No  \n",
       "4  I've always been self-employed  \n",
       "\n",
       "[5 rows x 27 columns]"
      ]
     },
     "execution_count": 258,
     "metadata": {},
     "output_type": "execute_result"
    }
   ],
   "source": [
    "DemographicsDF.head()"
   ]
  },
  {
   "cell_type": "code",
   "execution_count": 259,
   "metadata": {},
   "outputs": [
    {
     "data": {
      "text/plain": [
       "<Axes: >"
      ]
     },
     "execution_count": 259,
     "metadata": {},
     "output_type": "execute_result"
    },
    {
     "data": {
      "image/png": "[encoded data removed]",
      "text/plain": [
       "<Figure size 1100x900 with 2 Axes>"
      ]
     },
     "metadata": {},
     "output_type": "display_data"
    }
   ],
   "source": [
    "corrMatrix = DemographicsDF.corr(numeric_only=True)\n",
    "mask = np.triu(np.ones_like(corrMatrix, dtype=bool))\n",
    "f, ax = plt.subplots(figsize=(11, 9))\n",
    "cmap = sns.diverging_palette(230, 20, as_cmap=True)\n",
    "sns.heatmap(corrMatrix, mask=mask, cmap=cmap, vmax=.3, center=0,\n",
    "            square=True, linewidths=.5, cbar_kws={\"shrink\": .5})"
   ]
  },
  {
   "cell_type": "markdown",
   "metadata": {},
   "source": [
    "There is an interesting connection between feeling productivity is affected, and discomfort in sharing with coworkers and supervisors. There is also a correlation between anonymity not being protected and feeling producivity is affected. A bit more probing is required, but my hypothesis is that people feel ashamed that their productivity and do not feel comfortable talking with people about it.\n",
    "\n",
    "There is also a shared correlation between the new questions asked, knowing your mental healthcare options correlates with a formal discussion about mental health by an employer and resources being offered. It is important to note that certain questions were not simplified into -1, 0, and 1 so those have to be looked at separately."
   ]
  },
  {
   "cell_type": "code",
   "execution_count": 260,
   "metadata": {},
   "outputs": [
    {
     "data": {
      "text/plain": [
       "<seaborn.axisgrid.FacetGrid at 0x1b6e89f37d0>"
      ]
     },
     "execution_count": 260,
     "metadata": {},
     "output_type": "execute_result"
    },
    {
     "data": {
      "image/png": "[encoded data removed]",
      "text/plain": [
       "<Figure size 631.111x500 with 1 Axes>"
      ]
     },
     "metadata": {},
     "output_type": "display_data"
    }
   ],
   "source": [
    "sns.displot(DemographicsDF, x=\"KnowMHCOpt\", hue=\"SoughtTreatment\", multiple=\"stack\", bins=3)"
   ]
  },
  {
   "cell_type": "code",
   "execution_count": 265,
   "metadata": {},
   "outputs": [
    {
     "data": {
      "text/plain": [
       "<seaborn.axisgrid.FacetGrid at 0x1b6e83d2f00>"
      ]
     },
     "execution_count": 265,
     "metadata": {},
     "output_type": "execute_result"
    },
    {
     "data": {
      "image/png": "[encoded data removed]",
      "text/plain": [
       "<Figure size 631.111x500 with 1 Axes>"
      ]
     },
     "metadata": {},
     "output_type": "display_data"
    }
   ],
   "source": [
    "sns.displot(DemographicsDF, x=\"ResourcesOffered\", hue=\"SoughtTreatment\", multiple=\"stack\", bins=3)"
   ]
  },
  {
   "cell_type": "code",
   "execution_count": 266,
   "metadata": {},
   "outputs": [
    {
     "data": {
      "text/plain": [
       "<seaborn.axisgrid.FacetGrid at 0x1b6e87af500>"
      ]
     },
     "execution_count": 266,
     "metadata": {},
     "output_type": "execute_result"
    },
    {
     "data": {
      "image/png": "[encoded data removed]",
      "text/plain": [
       "<Figure size 631.111x500 with 1 Axes>"
      ]
     },
     "metadata": {},
     "output_type": "display_data"
    }
   ],
   "source": [
    "sns.displot(DemographicsDF, x=\"FormalEmployerDisc\", hue=\"SoughtTreatment\", multiple=\"stack\", bins=3)"
   ]
  },
  {
   "cell_type": "code",
   "execution_count": 263,
   "metadata": {},
   "outputs": [
    {
     "data": {
      "text/plain": [
       "<seaborn.axisgrid.FacetGrid at 0x1b6e69caf00>"
      ]
     },
     "execution_count": 263,
     "metadata": {},
     "output_type": "execute_result"
    },
    {
     "data": {
      "image/png": "[encoded data removed]",
      "text/plain": [
       "<Figure size 606.111x500 with 1 Axes>"
      ]
     },
     "metadata": {},
     "output_type": "display_data"
    }
   ],
   "source": [
    "sns.displot(DemographicsDF, x=\"FormalEmployerDisc\", hue=\"KnowMHCOpt\", multiple=\"stack\", bins=3)"
   ]
  },
  {
   "cell_type": "code",
   "execution_count": 264,
   "metadata": {},
   "outputs": [
    {
     "data": {
      "text/plain": [
       "<seaborn.axisgrid.FacetGrid at 0x1b6e0f34c80>"
      ]
     },
     "execution_count": 264,
     "metadata": {},
     "output_type": "execute_result"
    },
    {
     "data": {
      "image/png": "[encoded data removed]",
      "text/plain": [
       "<Figure size 633.986x500 with 1 Axes>"
      ]
     },
     "metadata": {},
     "output_type": "display_data"
    }
   ],
   "source": [
    "sns.displot(DemographicsDF, x=\"FormalEmployerDisc\", hue=\"ResourcesOffered\", multiple=\"stack\", bins=3)"
   ]
  },
  {
   "cell_type": "markdown",
   "metadata": {},
   "source": [
    "There definitely seems to be a correlation between seeking treatment, employers offering resources, the employer having a formal discussion about mental health, and knowing one's mental healthcare options. It's an interesting clustered relationship because it is almost fully in the hands of the employer. They are the ones offering resources, having the formal discussion, and oftentimes will be offering the healthcare plan to their employees. There seems to be many steps that employers can do to help people seek treatment, which is not the be-all and end-all for mental health stigma and problems, but it is a great first step."
   ]
  },
  {
   "cell_type": "code",
   "execution_count": 270,
   "metadata": {},
   "outputs": [
    {
     "data": {
      "text/plain": [
       "<seaborn.axisgrid.FacetGrid at 0x1b6e88f3e90>"
      ]
     },
     "execution_count": 270,
     "metadata": {},
     "output_type": "execute_result"
    },
    {
     "data": {
      "image/png": "[encoded data removed]",
      "text/plain": [
       "<Figure size 640.486x500 with 1 Axes>"
      ]
     },
     "metadata": {},
     "output_type": "display_data"
    }
   ],
   "source": [
    "sns.displot(DemographicsDF, x=\"OpenIdentification\", hue=\"ComfortCoworkers\", multiple=\"stack\", bins=3)"
   ]
  },
  {
   "cell_type": "code",
   "execution_count": 271,
   "metadata": {},
   "outputs": [
    {
     "data": {
      "text/plain": [
       "<seaborn.axisgrid.FacetGrid at 0x1b6e87aedb0>"
      ]
     },
     "execution_count": 271,
     "metadata": {},
     "output_type": "execute_result"
    },
    {
     "data": {
      "image/png": "[encoded data removed]",
      "text/plain": [
       "<Figure size 648.861x500 with 1 Axes>"
      ]
     },
     "metadata": {},
     "output_type": "display_data"
    }
   ],
   "source": [
    "sns.displot(DemographicsDF, x=\"OpenIdentification\", hue=\"ComfortSupervisors\", multiple=\"stack\", bins=3)"
   ]
  },
  {
   "cell_type": "code",
   "execution_count": 274,
   "metadata": {},
   "outputs": [
    {
     "data": {
      "text/plain": [
       "<seaborn.axisgrid.FacetGrid at 0x1b6e847d5e0>"
      ]
     },
     "execution_count": 274,
     "metadata": {},
     "output_type": "execute_result"
    },
    {
     "data": {
      "image/png": "[encoded data removed]",
      "text/plain": [
       "<Figure size 639.361x500 with 1 Axes>"
      ]
     },
     "metadata": {},
     "output_type": "display_data"
    }
   ],
   "source": [
    "sns.displot(DemographicsDF, x=\"SoughtTreatment\", hue=\"OpenIdentification\", multiple=\"stack\", bins=3)"
   ]
  },
  {
   "cell_type": "code",
   "execution_count": 272,
   "metadata": {},
   "outputs": [
    {
     "data": {
      "text/plain": [
       "OpenIdentification\n",
       " 0    1340\n",
       " 1     183\n",
       "-1       2\n",
       "Name: count, dtype: int64"
      ]
     },
     "execution_count": 272,
     "metadata": {},
     "output_type": "execute_result"
    }
   ],
   "source": [
    "DemographicsDF[\"OpenIdentification\"].value_counts()"
   ]
  },
  {
   "cell_type": "markdown",
   "metadata": {},
   "source": [
    "Open Identification seems to have few non-zero entries but it still seems to correlate Open Identification and Comfort in sharing. There is also a certain relationship between seeking treatment and opently identifying, which could reduce stigma."
   ]
  },
  {
   "cell_type": "code",
   "execution_count": 268,
   "metadata": {},
   "outputs": [
    {
     "data": {
      "text/plain": [
       "<seaborn.axisgrid.FacetGrid at 0x1b6e8669dc0>"
      ]
     },
     "execution_count": 268,
     "metadata": {},
     "output_type": "execute_result"
    },
    {
     "data": {
      "image/png": "[encoded data removed]",
      "text/plain": [
       "<Figure size 640.486x500 with 1 Axes>"
      ]
     },
     "metadata": {},
     "output_type": "display_data"
    }
   ],
   "source": [
    "sns.displot(DemographicsDF, x=\"ProductivityAffected\", hue=\"ComfortCoworkers\", multiple=\"stack\", bins=3)"
   ]
  },
  {
   "cell_type": "code",
   "execution_count": 267,
   "metadata": {},
   "outputs": [
    {
     "data": {
      "text/plain": [
       "<seaborn.axisgrid.FacetGrid at 0x1b6ea77a540>"
      ]
     },
     "execution_count": 267,
     "metadata": {},
     "output_type": "execute_result"
    },
    {
     "data": {
      "image/png": "[encoded data removed]",
      "text/plain": [
       "<Figure size 648.861x500 with 1 Axes>"
      ]
     },
     "metadata": {},
     "output_type": "display_data"
    }
   ],
   "source": [
    "sns.displot(DemographicsDF, x=\"ProductivityAffected\", hue=\"ComfortSupervisors\", multiple=\"stack\", bins=3)"
   ]
  },
  {
   "cell_type": "code",
   "execution_count": 269,
   "metadata": {},
   "outputs": [
    {
     "data": {
      "text/plain": [
       "ProductivityAffected\n",
       " 0    1350\n",
       " 1     163\n",
       "-1      12\n",
       "Name: count, dtype: int64"
      ]
     },
     "execution_count": 269,
     "metadata": {},
     "output_type": "execute_result"
    }
   ],
   "source": [
    "DemographicsDF['ProductivityAffected'].value_counts()"
   ]
  },
  {
   "cell_type": "markdown",
   "metadata": {},
   "source": [
    "Productivity affected seems to be difficult to correlated with comfort sharing since most of the values are zero, which is a mixed response or non-response. This means the aforementioned correlation between producivity being affected and comfort sharing might have been spurious. "
   ]
  },
  {
   "cell_type": "code",
   "execution_count": 275,
   "metadata": {},
   "outputs": [
    {
     "data": {
      "text/plain": [
       "BadResponse\n",
       "No                                640\n",
       "Maybe/Not sure                    402\n",
       "Yes, I observed                   277\n",
       "Yes, I experienced                189\n",
       "I've always been self-employed     15\n",
       "-1                                  2\n",
       "Name: count, dtype: int64"
      ]
     },
     "execution_count": 275,
     "metadata": {},
     "output_type": "execute_result"
    }
   ],
   "source": [
    "DemographicsDF['BadResponse'].value_counts()"
   ]
  },
  {
   "cell_type": "code",
   "execution_count": 281,
   "metadata": {},
   "outputs": [
    {
     "data": {
      "text/plain": [
       "array([[<Axes: title={'center': 'OpenIdentification'}>,\n",
       "        <Axes: title={'center': 'ComfortCoworkers'}>],\n",
       "       [<Axes: title={'center': 'ComfortSupervisors'}>, <Axes: >]],\n",
       "      dtype=object)"
      ]
     },
     "execution_count": 281,
     "metadata": {},
     "output_type": "execute_result"
    },
    {
     "data": {
      "image/png": "[encoded data removed]",
      "text/plain": [
       "<Figure size 640x480 with 4 Axes>"
      ]
     },
     "metadata": {},
     "output_type": "display_data"
    }
   ],
   "source": [
    "DemographicsDF[DemographicsDF['BadResponse']== 'Yes, I observed'].hist(column=['OpenIdentification','ComfortCoworkers','ComfortSupervisors'], bins=5)"
   ]
  },
  {
   "cell_type": "code",
   "execution_count": 282,
   "metadata": {},
   "outputs": [
    {
     "data": {
      "text/plain": [
       "array([[<Axes: title={'center': 'OpenIdentification'}>,\n",
       "        <Axes: title={'center': 'ComfortCoworkers'}>],\n",
       "       [<Axes: title={'center': 'ComfortSupervisors'}>, <Axes: >]],\n",
       "      dtype=object)"
      ]
     },
     "execution_count": 282,
     "metadata": {},
     "output_type": "execute_result"
    },
    {
     "data": {
      "image/png": "[encoded data removed]",
      "text/plain": [
       "<Figure size 640x480 with 4 Axes>"
      ]
     },
     "metadata": {},
     "output_type": "display_data"
    }
   ],
   "source": [
    "DemographicsDF[DemographicsDF['BadResponse']== 'Yes, I experienced'].hist(column=['OpenIdentification','ComfortCoworkers','ComfortSupervisors'], bins=5)"
   ]
  },
  {
   "cell_type": "code",
   "execution_count": 284,
   "metadata": {},
   "outputs": [
    {
     "data": {
      "text/plain": [
       "array([[<Axes: title={'center': 'OpenIdentification'}>,\n",
       "        <Axes: title={'center': 'ComfortCoworkers'}>],\n",
       "       [<Axes: title={'center': 'ComfortSupervisors'}>, <Axes: >]],\n",
       "      dtype=object)"
      ]
     },
     "execution_count": 284,
     "metadata": {},
     "output_type": "execute_result"
    },
    {
     "data": {
      "image/png": "[encoded data removed]",
      "text/plain": [
       "<Figure size 640x480 with 4 Axes>"
      ]
     },
     "metadata": {},
     "output_type": "display_data"
    }
   ],
   "source": [
    "DemographicsDF[DemographicsDF['BadResponse']== 'No'].hist(column=['OpenIdentification','ComfortCoworkers','ComfortSupervisors'], bins=5)"
   ]
  },
  {
   "cell_type": "code",
   "execution_count": 286,
   "metadata": {},
   "outputs": [
    {
     "data": {
      "text/plain": [
       "array([[<Axes: title={'center': 'OpenIdentification'}>,\n",
       "        <Axes: title={'center': 'ComfortCoworkers'}>],\n",
       "       [<Axes: title={'center': 'ComfortSupervisors'}>, <Axes: >]],\n",
       "      dtype=object)"
      ]
     },
     "execution_count": 286,
     "metadata": {},
     "output_type": "execute_result"
    },
    {
     "data": {
      "image/png": "[encoded data removed]",
      "text/plain": [
       "<Figure size 640x480 with 4 Axes>"
      ]
     },
     "metadata": {},
     "output_type": "display_data"
    }
   ],
   "source": [
    "DemographicsDF[DemographicsDF['BadResponse']== 'Maybe/Not sure'].hist(column=['OpenIdentification','ComfortCoworkers','ComfortSupervisors'], bins=5)"
   ]
  },
  {
   "cell_type": "markdown",
   "metadata": {},
   "source": []
  },
  {
   "cell_type": "code",
   "execution_count": null,
   "metadata": {},
   "outputs": [],
   "source": []
  }
 ],
 "metadata": {
  "kernelspec": {
   "display_name": "Python 3",
   "language": "python",
   "name": "python3"
  },
  "language_info": {
   "codemirror_mode": {
    "name": "ipython",
    "version": 3
   },
   "file_extension": ".py",
   "mimetype": "text/x-python",
   "name": "python",
   "nbconvert_exporter": "python",
   "pygments_lexer": "ipython3",
   "version": "3.12.1"
  }
 },
 "nbformat": 4,
 "nbformat_minor": 2
}
