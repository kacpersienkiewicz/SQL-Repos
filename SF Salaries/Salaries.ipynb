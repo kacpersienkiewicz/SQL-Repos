{
 "cells": [
  {
   "cell_type": "markdown",
   "metadata": {},
   "source": [
    "This is an analysis of the *San Francisco Salaries* dataset acquired from the following link at [Kaggle](https://www.kaggle.com/datasets/kaggle/sf-salaries?resource=download).\n",
    "\n",
    "THe data is for San Francisco city employees from 2011-2014. This allows for a comparisons in one broad category: how compensation is distributed and how it changed over the four-year period. This encompases a variety of aspects.\n",
    "\n",
    "Compensation distribution can refer to the whole government budger and within specific groups or positions. For example, looking at what portion of a position's compensation is overtime, and what portion of the whole budget goes towards IT Workers in general."
   ]
  },
  {
   "cell_type": "code",
   "execution_count": 1,
   "metadata": {},
   "outputs": [],
   "source": [
    "import sqlite3 as sql\n",
    "import pandas as pd"
   ]
  },
  {
   "cell_type": "code",
   "execution_count": 2,
   "metadata": {},
   "outputs": [],
   "source": [
    "con = sql.connect(\"Salaries.sqlite\")\n",
    "cur = con.cursor()"
   ]
  },
  {
   "cell_type": "code",
   "execution_count": 3,
   "metadata": {},
   "outputs": [],
   "source": [
    "query = \"SELECT name FROM sqlite_master WHERE type='table';\"\n",
    "cur.execute(query)\n",
    "tables = cur.fetchall()"
   ]
  },
  {
   "cell_type": "code",
   "execution_count": 4,
   "metadata": {},
   "outputs": [
    {
     "data": {
      "text/plain": [
       "{('Salaries',): ['Id',\n",
       "  'EmployeeName',\n",
       "  'JobTitle',\n",
       "  'BasePay',\n",
       "  'OvertimePay',\n",
       "  'OtherPay',\n",
       "  'Benefits',\n",
       "  'TotalPay',\n",
       "  'TotalPayBenefits',\n",
       "  'Year',\n",
       "  'Notes',\n",
       "  'Agency',\n",
       "  'Status']}"
      ]
     },
     "execution_count": 4,
     "metadata": {},
     "output_type": "execute_result"
    }
   ],
   "source": [
    "columnDict = {}\n",
    "\n",
    "for i,table in enumerate(tables):\n",
    "    query = \"SELECT * FROM %s;\" % table\n",
    "    cur.execute(query)\n",
    "    cols = list(cur.description)\n",
    "    valuelist = []\n",
    "    for j, col in enumerate(cols):\n",
    "        collist = list(col)\n",
    "        valuelist.append(collist[0])\n",
    "    columnDict[table] = valuelist\n",
    "\n",
    "columnDict"
   ]
  },
  {
   "cell_type": "code",
   "execution_count": 5,
   "metadata": {},
   "outputs": [
    {
     "data": {
      "text/plain": [
       "[(2011,), (2012,), (2013,), (2014,)]"
      ]
     },
     "execution_count": 5,
     "metadata": {},
     "output_type": "execute_result"
    }
   ],
   "source": [
    "query = \"\"\" SELECT DISTINCT Year from Salaries\"\"\"\n",
    "cur.execute(query)\n",
    "cur.fetchall()"
   ]
  },
  {
   "cell_type": "code",
   "execution_count": 6,
   "metadata": {},
   "outputs": [
    {
     "data": {
      "text/plain": [
       "[(2011, 36159), (2012, 36766), (2013, 37606), (2014, 38123)]"
      ]
     },
     "execution_count": 6,
     "metadata": {},
     "output_type": "execute_result"
    }
   ],
   "source": [
    "query = \"\"\" SELECT Year, COUNT(Year) from Salaries GROUP By Year\"\"\"\n",
    "cur.execute(query)\n",
    "cur.fetchall()"
   ]
  },
  {
   "cell_type": "code",
   "execution_count": 7,
   "metadata": {},
   "outputs": [
    {
     "data": {
      "text/plain": [
       "[('',)]"
      ]
     },
     "execution_count": 7,
     "metadata": {},
     "output_type": "execute_result"
    }
   ],
   "source": [
    "query = \"\"\" SELECT DISTINCT Notes from Salaries\"\"\"\n",
    "cur.execute(query)\n",
    "cur.fetchall()"
   ]
  },
  {
   "cell_type": "code",
   "execution_count": 8,
   "metadata": {},
   "outputs": [
    {
     "data": {
      "text/plain": [
       "[('San Francisco',)]"
      ]
     },
     "execution_count": 8,
     "metadata": {},
     "output_type": "execute_result"
    }
   ],
   "source": [
    "query = \"\"\" SELECT DISTINCT Agency from Salaries\"\"\"\n",
    "cur.execute(query)\n",
    "cur.fetchall()"
   ]
  },
  {
   "cell_type": "code",
   "execution_count": 9,
   "metadata": {},
   "outputs": [
    {
     "data": {
      "text/plain": [
       "[('',), ('PT',), ('FT',)]"
      ]
     },
     "execution_count": 9,
     "metadata": {},
     "output_type": "execute_result"
    }
   ],
   "source": [
    "query = \"\"\" SELECT DISTINCT Status from Salaries\"\"\"\n",
    "cur.execute(query)\n",
    "cur.fetchall()"
   ]
  },
  {
   "cell_type": "code",
   "execution_count": 10,
   "metadata": {},
   "outputs": [
    {
     "data": {
      "text/plain": [
       "[('', 110535), ('FT', 22334), ('PT', 15785)]"
      ]
     },
     "execution_count": 10,
     "metadata": {},
     "output_type": "execute_result"
    }
   ],
   "source": [
    "query = \"\"\" SELECT Status, COUNT(Status) from Salaries GROUP By Status\"\"\"\n",
    "cur.execute(query)\n",
    "cur.fetchall()"
   ]
  },
  {
   "cell_type": "code",
   "execution_count": 21,
   "metadata": {},
   "outputs": [
    {
     "data": {
      "text/plain": [
       "[('GENERAL MANAGER-METROPOLITAN TRANSIT AUTHORITY',),\n",
       " ('CAPTAIN III (POLICE DEPARTMENT)',),\n",
       " ('WIRE ROPE CABLE MAINTENANCE MECHANIC',),\n",
       " ('DEPUTY CHIEF OF DEPARTMENT,(FIRE DEPARTMENT)',),\n",
       " ('ASSISTANT DEPUTY CHIEF II',)]"
      ]
     },
     "execution_count": 21,
     "metadata": {},
     "output_type": "execute_result"
    }
   ],
   "source": [
    "query = \"\"\"SELECT DISTINCT JobTitle from Salaries\"\"\"\n",
    "cur.execute(query)\n",
    "cur.fetchmany(5)"
   ]
  },
  {
   "cell_type": "code",
   "execution_count": 22,
   "metadata": {},
   "outputs": [
    {
     "data": {
      "text/plain": [
       "[(2159,)]"
      ]
     },
     "execution_count": 22,
     "metadata": {},
     "output_type": "execute_result"
    }
   ],
   "source": [
    "query = \"\"\"SELECT COUNT(DISTINCT JobTitle) from Salaries\"\"\"\n",
    "cur.execute(query)\n",
    "cur.fetchmany(5)"
   ]
  },
  {
   "cell_type": "code",
   "execution_count": 12,
   "metadata": {},
   "outputs": [
    {
     "data": {
      "text/plain": [
       "[('',), ('PT',), ('FT',)]"
      ]
     },
     "execution_count": 12,
     "metadata": {},
     "output_type": "execute_result"
    }
   ],
   "source": [
    "query = \"\"\" SELECT DISTINCT Status from Salaries\"\"\"\n",
    "cur.execute(query)\n",
    "cur.fetchall()"
   ]
  },
  {
   "cell_type": "code",
   "execution_count": 23,
   "metadata": {},
   "outputs": [
    {
     "data": {
      "text/plain": [
       "[(-166.01, 'Not Provided', 66053.72928807836)]"
      ]
     },
     "execution_count": 23,
     "metadata": {},
     "output_type": "execute_result"
    }
   ],
   "source": [
    "query = \"\"\" SELECT MIN(BasePay), MAX(BasePay), AVG(BasePay) from Salaries\"\"\"\n",
    "cur.execute(query)\n",
    "cur.fetchall()"
   ]
  },
  {
   "cell_type": "code",
   "execution_count": 31,
   "metadata": {},
   "outputs": [
    {
     "data": {
      "text/plain": [
       "[('Junior Clerk', -166.01),\n",
       " ('Junior Clerk', -121.63),\n",
       " ('Junior Clerk', -109.22),\n",
       " ('Junior Clerk', -106.6),\n",
       " ('Junior Clerk', -101.88),\n",
       " ('Junior Clerk', -93.14),\n",
       " ('Junior Clerk', -87.38),\n",
       " ('Junior Clerk', -75.67),\n",
       " ('Junior Clerk', -59.59),\n",
       " ('Junior Clerk', -30.58),\n",
       " ('Clerk', -9.5)]"
      ]
     },
     "execution_count": 31,
     "metadata": {},
     "output_type": "execute_result"
    }
   ],
   "source": [
    "query=\"Select JobTitle,BasePay from Salaries where BasePay < 0\"\n",
    "cur.execute(query)\n",
    "cur.fetchall()"
   ]
  },
  {
   "cell_type": "code",
   "execution_count": 40,
   "metadata": {},
   "outputs": [
    {
     "data": {
      "text/plain": [
       "[(596,)]"
      ]
     },
     "execution_count": 40,
     "metadata": {},
     "output_type": "execute_result"
    }
   ],
   "source": [
    "query=\"Select Count(JobTitle) from Salaries where JobTitle in ('Junior Clerk')\"\n",
    "cur.execute(query)\n",
    "cur.fetchall()"
   ]
  },
  {
   "cell_type": "code",
   "execution_count": 24,
   "metadata": {},
   "outputs": [
    {
     "data": {
      "text/plain": [
       "[(-0.01, 'Not Provided', 5065.923568286087)]"
      ]
     },
     "execution_count": 24,
     "metadata": {},
     "output_type": "execute_result"
    }
   ],
   "source": [
    "query = \"\"\" SELECT MIN(OvertimePay), MAX(OvertimePay), AVG(OvertimePay) from Salaries where OvertimePay Not in ('Not Provided')\"\"\"\n",
    "cur.execute(query)\n",
    "cur.fetchall()"
   ]
  },
  {
   "cell_type": "code",
   "execution_count": 33,
   "metadata": {},
   "outputs": [
    {
     "data": {
      "text/plain": [
       "[('Senior Eligibility Worker', -0.01)]"
      ]
     },
     "execution_count": 33,
     "metadata": {},
     "output_type": "execute_result"
    }
   ],
   "source": [
    "query=\"Select JobTitle,OvertimePay from Salaries where OvertimePay < 0\"\n",
    "cur.execute(query)\n",
    "cur.fetchall()"
   ]
  },
  {
   "cell_type": "code",
   "execution_count": 25,
   "metadata": {},
   "outputs": [
    {
     "data": {
      "text/plain": [
       "[(-7058.59, 'Not Provided', 3648.6691153282113)]"
      ]
     },
     "execution_count": 25,
     "metadata": {},
     "output_type": "execute_result"
    }
   ],
   "source": [
    "query = \"\"\" SELECT MIN(OtherPay), MAX(OtherPay), AVG(OtherPay) from Salaries where OtherPay Not in ('Not Provided')\"\"\"\n",
    "cur.execute(query)\n",
    "cur.fetchall()"
   ]
  },
  {
   "cell_type": "code",
   "execution_count": 34,
   "metadata": {},
   "outputs": [
    {
     "data": {
      "text/plain": [
       "[('IS Business Analyst-Principal', -7058.59),\n",
       " ('Custodial Supervisor', -9.6),\n",
       " ('Gardener', -46.76),\n",
       " ('Special Nurse', -50.19),\n",
       " ('Counselor, Log Cabin Ranch', -618.13)]"
      ]
     },
     "execution_count": 34,
     "metadata": {},
     "output_type": "execute_result"
    }
   ],
   "source": [
    "query=\"Select JobTitle,OtherPay from Salaries where OtherPay < 0\"\n",
    "cur.execute(query)\n",
    "cur.fetchall()"
   ]
  },
  {
   "cell_type": "code",
   "execution_count": 26,
   "metadata": {},
   "outputs": [
    {
     "data": {
      "text/plain": [
       "[(-33.89, 'Not Provided', 18924.232838874163)]"
      ]
     },
     "execution_count": 26,
     "metadata": {},
     "output_type": "execute_result"
    }
   ],
   "source": [
    "query = \"\"\" SELECT MIN(Benefits), MAX(Benefits), AVG(Benefits) from Salaries where Benefits Not in ('Not Provided')\"\"\"\n",
    "cur.execute(query)\n",
    "cur.fetchall()"
   ]
  },
  {
   "cell_type": "code",
   "execution_count": 35,
   "metadata": {},
   "outputs": [
    {
     "data": {
      "text/plain": [
       "[('Police Officer 3', -2.73),\n",
       " ('Police Officer 3', -8.2),\n",
       " ('Police Officer 3', -33.89),\n",
       " ('Secretary 2', -13.8)]"
      ]
     },
     "execution_count": 35,
     "metadata": {},
     "output_type": "execute_result"
    }
   ],
   "source": [
    "query=\"Select JobTitle,Benefits from Salaries where Benefits < 0\"\n",
    "cur.execute(query)\n",
    "cur.fetchall()"
   ]
  },
  {
   "cell_type": "code",
   "execution_count": 27,
   "metadata": {},
   "outputs": [
    {
     "data": {
      "text/plain": [
       "[(-618.13, 567595.43, 74768.32197169265)]"
      ]
     },
     "execution_count": 27,
     "metadata": {},
     "output_type": "execute_result"
    }
   ],
   "source": [
    "query = \"\"\" SELECT MIN(TotalPay), MAX(TotalPay), AVG(TotalPay) from Salaries\"\"\"\n",
    "cur.execute(query)\n",
    "cur.fetchall()"
   ]
  },
  {
   "cell_type": "code",
   "execution_count": 28,
   "metadata": {},
   "outputs": [
    {
     "data": {
      "text/plain": [
       "[(-618.13, 567595.43, 93692.55481056681)]"
      ]
     },
     "execution_count": 28,
     "metadata": {},
     "output_type": "execute_result"
    }
   ],
   "source": [
    "query = \"\"\" SELECT MIN(TotalPayBenefits), MAX(TotalPayBenefits), AVG(TotalPayBenefits) from Salaries\"\"\"\n",
    "cur.execute(query)\n",
    "cur.fetchall()"
   ]
  },
  {
   "cell_type": "markdown",
   "metadata": {},
   "source": [
    "With the broad strokes established, mainly what possible values there are for each "
   ]
  },
  {
   "cell_type": "code",
   "execution_count": 13,
   "metadata": {},
   "outputs": [
    {
     "data": {
      "text/plain": [
       "[('Not provided', 0.0, 0.0),\n",
       " ('PUBLIC SAFETY COMMUNICATIONS TECHNICIAN', 149.51, 149.51),\n",
       " ('SPECIAL ASSISTANT XIV', 673.8, 673.8),\n",
       " ('BdComm Mbr, Grp2,M=$25/Mtg', 263.76612903225805, 475.0477419354839),\n",
       " ('BOARD/COMMISSION MEMBER, GROUP II', 296.51162790697674, 296.51162790697674),\n",
       " ('BOARD/COMMISSION MEMBER, GROUP III', 638.7878787878788, 638.7878787878788),\n",
       " ('BdComm Mbr, Grp3,M=$50/Mtg', 706.698275862069, 973.1060344827587),\n",
       " ('AIRPORT ASSISTANT DEPUTY DIRECTOR, BUSINESS ADMINI', 1927.5, 1927.5),\n",
       " ('Cashier 3', 2074.6, 2074.6),\n",
       " ('BOARD/COMMISSION MEMBER, GROUP V', 1195.9044642857145, 1195.9044642857145)]"
      ]
     },
     "execution_count": 13,
     "metadata": {},
     "output_type": "execute_result"
    }
   ],
   "source": [
    "query = \"\"\"SELECT DISTINCT JobTitle, AVG(TotalPay), AVG(TotalPayBenefits) from Salaries GROUP BY JobTitle ORDER BY TotalPayBenefits ASC\"\"\"\n",
    "cur.execute(query)\n",
    "cur.fetchmany(10)"
   ]
  },
  {
   "cell_type": "code",
   "execution_count": 14,
   "metadata": {},
   "outputs": [
    {
     "data": {
      "text/plain": [
       "[('Not provided', None, None, None, None),\n",
       " ('PUBLIC SAFETY COMMUNICATIONS TECHNICIAN', 0.0, 0.0, 100.0, 0.0),\n",
       " ('SPECIAL ASSISTANT XIV', 100.0, 0.0, 0.0, 0.0),\n",
       " ('BdComm Mbr, Grp2,M=$25/Mtg',\n",
       "  55.52413068160212,\n",
       "  0.0,\n",
       "  0.0,\n",
       "  44.47586931839788),\n",
       " ('BOARD/COMMISSION MEMBER, GROUP II', 100.0, 0.0, 0.0, 0.0)]"
      ]
     },
     "execution_count": 14,
     "metadata": {},
     "output_type": "execute_result"
    }
   ],
   "source": [
    "query = \"\"\"SELECT DISTINCT JobTitle,\n",
    "AVG(BasePay) / AVG(TotalPayBenefits) * 100 as BasePayPercentage,\n",
    "AVG(OvertimePay) / AVG(TotalPayBenefits) * 100 as OvertimePayPercentage,\n",
    "AVG(OtherPay) / AVG(TotalPayBenefits) * 100 as OtherPayPercentage,\n",
    "AVG(Benefits) / AVG(TotalPayBenefits) * 100 as BenefitsPercentage\n",
    "from Salaries GROUP BY JobTitle ORDER BY TotalPayBenefits ASC\"\"\"\n",
    "cur.execute(query)\n",
    "cur.fetchmany(5)"
   ]
  },
  {
   "cell_type": "code",
   "execution_count": 15,
   "metadata": {},
   "outputs": [
    {
     "data": {
      "text/plain": [
       "[('ACCOUNT CLERK', '', 83),\n",
       " ('ACCOUNTANT', '', 5),\n",
       " ('ACCOUNTANT INTERN', '', 48),\n",
       " ('ACPO,JuvP, Juv Prob (SFERS)', 'PT', 1),\n",
       " ('ACUPUNCTURIST', '', 1),\n",
       " ('ADMINISTRATIVE ANALYST', '', 93),\n",
       " ('ADMINISTRATIVE ANALYST II', '', 2),\n",
       " ('ADMINISTRATIVE ANALYST III', '', 2),\n",
       " ('ADMINISTRATIVE ENGINEER', '', 10),\n",
       " ('ADMINISTRATIVE SERVICES MANAGER', '', 3)]"
      ]
     },
     "execution_count": 15,
     "metadata": {},
     "output_type": "execute_result"
    }
   ],
   "source": [
    "query =\"\"\"SELECT JobTitle, Status, COUNT(Status) from Salaries GROUP BY JobTitle Order By JobTitle\"\"\"\n",
    "cur.execute(query)\n",
    "cur.fetchmany(10)"
   ]
  },
  {
   "cell_type": "code",
   "execution_count": 18,
   "metadata": {},
   "outputs": [
    {
     "data": {
      "text/plain": [
       "[('ACPO,JuvP, Juv Prob (SFERS)', 'PT', 1),\n",
       " ('Cashier 3', 'PT', 1),\n",
       " ('Chief Investment Officer', 'PT', 1),\n",
       " ('Conversion', 'PT', 1),\n",
       " ('Forensic Toxicologist Supervis', 'PT', 1)]"
      ]
     },
     "execution_count": 18,
     "metadata": {},
     "output_type": "execute_result"
    }
   ],
   "source": [
    "query = \"\"\"SELECT DISTINCT JobTitle, Status, Count(Status)\n",
    "from Salaries GROUP BY JobTitle ORDER BY Status DESC, JobTitle\"\"\"\n",
    "cur.execute(query)\n",
    "cur.fetchmany(5)"
   ]
  },
  {
   "cell_type": "code",
   "execution_count": null,
   "metadata": {},
   "outputs": [],
   "source": []
  }
 ],
 "metadata": {
  "kernelspec": {
   "display_name": "Python 3",
   "language": "python",
   "name": "python3"
  },
  "language_info": {
   "codemirror_mode": {
    "name": "ipython",
    "version": 3
   },
   "file_extension": ".py",
   "mimetype": "text/x-python",
   "name": "python",
   "nbconvert_exporter": "python",
   "pygments_lexer": "ipython3",
   "version": "3.12.1"
  }
 },
 "nbformat": 4,
 "nbformat_minor": 2
}
